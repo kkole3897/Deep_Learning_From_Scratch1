{
 "cells": [
  {
   "cell_type": "markdown",
   "metadata": {},
   "source": [
    "# 클래스"
   ]
  },
  {
   "cell_type": "code",
   "execution_count": 1,
   "metadata": {},
   "outputs": [
    {
     "name": "stdout",
     "output_type": "stream",
     "text": [
      "Initialized!\n",
      "Hello David!\n",
      "Good-bye David!\n"
     ]
    }
   ],
   "source": [
    "# class 연습하기\n",
    "\n",
    "class Man:\n",
    "    def __init__(self, name):\n",
    "        self.name = name\n",
    "        print ('Initialized!')\n",
    "        \n",
    "    def hello(self):\n",
    "        print ('Hello ' + self.name + '!')\n",
    "        \n",
    "    def goodbye(self):\n",
    "        print ('Good-bye ' + self.name + '!')\n",
    "        \n",
    "m = Man('David')\n",
    "m.hello()\n",
    "m.goodbye()"
   ]
  },
  {
   "cell_type": "markdown",
   "metadata": {},
   "source": [
    "# 넘파이 가져오기"
   ]
  },
  {
   "cell_type": "code",
   "execution_count": 10,
   "metadata": {},
   "outputs": [],
   "source": [
    "import numpy as np"
   ]
  },
  {
   "cell_type": "code",
   "execution_count": 3,
   "metadata": {},
   "outputs": [
    {
     "name": "stdout",
     "output_type": "stream",
     "text": [
      "[1. 2. 3.]\n",
      "<class 'numpy.ndarray'>\n"
     ]
    }
   ],
   "source": [
    "x = np.array([1.0, 2.0, 3.0])\n",
    "print (x)\n",
    "print (type(x))"
   ]
  },
  {
   "cell_type": "code",
   "execution_count": 4,
   "metadata": {},
   "outputs": [
    {
     "name": "stdout",
     "output_type": "stream",
     "text": [
      "[3. 5. 7.]\n",
      "[-1. -1. -1.]\n",
      "[ 2.  6. 12.]\n",
      "[0.5        0.66666667 0.75      ]\n",
      "[0.5 1.  1.5]\n"
     ]
    }
   ],
   "source": [
    "x = np.array([1.0, 2.0, 3.0])\n",
    "y = np.array([2.0, 3.0, 4.0])\n",
    "print (x+y)\n",
    "print (x-y)\n",
    "print (x*y)\n",
    "print (x/y)\n",
    "print (x/2)"
   ]
  },
  {
   "cell_type": "code",
   "execution_count": 19,
   "metadata": {},
   "outputs": [
    {
     "name": "stdout",
     "output_type": "stream",
     "text": [
      "[[1 2]\n",
      " [3 4]]\n",
      "(2, 2)\n",
      "int64\n",
      "[[ 4  2]\n",
      " [ 3 10]]\n"
     ]
    }
   ],
   "source": [
    "A = np.array([[1,2], [3,4]])\n",
    "print (A)\n",
    "print (A.shape)\n",
    "print (A.dtype)\n",
    "\n",
    "B = np.array([[3, 0], [0, 6]])\n",
    "print (A+B)"
   ]
  },
  {
   "cell_type": "code",
   "execution_count": 20,
   "metadata": {},
   "outputs": [
    {
     "name": "stdout",
     "output_type": "stream",
     "text": [
      "[[10 20]\n",
      " [30 40]]\n"
     ]
    }
   ],
   "source": [
    "print (A*10)"
   ]
  },
  {
   "cell_type": "code",
   "execution_count": 21,
   "metadata": {},
   "outputs": [
    {
     "data": {
      "text/plain": [
       "<Figure size 640x480 with 1 Axes>"
      ]
     },
     "metadata": {},
     "output_type": "display_data"
    }
   ],
   "source": [
    "import matplotlib.pyplot as plt\n",
    "\n",
    "x = np.arange(0, 6, 0.1)\n",
    "y1 = np.sin(x)\n",
    "y2 = np.cos(x)\n",
    "\n",
    "plt.plot(x, y1, label='sin')\n",
    "plt.plot(x, y2, linestyle='--', label='cos')\n",
    "plt.xlabel('x')\n",
    "plt.ylabel('y')\n",
    "plt.title('sin & cos')\n",
    "plt.legend()\n",
    "plt.show()"
   ]
  },
  {
   "cell_type": "code",
   "execution_count": 8,
   "metadata": {},
   "outputs": [
    {
     "data": {
      "text/plain": [
       "<function matplotlib.pyplot.show(*args, **kw)>"
      ]
     },
     "execution_count": 8,
     "metadata": {},
     "output_type": "execute_result"
    },
    {
     "data": {
      "image/png": "[encoded data removed]",
      "text/plain": [
       "<Figure size 432x288 with 1 Axes>"
      ]
     },
     "metadata": {
      "needs_background": "light"
     },
     "output_type": "display_data"
    }
   ],
   "source": [
    "from matplotlib.image import imread\n",
    "\n",
    "img=imread('test.png')\n",
    "\n",
    "plt.imshow(img)\n",
    "plt.show"
   ]
  },
  {
   "cell_type": "markdown",
   "metadata": {},
   "source": [
    "# 2. 퍼셉트론\n",
    "\n",
    "---\n",
    "\n",
    "__퍼셉트론__(perceptron)이란 프랑크 로젠블라트(Frank Rosenblatt)가 1957년에 고안한 알고리즘이다.\n",
    "\n",
    "퍼셉트론은 딥러닝의 기원이 되는 알고리즘이기 때문에 배워야 한다.\n",
    "\n",
    "### 목표\n",
    "\n",
    " 1. 퍼셉트론을 이용하여 기본적인 AND, OR, NAND gate 만들기. \n",
    " 2. 1에서 만든 회로을 조합하여 XOR를 만들기\n",
    "\n",
    "\n",
    "### 퍼셉트론이란?\n",
    "퍼셉트론의 작동방식은 상당히 직관적이기 때문에 사진과 수식을 보면 바로 이해가 될 것이다.\n",
    "\n",
    "\n",
    "\n",
    "\n",
    "\n",
    "\n",
    "$$y = \n",
    " \\begin{cases} \n",
    "    0 \\quad(w_1x_1 + w_2x_2 \\leq \\theta)\\\\\n",
    "    1 \\quad(w_1x_1 + w_2x_2 > \\theta) \\qquad 식[1]\\\\\n",
    "  \\end{cases}  \n",
    "$$ \n",
    "\n",
    "\n",
    "$$y = \n",
    " \\begin{cases} \n",
    "    0 \\quad(b + w_1x_1 + w_2x_2 \\leq 0)\\\\\n",
    "    1 \\quad(b + w_1x_1 + w_2x_2 > 0)\\qquad 식[2]\\\\ \n",
    "  \\end{cases}  \n",
    "$$ \n",
    "\n",
    "\n"
   ]
  },
  {
   "cell_type": "markdown",
   "metadata": {},
   "source": [
    "퍼셉트론에서 AND, OR, NAND gate의 구조적 차이는 없고 가중치 $w_i,\\, b$차이이다.\n",
    "\n",
    "그래서 가중치와 임계값에 따라 gate가 달라질 수 있다. \n",
    "\n",
    "### AND, NAND, OR gate"
   ]
  },
  {
   "cell_type": "code",
   "execution_count": 11,
   "metadata": {},
   "outputs": [],
   "source": [
    "def AND(x1, x2):\n",
    "    x = np.array([x1, x2])\n",
    "    w = np.array([.5, .5])\n",
    "    b = -0.7\n",
    "    tmp = np.sum(w*x)+b\n",
    "    if tmp <= 0:\n",
    "        return 0\n",
    "    else:\n",
    "        return 1\n",
    "    \n",
    "def NAND(x1, x2):\n",
    "    x = np.array([x1, x2])\n",
    "    w = np.array([-.5, -.5])\n",
    "    b = .7\n",
    "    tmp = np.sum(w*x)+b\n",
    "    if tmp <= 0:\n",
    "        return 0\n",
    "    else:\n",
    "        return 1\n",
    "    \n",
    "def OR(x1, x2):\n",
    "    x = np.array([x1, x2])\n",
    "    w = np.array([.5, .5])\n",
    "    b = -.2\n",
    "    tmp = np.sum(w*x)+b\n",
    "    if tmp <= 0:\n",
    "        return 0\n",
    "    else:\n",
    "        return 1\n"
   ]
  },
  {
   "cell_type": "code",
   "execution_count": 14,
   "metadata": {},
   "outputs": [
    {
     "name": "stdout",
     "output_type": "stream",
     "text": [
      "AND(0,0) : 0, NAND(0,0) : 1, OR(0,0) : 0\n",
      "AND(1,0) : 0, NAND(1,0) : 1, OR(1,0) : 1\n",
      "AND(0,1) : 0, NAND(0,1) : 1, OR(0,1) : 1\n",
      "AND(1,1) : 1, NAND(1,1) : 0, OR(1,1) : 1\n"
     ]
    }
   ],
   "source": [
    "print (\"AND(0,0) : {0}, NAND(0,0) : {1}, OR(0,0) : {2}\".format(AND(0,0), NAND(0,0), OR(0,0)))\n",
    "print (\"AND(1,0) : {0}, NAND(1,0) : {1}, OR(1,0) : {2}\".format(AND(1,0), NAND(1,0), OR(1,0)))\n",
    "print (\"AND(0,1) : {0}, NAND(0,1) : {1}, OR(0,1) : {2}\".format(AND(0,1), NAND(0,1), OR(0,1)))\n",
    "print (\"AND(1,1) : {0}, NAND(1,1) : {1}, OR(1,1) : {2}\".format(AND(1,1), NAND(1,1), OR(1,1)))"
   ]
  },
  {
   "cell_type": "markdown",
   "metadata": {},
   "source": [
    "### XOR gate\n",
    "\n",
    "<img src=\"../deep_learning_images/XOR.png\"  width=\"30%\" height=\"30%\" />\n",
    "\n",
    "AND, NAND, ORgate는 선형영역만 나눌 수 있는데 XORgate는 위와 같이 비선형영역도 나눌 수 있다.\n",
    "\n",
    "<img src=\"../deep_learning_images/XORgate.png\"  width=\"30%\" height=\"30%\" />\n"
   ]
  },
  {
   "cell_type": "code",
   "execution_count": 15,
   "metadata": {},
   "outputs": [],
   "source": [
    "def XOR(x1, x2):\n",
    "    s1 = NAND(x1, x2)\n",
    "    s2 = OR(x1, x2)\n",
    "    y = AND(s1, s2)\n",
    "    return y    "
   ]
  },
  {
   "cell_type": "code",
   "execution_count": 17,
   "metadata": {},
   "outputs": [
    {
     "name": "stdout",
     "output_type": "stream",
     "text": [
      "XOR(0,0) :  0\n",
      "XOR(1,0) :  1\n",
      "XOR(0,1) :  1\n",
      "XOR(1,1) :  0\n"
     ]
    }
   ],
   "source": [
    "print ('XOR(0,0) : ', XOR(0,0))\n",
    "print ('XOR(1,0) : ', XOR(1,0))\n",
    "print ('XOR(0,1) : ', XOR(0,1))\n",
    "print ('XOR(1,1) : ', XOR(1,1))"
   ]
  },
  {
   "cell_type": "markdown",
   "metadata": {},
   "source": [
    "# 3 신경망\n",
    "\n",
    "---\n",
    "\n",
    "__신경망__(neural network)이란 여러개의 퍼셉트론이 층을 이룬 구조이다. \n",
    "\n",
    "일반적으로 3개의 층으로 구성되어 있다. 첫 번째 층을 입력층, 두 번째 층을 은닉층, 마지막 층을 출력층이라고 한다.\n",
    "\n",
    "<img src=\"../deep_learning_images/ann.png\"  width=\"30%\" height=\"30%\" />\n",
    "\n"
   ]
  },
  {
   "cell_type": "markdown",
   "metadata": {},
   "source": [
    "## 활성화 함수\n",
    "\n",
    "중간에 은닉층을 보면 여러 입력층의 값을 받아 출력층으로 내보내는 것을 볼 수 있다. \n",
    "\n",
    "이때 입력 신호의 총합을 출력 신호로 변환해주는 함수를 활성화 함수라고 한다.\n",
    "\n",
    "앞으로 입력 신호의 총합을 $ a = b + w_1x_1 + w_2x_2 $, 활성화 함수를 $ h(a) $라고 하자"
   ]
  },
  {
   "cell_type": "markdown",
   "metadata": {},
   "source": [
    "### 시그모이드 함수  \n",
    "\n",
    "<img src=\"../deep_learning_images/sigmoid.png\"  width=\"30%\" height=\"30%\" />\n",
    "\n",
    "$$ h(a) = {{1} \\over {1+\\exp(-a)}} $$\n"
   ]
  },
  {
   "cell_type": "code",
   "execution_count": 22,
   "metadata": {
    "collapsed": true
   },
   "outputs": [
    {
     "data": {
      "image/png": "[encoded data removed]",
      "text/plain": [
       "<Figure size 432x288 with 1 Axes>"
      ]
     },
     "metadata": {
      "needs_background": "light"
     },
     "output_type": "display_data"
    }
   ],
   "source": [
    "def sigmoid(x):\n",
    "    return 1/(1+np.exp(-x))\n",
    "\n",
    "x = np.arange(-5.0, 5.0, 0.1)\n",
    "y = sigmoid(x)\n",
    "plt.plot(x, y)\n",
    "plt.ylim(-0.1, 1.1) #y축 범위 지정\n",
    "plt.show()"
   ]
  },
  {
   "cell_type": "markdown",
   "metadata": {},
   "source": [
    "### 계단 함수\n",
    "\n",
    "<img src=\"../deep_learning_images/step_func.png\"  width=\"30%\" height=\"30%\" />\n",
    "\n",
    "$$ h(a) = \n",
    "\\begin{cases} \n",
    "    1 \\quad(a > 0) \\\\\n",
    "    0 \\quad(a \\leq 0)\\\\\n",
    "  \\end{cases}$$"
   ]
  },
  {
   "cell_type": "code",
   "execution_count": 24,
   "metadata": {},
   "outputs": [
    {
     "name": "stdout",
     "output_type": "stream",
     "text": [
      "[False  True  True]\n",
      "[0 1 1]\n"
     ]
    }
   ],
   "source": [
    "# 방법 1\n",
    "def step_function(x):\n",
    "    y = x > 0\n",
    "    return y.astype(np.int)    \n",
    "\n",
    "x = np.array([-1.0, 1.0, 2.0])\n",
    "y = x > 0\n",
    "print (y)\n",
    "\n",
    "y = y.astype(np.int)\n",
    "print (y)"
   ]
  },
  {
   "cell_type": "code",
   "execution_count": 26,
   "metadata": {
    "collapsed": true
   },
   "outputs": [
    {
     "data": {
      "image/png": "[encoded data removed]",
      "text/plain": [
       "<Figure size 432x288 with 1 Axes>"
      ]
     },
     "metadata": {
      "needs_background": "light"
     },
     "output_type": "display_data"
    }
   ],
   "source": [
    "# 방법 2\n",
    "def step_function(x):\n",
    "    return np.array(x > 0, dtype=np.int)\n",
    "\n",
    "x = np.arange(-5.0, 5.0, 0.1)\n",
    "y = step_function(x)\n",
    "plt.plot(x, y)\n",
    "plt.ylim(-0.1, 1.1) # y축의 범위 지정\n",
    "plt.show()"
   ]
  },
  {
   "cell_type": "markdown",
   "metadata": {},
   "source": [
    "### ReLU함수\n",
    "\n",
    "<img src=\"../deep_learning_images/relu.png\"  width=\"30%\" height=\"30%\" />\n",
    "\n",
    "$$ h(a) = \n",
    "\\begin{cases} \n",
    "    a \\quad(a > 0) \\\\\n",
    "    0 \\quad(a \\leq 0)\\\\\n",
    "  \\end{cases}$$"
   ]
  },
  {
   "cell_type": "code",
   "execution_count": 28,
   "metadata": {
    "collapsed": true
   },
   "outputs": [
    {
     "data": {
      "image/png": "[encoded data removed]",
      "text/plain": [
       "<Figure size 432x288 with 1 Axes>"
      ]
     },
     "metadata": {
      "needs_background": "light"
     },
     "output_type": "display_data"
    }
   ],
   "source": [
    "def relu(x):\n",
    "    return np.maximum(0, x)\n",
    "\n",
    "x = np.arange(-5.0, 5.0, 0.1)\n",
    "y = relu(x)\n",
    "plt.plot(x, y)\n",
    "plt.ylim(-0.1, 5.0) # y축의 범위 지정\n",
    "plt.show()"
   ]
  },
  {
   "cell_type": "markdown",
   "metadata": {},
   "source": [
    "## 다차원 배열\n",
    "\n",
    "수 많은 데이터를 효율적으로 계산하기 위해 다차원 배열의 계산은 필수적이다!!"
   ]
  },
  {
   "cell_type": "markdown",
   "metadata": {},
   "source": [
    "### 행렬곱\n",
    "\n",
    "행렬 곱셈을 위해 numpy.dot() 함수를 이용한다.\n",
    "\n",
    "$ A \\times B = C $라는 행렬 계산을 할 때 반드시 A의 열 크기와 B의 행 크기가 일치해야 한다!\n"
   ]
  },
  {
   "cell_type": "markdown",
   "metadata": {},
   "source": [
    "<img src=\"../deep_learning_images/dot.png\"  width=\"30%\" height=\"30%\" />\n",
    "\n",
    "$$ A \\in M^{3\\times2}, B \\in M^{2\\times1}, C \\in M^{3\\times1} $$"
   ]
  },
  {
   "cell_type": "code",
   "execution_count": 26,
   "metadata": {},
   "outputs": [
    {
     "name": "stdout",
     "output_type": "stream",
     "text": [
      "(3, 2)\n",
      "(2,)\n",
      "[23 53 83]\n"
     ]
    }
   ],
   "source": [
    "A =  np.array([[1,2], [3,4], [5,6]])\n",
    "print (A.shape)\n",
    "\n",
    "B = np.array([7, 8])\n",
    "print (B.shape)\n",
    "print (np.dot(A, B))"
   ]
  },
  {
   "cell_type": "markdown",
   "metadata": {},
   "source": [
    "### 신경망에서의 행렬 곱\n",
    "\n",
    "<img src=\"../deep_learning_images/ann_dot.png\"  width=\"70%\" height=\"30%\" />"
   ]
  },
  {
   "cell_type": "code",
   "execution_count": 31,
   "metadata": {},
   "outputs": [
    {
     "name": "stdout",
     "output_type": "stream",
     "text": [
      "(2,)\n",
      "[[1 3 5]\n",
      " [2 4 6]]\n",
      "(2, 3)\n",
      "[ 5 11 17]\n"
     ]
    }
   ],
   "source": [
    "X = np.array([1,2])\n",
    "print (X.shape)\n",
    "\n",
    "W = np.array([[1, 3, 5], [2, 4, 6]])\n",
    "print (W)\n",
    "print (W.shape)\n",
    "\n",
    "Y = np.dot(X, W)\n",
    "print (Y)"
   ]
  },
  {
   "cell_type": "markdown",
   "metadata": {},
   "source": [
    "## 3층 신경망 구현하기\n",
    "\n",
    "입력층 2개, 첫 번째 은닉층은 3개, 두 번째 은닞층은 2개, 출력층은 2개의 뉴런으로 구성된 3층 신경망을 만들어보자!\n",
    "\n",
    "<img src=\"../deep_learning_images/3_layer.png\"  width=\"50%\" height=\"30%\" />\n",
    "\n"
   ]
  },
  {
   "cell_type": "markdown",
   "metadata": {},
   "source": [
    "### 각 층의 신호 전달 구현하기\n",
    "\n",
    "입력층에서 첫 번째 은닉층으로!\n",
    "\n",
    "<img src=\"../deep_learning_images/input2hidden.png\"  width=\"50%\" height=\"30%\" />"
   ]
  },
  {
   "cell_type": "code",
   "execution_count": 32,
   "metadata": {},
   "outputs": [
    {
     "name": "stdout",
     "output_type": "stream",
     "text": [
      "(2, 3)\n",
      "(2,)\n",
      "(3,)\n",
      "[0.3 0.7 1.1]\n",
      "[0.57444252 0.66818777 0.75026011]\n"
     ]
    }
   ],
   "source": [
    "#입력층에서 1층으로\n",
    "\n",
    "X = np.array([1.0 , 0.5])\n",
    "W1 = np.array([[0.1, 0.3, 0.5], [0.2, 0.4, 0.6]])\n",
    "B1= np.array([.1, .2, .3])\n",
    "\n",
    "print (W1.shape)\n",
    "print (X.shape)\n",
    "print (B1.shape)\n",
    "\n",
    "A1 = np.dot(X, W1) + B1\n",
    "Z1 = sigmoid(A1)\n",
    "\n",
    "print (A1)\n",
    "print (Z1)"
   ]
  },
  {
   "cell_type": "markdown",
   "metadata": {},
   "source": [
    "첫 번쨰 은닉층에서 두 번째 은닉층으로!\n",
    "\n",
    "<img src=\"../deep_learning_images/hidden2hidden.png\"  width=\"50%\" height=\"30%\" />"
   ]
  },
  {
   "cell_type": "code",
   "execution_count": 33,
   "metadata": {},
   "outputs": [
    {
     "name": "stdout",
     "output_type": "stream",
     "text": [
      "(3,)\n",
      "(3, 2)\n",
      "(2,)\n",
      "[0.51615984 1.21402696]\n",
      "[0.62624937 0.7710107 ]\n"
     ]
    }
   ],
   "source": [
    "#1층에서 2층으로\n",
    "\n",
    "W2 = np.array([[0.1, 0.4], [0.2, 0.5], [.3, .6]])\n",
    "B2= np.array([.1, .2])\n",
    "\n",
    "print (Z1.shape)\n",
    "print (W2.shape)\n",
    "print (B2.shape)\n",
    "\n",
    "A2 = np.dot(Z1, W2) + B2\n",
    "Z2 = sigmoid(A2)\n",
    "\n",
    "print (A2)\n",
    "print (Z2)"
   ]
  },
  {
   "cell_type": "markdown",
   "metadata": {},
   "source": [
    "두 번째 은닉층에서 출력층으로!!\n",
    "\n",
    "<img src=\"../deep_learning_images/hidden2out.png\"  width=\"50%\" height=\"30%\" />"
   ]
  },
  {
   "cell_type": "code",
   "execution_count": 35,
   "metadata": {},
   "outputs": [],
   "source": [
    "# 출력층의 활성화 함수로 항등 함수를 사용했다.\n",
    "def identify_function(x):\n",
    "    return x\n",
    "\n",
    "W3 = np.array([[.1, .3], [.2, .4]])\n",
    "B3 = np.array([.1, .2])\n",
    "\n",
    "A3 = np.dot(Z2, W3) + B3\n",
    "Y = identify_function(A3) # 혹은 Y = A3"
   ]
  },
  {
   "cell_type": "markdown",
   "metadata": {},
   "source": [
    "### 구현 정리"
   ]
  },
  {
   "cell_type": "code",
   "execution_count": 36,
   "metadata": {},
   "outputs": [
    {
     "name": "stdout",
     "output_type": "stream",
     "text": [
      "[0.31682708 0.69627909]\n"
     ]
    }
   ],
   "source": [
    "def init_network():\n",
    "    network = {}\n",
    "    network['W1'] = np.array([[0.1, 0.3, 0.5], [0.2, 0.4, 0.6]])\n",
    "    network['b1'] = np.array([.1, .2, .3])\n",
    "    network['W2'] = np.array([[0.1, 0.4], [0.2, 0.5], [.3, .6]])\n",
    "    network['b2'] = np.array([.1, .2])\n",
    "    network['W3'] = np.array([[.1, .3], [.2, .4]])\n",
    "    network['b3'] = np.array([.1, .2])\n",
    "    \n",
    "    return network\n",
    "\n",
    "def forward(network, x):\n",
    "    W1, W2, W3 = network['W1'], network['W2'], network['W3']\n",
    "    b1, b2, b3 = network['b1'], network['b2'], network['b3']\n",
    "    \n",
    "    a1 = np.dot(x, W1) + b1\n",
    "    z1 = sigmoid(a1)\n",
    "    a2 = np.dot(z1, W2) + b2\n",
    "    z2 = sigmoid(a2)\n",
    "    a3 = np.dot(z2, W3) + b3\n",
    "    y = identify_function(a3)\n",
    "    \n",
    "    return y\n",
    "\n",
    "network = init_network()\n",
    "x = np.array([1.0, .5])\n",
    "y = forward(network, x)\n",
    "print (y)"
   ]
  },
  {
   "cell_type": "markdown",
   "metadata": {},
   "source": [
    "## 출력층 설계하기"
   ]
  },
  {
   "cell_type": "markdown",
   "metadata": {},
   "source": [
    "### 항등 함수와 소프트맥스 함수 구현하기(항등함수는 생략)\n",
    "\n",
    "$$y_k = {{\\exp(a_k)} \\over {\\sum_{i=1}^{n} \\exp(a_i)}}$$\n",
    "\n",
    "<img src=\"../deep_learning_images/softmax.png\" width=\"20%\" height=\"20%\" /> "
   ]
  },
  {
   "cell_type": "code",
   "execution_count": 43,
   "metadata": {},
   "outputs": [],
   "source": [
    "def softmax(a):\n",
    "    exp_a = np.exp(a)\n",
    "    sum_exp_a = np.sum(exp_a)\n",
    "    y = exp_a / sum_exp_a\n",
    "    \n",
    "    return y"
   ]
  },
  {
   "cell_type": "markdown",
   "metadata": {},
   "source": [
    "### 소프트맥스 함수 구현 시 주의점\n",
    "\n",
    "큰 값을 그대로 지수로 넘겨버리면 컴퓨터가 표현할 수 있는 수를 넘어버리기 때문에 임의의 상수(입력값 중 최댓값)를 빼준 다음 지수로 넘겨준다.\n",
    "\n",
    "$$\\begin{align*}y_k = {\\exp(a_k) \\over \\sum_{i=1}^n \\exp(a_i)} &=  {C\\exp(a_k) \\over C\\sum_{i=1}^n \\exp(a_i)} \\\\ &=  {\\exp(a_k + \\log C) \\over \\sum_{i=1}^n \\exp(a_i + \\log C)} \\\\ &=  {\\exp(a_k + C') \\over \\sum_{i=1}^n \\exp(a_i + C')}\\end{align*}  $$"
   ]
  },
  {
   "cell_type": "code",
   "execution_count": 37,
   "metadata": {},
   "outputs": [
    {
     "name": "stdout",
     "output_type": "stream",
     "text": [
      "[nan nan nan]\n",
      "[  0 -10 -20]\n",
      "[9.99954600e-01 4.53978686e-05 2.06106005e-09]\n"
     ]
    },
    {
     "name": "stderr",
     "output_type": "stream",
     "text": [
      "/home/jiho8732/anaconda3/lib/python3.7/site-packages/ipykernel_launcher.py:2: RuntimeWarning: invalid value encountered in true_divide\n",
      "  \n"
     ]
    }
   ],
   "source": [
    "a = np.array([1010, 1000, 990])\n",
    "print (np.exp(a) / np.sum(np.exp(a)))\n",
    "\n",
    "c = np.max(a)\n",
    "print (a-c)\n",
    "print (np.exp(a-c) / np.sum(np.exp(a-c)))"
   ]
  },
  {
   "cell_type": "markdown",
   "metadata": {},
   "source": [
    "## 손글씨 숫자 인식\n",
    "\n",
    "### MNIST 데이터셋\n",
    "\n",
    "load_mnist함수는 읽은 MNIST 데이터를 (__훈련 이미지, 훈련 레이블__), (__시험 이미지, 시험 레이블__) 형식으로 반환합니다.\n",
    "\n",
    "파라미터로는 normalize, flatten, one_hot_label이 있습니다.\n",
    "\n",
    "    * normalize     : 입력 이미지의 픽셀값을 0.0~1.0 사이의 값으로 정규화\n",
    "    * flatten       : 입력 이미지를 1차원 배열로 만듬\n",
    "    * one_hot_label : 원핫인코딩 형태로 저장\n",
    "    \n",
    "    \n",
    "\n",
    "\n",
    "파이썬에는 __pickle__이라는 편리한 기능이 있다. 프로그램 실행 중에 특정 객체를 파일로 저장한다. 저장해둔 pickle 파일을 로드하면 실행 당시 객체를 즉시 복원할 수 있다."
   ]
  },
  {
   "cell_type": "code",
   "execution_count": 44,
   "metadata": {},
   "outputs": [
    {
     "name": "stdout",
     "output_type": "stream",
     "text": [
      "(60000, 784)\n",
      "(60000,)\n",
      "(10000, 784)\n",
      "(10000,)\n"
     ]
    }
   ],
   "source": [
    "import sys, os\n",
    "sys.path.append(os.pardir)   # 부모 디렉터리의 파일을 가져올 수 있도록 설정\n",
    "from dataset.mnist import load_mnist\n",
    "\n",
    "# 처음 한 번은 몇 분 정도 걸립니다.\n",
    "(x_train, t_train), (x_test, t_test) = \\\n",
    "    load_mnist(flatten=True, normalize=False)\n",
    "\n",
    "# 각 데이터의 형상 출력\n",
    "print (x_train.shape) # (60000, 784)\n",
    "print (t_train.shape) # (60000,)\n",
    "print (x_test.shape)  # (10000, 784)\n",
    "print (t_test.shape)  # (10000,)"
   ]
  },
  {
   "cell_type": "markdown",
   "metadata": {},
   "source": [
    "### 신경망의 추론 처리\n",
    "\n",
    "입력층 뉴런 : 784개            # 이미지 크기가 28$\\times$28\n",
    "\n",
    "출력층 뉴런 : 10개             # 구분해야 되는 숫자가 0~9\n",
    "\n",
    "\n",
    "첫 번째 은닉층 뉴런 : 50개\n",
    "\n",
    "두 번쨰 은닉층 뉴런 : 100개     # 임의로 정함"
   ]
  },
  {
   "cell_type": "code",
   "execution_count": 47,
   "metadata": {},
   "outputs": [
    {
     "name": "stdout",
     "output_type": "stream",
     "text": [
      "Accuracy : 0.9352\n"
     ]
    }
   ],
   "source": [
    "import pickle\n",
    "\n",
    "def get_data():\n",
    "    # 정규화를 했고 1차원 배열로 만들었다.\n",
    "    (x_train, t_train), (x_test, t_test) = \\\n",
    "        load_mnist(normalize=True, flatten=True, one_hot_label=False)\n",
    "    return x_test, t_test\n",
    "\n",
    "def init_network():\n",
    "    with open('sample_weight.pkl', 'rb') as f:\n",
    "        network = pickle.load(f)\n",
    "        \n",
    "    return network\n",
    "\n",
    "def predict(network, x):\n",
    "    W1, W2, W3 = network['W1'], network['W2'], network['W3']\n",
    "    b1, b2, b3 = network['b1'], network['b2'], network['b3']\n",
    "    \n",
    "    a1 = np.dot(x, W1) + b1\n",
    "    z1 = sigmoid(a1)\n",
    "    a2 = np.dot(z1, W2) + b2\n",
    "    z2 = sigmoid(a2)\n",
    "    a3 = np.dot(z2, W3) + b3\n",
    "    y = softmax(a3)\n",
    "    \n",
    "    return y\n",
    "\n",
    "x, t = get_data()\n",
    "network = init_network()\n",
    "\n",
    "accuracy_cnt = 0\n",
    "\n",
    "for i in range(len(x)):\n",
    "    y = predict(network, x[i])\n",
    "    p = np.argmax(y) # 확률이 가장 높은 원소의 인덱스를 얻는다.\n",
    "    if p == t[i]:\n",
    "        accuracy_cnt += 1\n",
    "        \n",
    "\n",
    "print ('Accuracy : ' + str(float(accuracy_cnt) / len(x)))        "
   ]
  },
  {
   "cell_type": "markdown",
   "metadata": {},
   "source": [
    "### 배치 처리\n",
    "\n",
    "효율적을 계산하기 위해 100개의 데이터를 한 묶음로 설정해 학습시킨다. 이때 묶음을 __배치__라 부른다.\n",
    "\n",
    "<img src=\"../deep_learning_images/matsizeflow.png\" width=\"50%\" height=\"50%\" /> "
   ]
  },
  {
   "cell_type": "code",
   "execution_count": 49,
   "metadata": {},
   "outputs": [
    {
     "name": "stdout",
     "output_type": "stream",
     "text": [
      "(100, 784)\n",
      "(784,)\n",
      "(784, 50)\n",
      "(50, 100)\n",
      "(100, 10)\n"
     ]
    }
   ],
   "source": [
    "x, _ = get_data()\n",
    "x = x[:100]\n",
    "network = init_network()\n",
    "W1, W2, W3 = network['W1'], network['W2'], network['W3']\n",
    "\n",
    "print (x.shape)\n",
    "print (x[0].shape)\n",
    "print (W1.shape)\n",
    "print (W2.shape)\n",
    "print (W3.shape)"
   ]
  },
  {
   "cell_type": "code",
   "execution_count": 50,
   "metadata": {},
   "outputs": [
    {
     "name": "stdout",
     "output_type": "stream",
     "text": [
      "Accuracy : 0.9352\n"
     ]
    }
   ],
   "source": [
    "x, t = get_data()\n",
    "network = init_network()\n",
    "\n",
    "batch_size = 100 # 배치 크기\n",
    "accuracy_cnt = 0\n",
    "\n",
    "for i in range(0, len(x), batch_size):\n",
    "    x_batch = x[i:i+batch_size]\n",
    "    y_batch = predict(network, x_batch)\n",
    "    p = np.argmax(y_batch, axis=1)\n",
    "    accuracy_cnt += np.sum(p == t[i:i+batch_size])\n",
    "    \n",
    "print ('Accuracy : ' + str(float(accuracy_cnt) / len(x)))    "
   ]
  },
  {
   "cell_type": "code",
   "execution_count": 51,
   "metadata": {},
   "outputs": [
    {
     "name": "stdout",
     "output_type": "stream",
     "text": [
      "[1 2 1 0]\n"
     ]
    }
   ],
   "source": [
    "'''\n",
    "<argmax에 대한 예시>\n",
    "argmax함수 파라미터'axis'를 기준으로 값이 가장 큰 값의 인덱스를 반환한다.\n",
    "'''\n",
    "x = np.array([[.1, .8, .1], [.3, .1, .6], [.2, .5, .3], [.8, .1, .1]])\n",
    "y = np.argmax(x, axis=1)\n",
    "print (y)"
   ]
  },
  {
   "cell_type": "code",
   "execution_count": 52,
   "metadata": {},
   "outputs": [
    {
     "name": "stdout",
     "output_type": "stream",
     "text": [
      "[ True  True False  True]\n",
      "3\n"
     ]
    }
   ],
   "source": [
    "y = np.array([1, 2, 1, 0])\n",
    "t = np.array([1, 2, 0, 0])\n",
    "print (y==t)\n",
    "print (np.sum(y==t))"
   ]
  },
  {
   "cell_type": "markdown",
   "metadata": {},
   "source": [
    "## 이번 장에서 배운 내용\n",
    "\n",
    "    * 신경망에서는 활성화 함수로 시그모이드 함수와 ReLU함수 같은 매끄럽게 변화하는 함수를 이용한다.\n",
    "    * 넘파이의 다차원 배열을 잘 사용하면 신경망을 효율적으로 구현할 수 있다.\n",
    "    * 기계학습 문제는 크게 회귀와 분류로 나눌 수 있다.\n",
    "    * 출력층의 활성화 함수로는 회귀에서는 주로 항등 함수를, 분류에서는 주로 소프트맥스 함수를 이용한다.\n",
    "    * 분류에서는 출력층을 뉴런 수를 분류하려는 클래스 수와 같게 설정한다.\n",
    "    * 입력 데이터를 묶은 것을 배치라 하며, 추론 처리를 이 배치 단위로 진행하면 결과를 훨씬 빠르게 얻을 수 있다.\n"
   ]
  },
  {
   "cell_type": "markdown",
   "metadata": {},
   "source": [
    "# 신경망 학습\n",
    "\n",
    "__학습__이란 훈련 데이터로부터 가중치 매개변수의 최적값을 자동으로 획득하는 것을 뜻한다.\n",
    "\n",
    "이번 장에서는 신경망이 학습할 수 있도록 해주는 __지표__인 손실 함수를 다룰 것이다.\n",
    "\n",
    "손실 함수의 결괏값을 가장 작게 만드는 가중치 매개변수를 찾아라!!\n",
    "\n",
    "가장 작게 만들기 위해 함수의 기울기를 활용하는 경사법을 사용하자!"
   ]
  },
  {
   "cell_type": "markdown",
   "metadata": {},
   "source": [
    "## 손실 함수\n",
    "\n",
    "### 평균 제곱 오차(Mean Square Error, MSE)\n",
    "\n",
    "$$ E = {1 \\over 2} \\sum_{k}(y_k-t_k)^2 $$\n",
    "\n",
    "$y_k$는 신경망의 출력값\n",
    "\n",
    "$t_k$는 정답 레이블\n",
    "\n",
    "k는 데이터의 차원 수"
   ]
  },
  {
   "cell_type": "code",
   "execution_count": 53,
   "metadata": {},
   "outputs": [
    {
     "name": "stdout",
     "output_type": "stream",
     "text": [
      "0.09750000000000003\n",
      "0.5975\n"
     ]
    }
   ],
   "source": [
    "def mean_squared_error(y, t):\n",
    "    return 0.5 * np.sum((y-t)**2)\n",
    "\n",
    "\n",
    "# 정답은 2\n",
    "t = [0, 0, 1, 0, 0, 0, 0, 0, 0, 0]\n",
    "\n",
    "# 예1 : '2'일 확률이 가장 높다고 추정함 (0.6)\n",
    "y = [.1, .05, .6, 0, .05, .1, 0, .1, 0, 0]\n",
    "print (mean_squared_error(np.array(y), np.array(t)))\n",
    "\n",
    "# 예2 : '7'일 확률이 가장 높다고 추정함 (.6)\n",
    "y = [.1, .05, .1, 0, .05, .1, 0, .6, 0, 0]\n",
    "print (mean_squared_error(np.array(y), np.array(t)))"
   ]
  },
  {
   "cell_type": "markdown",
   "metadata": {},
   "source": [
    "### 교차 엔트로피 오차(Cross Entropy Error, CEE)\n",
    "\n",
    "$$ E=-\\sum_{k}t_k\\log y_k$$\n",
    "\n",
    "이 문제에선 $y_k$는 신경망의 출력, $t_k$는 주어진 정답 레이블\n",
    "\n",
    "<질문>\n",
    "\n",
    "$t_k$가 원핫인코딩형태로 출력이 된다면 CEE는 실질적으로 그냥 $E= -\\sum_{k}\\log y_k$ 아닌가...?"
   ]
  },
  {
   "cell_type": "code",
   "execution_count": 58,
   "metadata": {},
   "outputs": [
    {
     "name": "stdout",
     "output_type": "stream",
     "text": [
      "0.510825457099338\n",
      "2.302584092994546\n"
     ]
    }
   ],
   "source": [
    "def cross_entropy_error(y, t):\n",
    "    #미소량 delta를 더해준 이유는 만약 y=0이라면 log값이 음의 무한대로 가버리는 것을 방지하기 위함이다/\n",
    "    delta = 1e-7\n",
    "    return -np.sum(t*np.log(y + delta))\n",
    "\n",
    "t = [0, 0, 1, 0, 0, 0, 0, 0, 0, 0]\n",
    "y = [.1, .05, .6, 0, .05, .1, 0, .1, 0, 0]\n",
    "print (cross_entropy_error(np.array(y), np.array(t)))\n",
    "\n",
    "y = [.1, .05, .1, 0, .05, .1, 0, .6, 0, 0]\n",
    "print (cross_entropy_error(np.array(y), np.array(t)))"
   ]
  },
  {
   "cell_type": "markdown",
   "metadata": {},
   "source": [
    "### 미니배치 학습\n",
    "\n",
    "$$ E = -{1 \\over N}\\sum_{n}\\sum_{k}t_{nk}logy_{nk}$$\n",
    "\n",
    "총 데이터가 $N$개, $t_{nk}$는 $n$ 번째 데이터의 $k$ 번째 값을 의미한다. \n",
    "\n",
    "미니배치 사이즈가 100일 때 $t_{21}$은 전체 데이터에서 201번째 데이터를 의미한다."
   ]
  },
  {
   "cell_type": "code",
   "execution_count": 54,
   "metadata": {},
   "outputs": [
    {
     "name": "stdout",
     "output_type": "stream",
     "text": [
      "(60000, 784)\n",
      "(60000, 10)\n"
     ]
    }
   ],
   "source": [
    "(x_train, t_train), (x_test, t_test) = load_mnist(normalize=True, one_hot_label=True)\n",
    "\n",
    "print (x_train.shape) # (60000, 784)\n",
    "print (t_train.shape) # (60000, 10)"
   ]
  },
  {
   "cell_type": "code",
   "execution_count": 55,
   "metadata": {},
   "outputs": [],
   "source": [
    "train_size = x_train.shape[0]\n",
    "batch_size = 10\n",
    "batch_mask = np.random.choice(train_size, batch_size)\n",
    "x_batch = x_train[batch_mask]\n",
    "t_batch = t_train[batch_mask]"
   ]
  },
  {
   "cell_type": "code",
   "execution_count": 57,
   "metadata": {},
   "outputs": [
    {
     "name": "stdout",
     "output_type": "stream",
     "text": [
      "[24820 23343 43869 51255 12025 29077 45538  2650 39743 25787]\n"
     ]
    }
   ],
   "source": [
    "# np.random.choice()\n",
    "# 지정한 범위의 수 중에서 무작위로 원하는 개수의 인덱스를 반환한다.\n",
    "\n",
    "print (np.random.choice(60000, 10))"
   ]
  },
  {
   "cell_type": "markdown",
   "metadata": {},
   "source": [
    "### (배치용) 교차 엔트로피 오차 구현하기"
   ]
  },
  {
   "cell_type": "code",
   "execution_count": 48,
   "metadata": {},
   "outputs": [],
   "source": [
    "# 정답레이블이 원핫인코딩인 경우\n",
    "def cross_entropy_error(y, t):\n",
    "    if y.ndim == 1:\n",
    "        t = t.reshape(1, t.size)\n",
    "        y = y.reshape(1, y.size)\n",
    "        \n",
    "    batch_size = y.shape[0]    \n",
    "    return -np.sum(t * np.log(y + 1e-7)) / batch_size"
   ]
  },
  {
   "cell_type": "code",
   "execution_count": 61,
   "metadata": {},
   "outputs": [
    {
     "data": {
      "text/plain": [
       "'\\n<y[np.arange(batch_size), t] 설명>\\n\\n예를 들어 batch_size=5이면 np.arange(batch_size)=[0, 1, 2, 3, 4] 이 때의 t=[2, 7, 0, 9, 4]이다.\\ny[np.arange(batch_size), t]=[y[0, 2], y[1, 7], y[2, 0], y[3, 9], y[4, 4]]인 numpy배열\\n\\n<질문>\\n그런데 위의 함수를 보면 shape이 (1,y.size)이다. y[0,2]는 존재할 수 있어도 y[1,7], y[2,0] 같은 위치가 존재할 수 있나??\\n'"
      ]
     },
     "execution_count": 61,
     "metadata": {},
     "output_type": "execute_result"
    }
   ],
   "source": [
    "# 정답레이블이 숫자레이블로 주어진 경우\n",
    "def cross_entropy_error(y, t):\n",
    "    if y.ndim == 1:\n",
    "        t = t.reshape(1, t.size)\n",
    "        y = y.reshape(1, y.size)\n",
    "        \n",
    "    batch_size = y.shape[0]    \n",
    "    return -np.sum(np.log(y[np.arange(batch_size), t] + 1e-7)) / batch_size\n",
    "\n",
    "\n",
    "'''\n",
    "<y[np.arange(batch_size), t] 설명>\n",
    "\n",
    "예를 들어 batch_size=5이면 np.arange(batch_size)=[0, 1, 2, 3, 4] 이 때의 t=[2, 7, 0, 9, 4]이다.\n",
    "y[np.arange(batch_size), t]=[y[0, 2], y[1, 7], y[2, 0], y[3, 9], y[4, 4]]인 numpy배열\n",
    "\n",
    "<질문>\n",
    "그런데 위의 함수를 보면 shape이 (1,y.size)이다. y[0,2]는 존재할 수 있어도 y[1,7], y[2,0] 같은 위치가 존재할 수 있나??\n",
    "'''\n",
    "\n"
   ]
  },
  {
   "cell_type": "markdown",
   "metadata": {},
   "source": [
    "### 왜 손실 함수를 설정하는가?\n",
    "\n",
    "높은 정확도를 원한다면 정확도를 올리면 되는데 왜 굳이 '손실 함수의 값'을 주목하는 걸까?\n",
    "\n",
    "최적의 매개변수를 탐색할 때 손실 함수의 값을 가능한 한 작게 하는 매개변수 값을 찾는다.\n",
    "\n",
    "이때 매개변수의 미분을 계산하고, 그 미분 값을 단서로 매개변수의 값을 서서히 갱신하는 과정을 반복하기 때문이다.\n",
    "\n",
    "그리고 정확도를 지표로 삼을 수 없는 이유는 미분 값이 대부분의 장소에서 0이 되어 매개변수를 갱신할 수 없기 때문이다."
   ]
  },
  {
   "cell_type": "markdown",
   "metadata": {},
   "source": [
    "## 수치 미분\n",
    "\n",
    "### 미분\n",
    "\n",
    "$${df(x) \\over dx} = \\lim_{h\\to0} {f(x+h)-f(x) \\over h}$$"
   ]
  },
  {
   "cell_type": "code",
   "execution_count": 62,
   "metadata": {},
   "outputs": [],
   "source": [
    "# 나쁜 구현 예\n",
    "# h값이 너무 작아 컴퓨터가 0으로 인식한다.\n",
    "def numerical_diff(f, x):\n",
    "    h = 10e-50\n",
    "    return (f(x+h) - f(x)) / h"
   ]
  },
  {
   "cell_type": "code",
   "execution_count": 63,
   "metadata": {},
   "outputs": [],
   "source": [
    "# 개선된 구현 예\n",
    "#(x+h)와ㅏ (x-h)일 때의 함수f의 차분을 계산해 오차를 줄인다.\n",
    "def numerical_diff(f, x):\n",
    "    h = 1e-4    # 0.0001\n",
    "    return (f(x+h) - f(x-h)) / (2*h)"
   ]
  },
  {
   "cell_type": "markdown",
   "metadata": {},
   "source": [
    "### 수치 미분의 예"
   ]
  },
  {
   "cell_type": "code",
   "execution_count": 52,
   "metadata": {},
   "outputs": [],
   "source": [
    "def function_1(x):\n",
    "    return 0.01*x**2 + 0.1*x"
   ]
  },
  {
   "cell_type": "code",
   "execution_count": 53,
   "metadata": {},
   "outputs": [
    {
     "data": {
      "image/png": "[encoded data removed]",
      "text/plain": [
       "<Figure size 432x288 with 1 Axes>"
      ]
     },
     "metadata": {
      "needs_background": "light"
     },
     "output_type": "display_data"
    }
   ],
   "source": [
    "x = np.arange(0, 20, .1) # 0에서 20까지 0.1 간격의 배열 x를 만든다(20은 미포함)\n",
    "y = function_1(x)\n",
    "plt.xlabel('x')\n",
    "plt.ylabel('f(x)')\n",
    "plt.plot(x, y)\n",
    "plt.show()"
   ]
  },
  {
   "cell_type": "code",
   "execution_count": 54,
   "metadata": {},
   "outputs": [
    {
     "name": "stdout",
     "output_type": "stream",
     "text": [
      "0.1999999999990898\n",
      "0.2999999999986347\n"
     ]
    }
   ],
   "source": [
    "print (numerical_diff(function_1, 5))\n",
    "print (numerical_diff(function_1, 10))"
   ]
  },
  {
   "cell_type": "markdown",
   "metadata": {},
   "source": [
    "### 편미분"
   ]
  },
  {
   "cell_type": "code",
   "execution_count": 55,
   "metadata": {},
   "outputs": [],
   "source": [
    "def function_2(x):\n",
    "    return x[0]**2 + x[1]**2\n",
    "    # 또는 return np.sum(x**2)"
   ]
  },
  {
   "cell_type": "code",
   "execution_count": 56,
   "metadata": {},
   "outputs": [
    {
     "name": "stdout",
     "output_type": "stream",
     "text": [
      "6.00000000000378\n",
      "7.999999999999119\n"
     ]
    }
   ],
   "source": [
    "# 문제1 x_0 = 3, x_1 = 4일 때, x_0에 대한 편미분을 구하라.\n",
    "def function_tmp1(x0):\n",
    "    return x0*x0 + 4.0**2\n",
    "print (numerical_diff(function_tmp1, 3.0))\n",
    "\n",
    "def function_tmp2(x1):\n",
    "    return 3**2 + x1*x1\n",
    "print (numerical_diff(function_tmp2, 4))"
   ]
  },
  {
   "cell_type": "markdown",
   "metadata": {},
   "source": [
    "## 기울기"
   ]
  },
  {
   "cell_type": "code",
   "execution_count": 57,
   "metadata": {},
   "outputs": [],
   "source": [
    "def numerical_gradient(f, x):\n",
    "    h = 1e-4  # 0.0001\n",
    "    grad = np.zeros_like(x)  # x와 형상이 같은 배열을 생성\n",
    "    \n",
    "    for idx in range(x.size):\n",
    "        tmp_val = x[idx]\n",
    "        \n",
    "        # f(x+h) 계산\n",
    "        x[idx] = tmp_val + h\n",
    "        fxh1 = f(x)\n",
    "        \n",
    "        # f(x-h) 계산\n",
    "        x[idx] = tmp_val - h\n",
    "        fxh2 = f(x)\n",
    "        \n",
    "        grad[idx] = (fxh1 - fxh2) / (2*h)\n",
    "        x[idx] = tmp_val # 값 복원\n",
    "        \n",
    "    return grad"
   ]
  },
  {
   "cell_type": "code",
   "execution_count": 58,
   "metadata": {},
   "outputs": [
    {
     "name": "stdout",
     "output_type": "stream",
     "text": [
      "[6. 8.]\n",
      "[0. 4.]\n",
      "[6. 0.]\n"
     ]
    }
   ],
   "source": [
    "print (numerical_gradient(function_2, np.array([3.0, 4.0])))\n",
    "print (numerical_gradient(function_2, np.array([0, 2.0])))\n",
    "print (numerical_gradient(function_2, np.array([3.0, 0])))"
   ]
  },
  {
   "cell_type": "markdown",
   "metadata": {},
   "source": [
    "### 경사법(경사 하강법)\n",
    "\n",
    "각 지점에서 함수의 값을 낮추는 방안을 제시하는 지표가 기울기이다.\n",
    "\n",
    "그러나 기울기가 가리키는 곳에 정말 함수의 최솟값이 있는지는 보장할 수 없다.\n",
    "\n",
    "실제로 복잡한 함수에서는 기울기가 가리키는 방향에 최솟값이 없는 경우가 대부분이다.\n",
    "\n",
    "$$x_0 = x_0 - \\eta{\\partial f \\over \\partial x_0}$$\n",
    "$$x_1 = x_1 - \\eta{\\partial f \\over \\partial x_1}$$\n",
    "$\\eta$는 __학습률__(learning rate)라고 한다."
   ]
  },
  {
   "cell_type": "code",
   "execution_count": 59,
   "metadata": {},
   "outputs": [],
   "source": [
    "def gradient_descent(f, init_x, lr=0.01, step_num=100):\n",
    "    x = init_x\n",
    "    \n",
    "    for i in range(step_num):\n",
    "        grad = numerical_gradient(f, x)\n",
    "        x -= lr * grad\n",
    "        \n",
    "    return x    "
   ]
  },
  {
   "cell_type": "code",
   "execution_count": 60,
   "metadata": {},
   "outputs": [
    {
     "name": "stdout",
     "output_type": "stream",
     "text": [
      "[-6.11110793e-10  8.14814391e-10]\n"
     ]
    }
   ],
   "source": [
    "def function_2(x):\n",
    "    return x[0]**2 + x[1]**2\n",
    "\n",
    "init_x = np.array([-3.0, 4.0])\n",
    "print (gradient_descent(function_2, init_x = init_x, lr=0.1, step_num=100))"
   ]
  },
  {
   "cell_type": "code",
   "execution_count": 61,
   "metadata": {},
   "outputs": [
    {
     "name": "stdout",
     "output_type": "stream",
     "text": [
      "[-2.58983747e+13 -1.29524862e+12]\n",
      "[-2.99999994  3.99999992]\n"
     ]
    }
   ],
   "source": [
    "# 학습률이 너무 큰 예 : lr=10\n",
    "init_x = np.array([-3.0, 4.0])\n",
    "print (gradient_descent(function_2, init_x=init_x, lr=10, step_num=100))\n",
    "\n",
    "# 학습률이 너무 작은 예 : lr=1e-10\n",
    "init_x = np.array([-3.0, 4.0])\n",
    "print (gradient_descent(function_2, init_x=init_x, lr=1e-10, step_num=100))"
   ]
  },
  {
   "cell_type": "markdown",
   "metadata": {},
   "source": [
    "### 신경망에서의 기울기\n",
    "\n",
    "사이즈가 $2\\times3$, 가중치가 __W__, 손실 함수가 __L__로 예를 들어 보자.\n",
    "\n",
    "이때 경사는 ${\\partial L \\over \\partial \\textbf{W}}$이다. 수식은 다음과 같다.\n",
    "\n",
    "$$ \\textbf{W} = \\begin{pmatrix} w_{11} & w_{12} & w_{13} \\\\ w_{21} & w_{22} & w_{23} \\end{pmatrix}$$\n",
    "$$ {\\partial L \\over \\partial \\textbf{W}} = \\begin{pmatrix} {\\partial L \\over \\partial w_{11}} & {\\partial L \\over \\partial w_{12}} & {\\partial L \\over \\partial w_{13}} \\\\ {\\partial L \\over \\partial w_{21}} & {\\partial L \\over \\partial w_{22}} & {\\partial L \\over \\partial w_{23}} \\end{pmatrix}$$"
   ]
  },
  {
   "cell_type": "code",
   "execution_count": 65,
   "metadata": {},
   "outputs": [],
   "source": [
    "from common.functions import softmax, cross_entropy_error\n",
    "from common.gradient import numerical_gradient\n",
    "\n",
    "class simpleNet:\n",
    "    def __init__(self):\n",
    "        self.W = np.random.randn(2, 3) # 정규분포로 초기화\n",
    "        \n",
    "    def predict(self, x)    :\n",
    "        return np.dot(x, self.W)\n",
    "    \n",
    "    def loss(self, x, t):\n",
    "        z = self.predict(x)\n",
    "        y = softmax(z)\n",
    "        loss = cross_entropy_error(y, t)\n",
    "        \n",
    "        return loss"
   ]
  },
  {
   "cell_type": "code",
   "execution_count": 66,
   "metadata": {},
   "outputs": [
    {
     "name": "stdout",
     "output_type": "stream",
     "text": [
      "[[ 0.79119826 -1.36844391 -0.22465247]\n",
      " [ 0.67290516  1.20115419  0.97860445]]\n",
      "[1.0803336  0.25997243 0.74595253]\n",
      "0\n",
      "1.1026602755641617\n"
     ]
    }
   ],
   "source": [
    "net = simpleNet()\n",
    "print (net.W)\n",
    "\n",
    "x = np.array([.6, .9])\n",
    "p = net.predict(x)\n",
    "print (p)\n",
    "print (np.argmax(p))\n",
    "\n",
    "t = np.array([0, 0, 1])\n",
    "print (net.loss(x, t))\n"
   ]
  },
  {
   "cell_type": "code",
   "execution_count": 67,
   "metadata": {},
   "outputs": [
    {
     "name": "stdout",
     "output_type": "stream",
     "text": [
      "[[ 0.27828614  0.12252176 -0.4008079 ]\n",
      " [ 0.4174292   0.18378265 -0.60121185]]\n"
     ]
    },
    {
     "data": {
      "text/plain": [
       "'\\n더 쉬운 방법\\nf = lambda W : net.loss(x, t)\\ndW = numerical_gradient(f, net.W)\\n'"
      ]
     },
     "execution_count": 67,
     "metadata": {},
     "output_type": "execute_result"
    }
   ],
   "source": [
    "def f(W):\n",
    "    return net.loss(x, t)\n",
    "\n",
    "dW = numerical_gradient(f, net.W)\n",
    "print (dW)\n",
    "\n",
    "'''\n",
    "더 쉬운 방법\n",
    "f = lambda W : net.loss(x, t)\n",
    "dW = numerical_gradient(f, net.W)\n",
    "'''"
   ]
  },
  {
   "cell_type": "markdown",
   "metadata": {},
   "source": [
    "## 학습 알고리즘 구현하기\n",
    "\n",
    "1. 미니배치\n",
    "   \n",
    "   훈련 데이터 중 일부를 무작위로 가져온다. 이렇게 선별한 데이터를 미니배치라 하며, 그 미니배치의 손실 함수 값을 줄이는 것이 목표\n",
    "   \n",
    "   (이때 데이터를 미니배치로 무작위로 선정하기 때문에 __확률적 경사 하강법__(Stochastic gradient descent. aka __SGD__)라고 한다.)\n",
    "\n",
    "\n",
    "2. 기울기 산출\n",
    "   \n",
    "   미니배치의 손실 함수 값을 줄이기 위해 각 가중치 매개변수의 기울기를 구한다. 기울기는 손실 함수의 값을 가장 작게 하는 방향을 제시한다.\n",
    " \n",
    "\n",
    "3. 매개변수 갱신\n",
    "   \n",
    "   가중치 매개변수를 기울기 방향으로 아주 조금 갱신합니다.\n",
    "   \n",
    "\n",
    "4. 반복\n",
    "   \n",
    "   1~3단계를 반복한다. "
   ]
  },
  {
   "cell_type": "markdown",
   "metadata": {},
   "source": [
    "### 2층 신경망 클래스 구현하기"
   ]
  },
  {
   "cell_type": "code",
   "execution_count": 68,
   "metadata": {},
   "outputs": [],
   "source": [
    "import sys, os\n",
    "sys.path.append(os.pardir)\n",
    "from common.functions import *\n",
    "from common.gradient import numerical_gradient\n",
    "\n",
    "class TwoLayerNet:\n",
    "    def __init__(self, input_size, hidden_size, output_size, weight_init_std=.01):\n",
    "        # 가충치 초기화\n",
    "        self.params = {}\n",
    "        self.params['W1'] = weight_init_std * np.random.randn(input_size, hidden_size)\n",
    "        self.params['b1'] = np.zeros(hidden_size)\n",
    "        self.params['W2'] = weight_init_std * np.random.randn(hidden_size, output_size)\n",
    "        self.params['b2'] = np.zeros(output_size)\n",
    "        \n",
    "        \n",
    "    def predict(self, x):\n",
    "        W1, W2 = self.params['W1'], self.params['W2']\n",
    "        b1, b2 = self.params['b1'], self.params['b2']\n",
    "    \n",
    "        a1 = np.dot(x, W1) + b1\n",
    "        z1 = sigmoid(a1)\n",
    "        a2 = np.dot(z1, W2) + b2\n",
    "        y = softmax(a2)\n",
    "    \n",
    "        return y\n",
    "\n",
    "\n",
    "    # x : 입력 데이터, t : 정답 레이블\n",
    "    def loss(self, x, t):\n",
    "        y = self.predict(x)\n",
    "    \n",
    "        return cross_entropy_error(y, t)\n",
    "\n",
    "\n",
    "    def accuracy(self, x, t):\n",
    "        y = self.predict(x)\n",
    "        y = np.argmax(y, axis=1)\n",
    "        t = np.argmax(t, axis=1)\n",
    "    \n",
    "        accuracy = np.sum(y == t) / float(x.shape[0])\n",
    "        return accuracy\n",
    "\n",
    "\n",
    "    # x : 입력 데이터, t : 정답 레이블\n",
    "    def numerical_gradient(self, x, t):\n",
    "        loss_W = lambda W: self.loss(x, t)\n",
    "    \n",
    "        grads = {}\n",
    "        grads['W1'] = numerical_gradient(loss_W, self.params['W1'])\n",
    "        grads['b1'] = numerical_gradient(loss_W, self.params['b1'])\n",
    "        grads['W2'] = numerical_gradient(loss_W, self.params['W2'])\n",
    "        grads['b2'] = numerical_gradient(loss_W, self.params['b2'])\n",
    "    \n",
    "        return grads"
   ]
  },
  {
   "cell_type": "code",
   "execution_count": 72,
   "metadata": {},
   "outputs": [
    {
     "name": "stdout",
     "output_type": "stream",
     "text": [
      "(784, 100)\n",
      "(100,)\n",
      "(100, 10)\n",
      "(10,)\n"
     ]
    }
   ],
   "source": [
    "net = TwoLayerNet(input_size=784, hidden_size=100, output_size=10)\n",
    "print (net.params['W1'].shape) # (784, 100)\n",
    "print (net.params['b1'].shape) # (100,)\n",
    "print (net.params['W2'].shape) # (100, 10)\n",
    "print (net.params['b2'].shape) # (10,)"
   ]
  },
  {
   "cell_type": "code",
   "execution_count": 73,
   "metadata": {},
   "outputs": [],
   "source": [
    "x = np.random.rand(100, 784) # 더미 입력 데이터 (100장 분량)\n",
    "y = net.predict(x)"
   ]
  },
  {
   "cell_type": "code",
   "execution_count": 74,
   "metadata": {},
   "outputs": [
    {
     "name": "stdout",
     "output_type": "stream",
     "text": [
      "(784, 100)\n",
      "(100,)\n",
      "(100, 10)\n",
      "(10,)\n"
     ]
    }
   ],
   "source": [
    "x = np.random.rand(100, 784) # 더미 입력 데이터 (100장 분량)\n",
    "t = np.random.rand(100, 10)  # 더미 정답 레이블 (100장 분량)\n",
    "\n",
    "grads = net.numerical_gradient(x, t) # 기울기 계산\n",
    "\n",
    "print (grads['W1'].shape) # (784, 100)\n",
    "print (grads['b1'].shape) # (100,)\n",
    "print (grads['W2'].shape) # (100, 10)\n",
    "print (grads['b2'].shape) # (10,)"
   ]
  },
  {
   "cell_type": "markdown",
   "metadata": {},
   "source": [
    "### 미니배치 학습 구현하기"
   ]
  },
  {
   "cell_type": "code",
   "execution_count": null,
   "metadata": {},
   "outputs": [],
   "source": [
    "import numpy as np\n",
    "from dataset.mnist import load_mnist\n",
    "from ch04.two_layer_net import TwoLayerNet\n",
    "\n",
    "(x_train, t_train), (x_test, t_test) = load_mnist(normalize=True, one_hot_label=True)\n",
    "\n",
    "train_loss_list = []\n",
    "\n",
    "# 하이퍼파라미터\n",
    "iters_num = 10000 # 반복 횟수\n",
    "train_size = x_train.shape[0]\n",
    "batch_size = 100 # 비니배치 크기\n",
    "learning_rate = .1\n",
    "\n",
    "network = TwoLayerNet(input_size = 784, hidden_size = 100, output_size = 10)\n",
    "\n",
    "for i in range(iters_num):\n",
    "    # 미니배치 획득\n",
    "    batch_mask = np.random.choice(train_size, batch_size)\n",
    "    x_batch = x_train[batch_mask]\n",
    "    t_batch = t_train[batch_mask]\n",
    "    \n",
    "    #기울기 계산\n",
    "    grad = network.numerical_gradient(x_batch, t_batch)\n",
    "    # grad = network.gradient(x_batch, t_batch) # 성능 개선판!!\n",
    "    \n",
    "    # 매개변수 갱신\n",
    "    for key in ('W1', 'b1', 'W2', 'b2'):\n",
    "        network.params[key] -= learning_rate * grad[key]\n",
    "        \n",
    "    # 학습 경과 기록\n",
    "    loss = network.loss(x_batch, t_batch)\n",
    "    train_loss_list.append(loss)"
   ]
  },
  {
   "cell_type": "markdown",
   "metadata": {},
   "source": [
    "<img src=\"../deep_learning_images/miniloss.png\" width=\"80%\" height=\"50%\" /> "
   ]
  },
  {
   "cell_type": "markdown",
   "metadata": {},
   "source": [
    "### 시험 데이터로 평가하기"
   ]
  },
  {
   "cell_type": "code",
   "execution_count": null,
   "metadata": {},
   "outputs": [],
   "source": [
    "import numpy as np\n",
    "from dataset.mnist import load_mnist\n",
    "from ch04.two_layer_net import TwoLayerNet\n",
    "\n",
    "(x_train, t_train), (x_test, t_test) = load_mnist(normalize=True, one_hot_label=True)\n",
    "\n",
    "network = TwoLayerNet(input_size = 784, hidden_size = 50, output_size = 10)\n",
    "\n",
    "iters_num = 10000 # 반복 횟수\n",
    "train_size = x_train.shape[0]\n",
    "batch_size = 100 # 비니배치 크기\n",
    "learning_rate = .1\n",
    "\n",
    "\n",
    "train_loss_list = []\n",
    "train_acc_list = []\n",
    "test_acc_list = []\n",
    "\n",
    "# 1에폭당 반복 수\n",
    "iter_per_epoch = max(train_size / batch_size, 1)\n",
    "\n",
    "for i in range(iters_num):\n",
    "    # 미니배치 획득\n",
    "    batch_mask = np.random.choice(train_size, batch_size)\n",
    "    x_batch = x_train[batch_mask]\n",
    "    t_batch = t_train[batch_mask]\n",
    "    \n",
    "    # 기울기 계산\n",
    "    grad = network.numerical_gradient(x_batch, t_batch)\n",
    "    # grad = network.gradient(x_bathc, t_batch) # 성능 개선판!\n",
    "    \n",
    "    # 매개변수 갱신\n",
    "    for ket in ('W1', 'b1', 'W2', 'b2'):\n",
    "        network.params[key] -= learning_rate * grad[key]\n",
    "        \n",
    "    # 학습 경과 기록\n",
    "    loss = network.loss(x_batch, t_batch)\n",
    "    train_loss_list.append(loss)\n",
    "    \n",
    "    # 1에폭당 정확도 계산\n",
    "    if i % iter_per_epoch == 0:\n",
    "        train_acc = network.accuracy(x_train, t_train)\n",
    "        test_acc = network.accuracy(x_test, t_test)\n",
    "        train_acc_list.append(train_acc)\n",
    "        test_acc_list.append(test_acc)\n",
    "        print (('train acc, test acc : ' + str(train_acc) + ', ' + str(test_acc))"
   ]
  },
  {
   "cell_type": "markdown",
   "metadata": {},
   "source": [
    "<img src=\"../deep_learning_images/trainNtest_acc.png\" width=\"50%\" height=\"20%\" /> "
   ]
  },
  {
   "cell_type": "markdown",
   "metadata": {},
   "source": [
    "## 이번 장에서 배운 내용\n",
    "\n",
    "    * 기계학습에서 사용하는 데이터셋은 훈련 데이터와 실험 데이터로 나눠 사용한다.\n",
    "    * 훈련 데이터로 학습한 모델의 범용 능력을 시험 데이터로 평가한다.\n",
    "    * 신경망 학습은 손실 함수를 지표로 손실\n",
    "    * 함수의 값이 작아지는 방향으로 가중치 매개변수를 갱신한다.\n",
    "    * 가중치 매개변수를 갱신할 때는 가중치 매개변수의 기울기를 이용하고, 기울어진 방향으로 가중치의 값을\n",
    "      갱신하는 작업을 반복ㅎ나다.\n",
    "    * 아주 작은 값을 주었을 때의 차분으로 미분하는 것을 수치 미분이라고 한다.\n",
    "    * 수치 미분을 이용해 가중치 매개변수의 기울기를 구할 수 있다.\n",
    "    * 수치 미분을 이용한 계산에는 시간이 걸리지만, 그 구현은 간단하다. 한편, 다음 장에서 구현하는 (다소 복잡한)\n",
    "      오차역전파법은 기울기를 고속으로 구할 수 있다."
   ]
  },
  {
   "cell_type": "markdown",
   "metadata": {},
   "source": [
    "# 5. 오차역전파법\n",
    "\n",
    "앞 장에서는 수치 미분을 통해 가중치의 매개변수의 기울기를 구했는데 시간이 오래 걸린다는 단점이 있다.\n",
    "\n",
    "이번 장에서 __오차역전파법__을 통해 매개변수의 기울기를 효율적으로 계산해보자!"
   ]
  },
  {
   "cell_type": "markdown",
   "metadata": {},
   "source": [
    "## 계산 그래프\n",
    "\n",
    "__계산 그래프__는 계산 과정을 그래프로 나타낸 것이다.\n",
    "\n",
    "여기서 그래프는 그래프 자료구조로, __노드__와 __에지__로 표현된다."
   ]
  },
  {
   "cell_type": "markdown",
   "metadata": {},
   "source": [
    "### 곱셈 노드의 역전파\n",
    "\n",
    "$ z = xy $라는 식을 생각해보자.\n",
    "\n",
    "$${\\partial z \\over \\partial x} = y$$\n",
    "$${\\partial z \\over \\partial y} = x$$\n",
    "\n",
    "<img src=\"../deep_learning_images/backprop.png\" width=\"70%\" height=\"50%\" /> \n",
    "\n",
    "곱셈 노트 역전파는 상류의 값에 순전파 때의 입력 신호들을 바꿔 곱해서 하류로 보낸다.\n"
   ]
  },
  {
   "cell_type": "markdown",
   "metadata": {},
   "source": [
    "### 5.4.1 곱셈 계층\n",
    "\n",
    "흐음...그냥 대충 이해하자면 알겠는데 왜 다시 생각해보면 뭔가 찝찝하네...\n",
    "\n",
    "뭐 떄문에 그렇지??"
   ]
  },
  {
   "cell_type": "code",
   "execution_count": null,
   "metadata": {},
   "outputs": [],
   "source": [
    "class MulLayer:\n",
    "    def __init__(self):\n",
    "        self.x = None\n",
    "        self.y = None\n",
    "\n",
    "    def forward(self, x, y):\n",
    "        self.x = x\n",
    "        self.y = y                \n",
    "        out = x * y\n",
    "\n",
    "        return out\n",
    "\n",
    "    def backward(self, dout):\n",
    "        dx = dout * self.y  # x와 y를 바꾼다.\n",
    "        dy = dout * self.x\n",
    "\n",
    "        return dx, dy"
   ]
  },
  {
   "cell_type": "code",
   "execution_count": null,
   "metadata": {},
   "outputs": [],
   "source": [
    "apple = 100\n",
    "apple_num = 2\n",
    "tax = 1.1\n",
    "\n",
    "# 계층들\n",
    "mul_apple_layer = MulLayer()\n",
    "mul_tax_layer = MulLayer\n",
    "\n",
    "# 순전파\n",
    "apple_price = mul_apple_layer.forward(apple, apple_num)\n",
    "price = mul_tax_layer.forward(apple_price, tax)\n",
    "\n",
    "print (price) # 200"
   ]
  },
  {
   "cell_type": "code",
   "execution_count": null,
   "metadata": {},
   "outputs": [],
   "source": [
    "dprice = 1\n",
    "dapple_price, dtax = mul_tax_layer.backward(dprice)\n",
    "dapple, dapple_num = mul_apple_layer.backward(dapple_price)\n",
    "\n",
    "print (dapple, dapple_num, dtax) # 2.2 110 200"
   ]
  },
  {
   "cell_type": "markdown",
   "metadata": {},
   "source": [
    "### 5.4.2 덧셈 계층"
   ]
  },
  {
   "cell_type": "code",
   "execution_count": null,
   "metadata": {},
   "outputs": [],
   "source": [
    "class AddLayer:\n",
    "    def __init__(self):\n",
    "        pass\n",
    "    \n",
    "    def forward(self, x, y):\n",
    "        out = x + y\n",
    "        return out\n",
    "    \n",
    "    def  backward(self, dout):\n",
    "        dx = dout * 1\n",
    "        dy = dout * 1\n",
    "        return dx, dy"
   ]
  },
  {
   "cell_type": "code",
   "execution_count": null,
   "metadata": {},
   "outputs": [],
   "source": [
    "apple = 100\n",
    "apple_num = 2\n",
    "orange = 150\n",
    "orange_num = 3\n",
    "tax = 1.1\n",
    "\n",
    "# 계층들 \n",
    "mul_apple_layer = MulLayer()\n",
    "mul_orange_layer = MulLayer()\n",
    "add_apple_orange_layer = MulLayer()\n",
    "mul_tax_layer = MulLayer()\n",
    "\n",
    "# 순전파\n",
    "apple_price = mul_apple_layer.forward(apple, apple_num) # (1)\n",
    "orange_price = mul_orange_layer.forward(orange, orange_num) # (2)\n",
    "all_price = add_apple_orange_layer.forward(apple_price, orange_price) # (3)\n",
    "price = mul_tax_layer.forward(all_price_tax) # (4)\n",
    "\n",
    "# 역전파\n",
    "dprice = 1\n",
    "dall_price, dtax = mul_tax_layer.backward(dprice) # (4)\n",
    "dapple_price, dorange_price = add_apple_range_layer.backward(dall_price) # (3)\n",
    "dorange, dorange_num = mul_orange_layer.backward(dorange_price) # (2)\n",
    "dapple, dapple_num = mul_apple_layer.backward(dapple_price) # (1)\n",
    "\n",
    "print (price) # 715\n",
    "print (dapple_num, dapple, dorange, dorange_num, dtax) # 110 2.2 3.3 165 650\n"
   ]
  },
  {
   "cell_type": "markdown",
   "metadata": {},
   "source": [
    "## 활성화 삼수 계층 구현하기"
   ]
  },
  {
   "cell_type": "markdown",
   "metadata": {},
   "source": [
    "### ReLU 계층\n",
    "\n",
    "ReLU 수식의 미분은 다음과 같다.\n",
    "\n",
    "$$ {\\partial y \\over \\partial x} = \n",
    "\\begin{cases} \n",
    "    1 \\quad(x > 0) \\\\\n",
    "    0 \\quad(x \\leq 0)\\\\\n",
    "  \\end{cases}$$\n",
    "  \n",
    "<img src=\"../deep_learning_images/reluback.png\" width=\"70%\" height=\"50%\" />"
   ]
  },
  {
   "cell_type": "code",
   "execution_count": 69,
   "metadata": {},
   "outputs": [],
   "source": [
    "class Relu:\n",
    "    def __init__(self):\n",
    "        self.mask = None\n",
    "        \n",
    "    def forward(self, x):\n",
    "        self.mask = (x <= 0)\n",
    "        out = x.copy()\n",
    "        out[self.mask] = 0\n",
    "        \n",
    "        return out\n",
    "    \n",
    "    def backwar(self, dout):\n",
    "        dout[self.mask] = 0\n",
    "        dx = dout\n",
    "        \n",
    "        return dx "
   ]
  },
  {
   "cell_type": "code",
   "execution_count": 70,
   "metadata": {},
   "outputs": [
    {
     "name": "stdout",
     "output_type": "stream",
     "text": [
      "[[ 1.  -0.5]\n",
      " [-2.   3. ]]\n",
      "[[False  True]\n",
      " [ True False]]\n"
     ]
    }
   ],
   "source": [
    "x = np.array([[1.0, -0.5], [-2.0, 3.0]])\n",
    "print (x)\n",
    "\n",
    "mask = (x <= 0)\n",
    "print (mask)"
   ]
  },
  {
   "cell_type": "markdown",
   "metadata": {},
   "source": [
    "### Sigmoid 계층\n",
    "\n",
    "Sigmoid 계층의 순전파 계산 그래프는 다음과 같다.\n",
    "\n",
    "<img src=\"../deep_learning_images/sigmoidforward.png\" width=\"70%\" height=\"50%\" />\n",
    "\n",
    "### 1단계\n",
    "\n",
    "'/' 노드, 즉 $y={1 \\over x}$을 미분하면 다음과 같다.\n",
    "\n",
    "$$\\begin{align*}{\\partial y \\over \\partial x} &= -{1 \\over x^2} \\\\\n",
    "&= -y^2\\end{align*}$$\n",
    "\n",
    "<img src=\"../deep_learning_images/sigmoidforward2.png\" width=\"70%\" height=\"50%\" />\n",
    "\n",
    "### 2단계\n",
    "\n",
    "'+'노드는 상류의 값을 여과 없이 하루로 내보내는게 끝이다.\n",
    "\n",
    "<img src=\"../deep_learning_images/sigmoidforward3.png\" width=\"70%\" height=\"50%\" />\n",
    "\n",
    "\n",
    "### 3단계\n",
    "\n",
    "'exp'노드는 $y=\\exp(x)$ 연산을 수행하여, 미분은 다음과 같다.\n",
    "\n",
    "$${\\partial y \\over \\partial x} = \\exp (x)$$\n",
    "\n",
    "<img src=\"../deep_learning_images/sigmoidforward4.png\" width=\"70%\" height=\"50%\" />\n",
    "\n",
    "### 4단계\n",
    "\n",
    "'$\\times$'노드는 순전파 때의 값을 '서로 바꿔' 곱합니다.\n",
    "\n",
    "<img src=\"../deep_learning_images/sigmoidforward5.png\" width=\"70%\" height=\"50%\" />\n",
    "\n",
    "\n",
    "$$\\begin{align*}{\\partial \\textbf {L} \\over \\partial y}y^2 \\exp(-x) &= {\\partial \\textbf {L} \\over \\partial y}\n",
    "{1 \\over (1+\\exp(-x))^2} \\exp(-x) \\\\ \n",
    "&= {\\partial \\textbf {L} \\over \\partial y}\n",
    "{1 \\over 1+\\exp(-x)} {\\exp(-x) \\over 1+\\exp(-x)} \\\\\n",
    "&= {\\partial \\textbf {L} \\over \\partial y}y(1-y) \\end{align*}$$\n",
    "\n"
   ]
  },
  {
   "cell_type": "code",
   "execution_count": 76,
   "metadata": {},
   "outputs": [],
   "source": [
    "class Sigmoid:\n",
    "    def __init__(self):\n",
    "        self.out = None\n",
    "        \n",
    "    def forward(self, x):\n",
    "        out = 1 / (1 +np.exp(-x))\n",
    "        self.out = out\n",
    "        \n",
    "        return out\n",
    "    \n",
    "    def backward(self, dout):\n",
    "        dx = dout * (1 - self.out) * self.out\n",
    "        \n",
    "        return dx"
   ]
  },
  {
   "cell_type": "markdown",
   "metadata": {},
   "source": [
    "## Affine/Softmax 계층 구현하기\n",
    "\n",
    "###  배치용 Affine 계층"
   ]
  },
  {
   "cell_type": "code",
   "execution_count": 80,
   "metadata": {},
   "outputs": [
    {
     "name": "stdout",
     "output_type": "stream",
     "text": [
      "[[ 0  0  0]\n",
      " [10 10 10]]\n",
      "[[ 1  2  3]\n",
      " [11 12 13]]\n",
      "[[1 2 3]\n",
      " [4 5 6]]\n",
      "[5 7 9]\n"
     ]
    }
   ],
   "source": [
    "# 순전파 편향 덧셈\n",
    "X_dot_W = np.array([[0, 0, 0], [10, 10, 10]])\n",
    "B = np.array([1, 2, 3])\n",
    "\n",
    "print (X_dot_W)\n",
    "print (X_dot_W + B)\n",
    "\n",
    "# 역전파 편향 덧셈\n",
    "dY = np.array([[1, 2, 3], [4, 5, 6]])\n",
    "print (dY)\n",
    "dB = np.sum(dY, axis=0)\n",
    "print (dB)"
   ]
  },
  {
   "cell_type": "code",
   "execution_count": 81,
   "metadata": {},
   "outputs": [],
   "source": [
    "class Affine:\n",
    "    def __init__(self, W, b):\n",
    "        self.W = W\n",
    "        self.b = b\n",
    "        self.x = None\n",
    "        self.dW = None\n",
    "        self.db = None\n",
    "        \n",
    "    def forward(self, x):\n",
    "        self.x = x\n",
    "        out = np.dot(x, self.W) + self.b\n",
    "        \n",
    "        return out\n",
    "    \n",
    "    def backward(self, dout):\n",
    "        dx = np.dot(dout, self.W.T)\n",
    "        self.dW = np.dot(self.x.T, dout)\n",
    "        self.db = np.sum(dout, axis=0)\n",
    "        \n",
    "        return dx        "
   ]
  },
  {
   "cell_type": "markdown",
   "metadata": {},
   "source": [
    "### Softmax-with-Loss 계층"
   ]
  },
  {
   "cell_type": "code",
   "execution_count": 82,
   "metadata": {},
   "outputs": [],
   "source": [
    "class SoftmaxWithLoss:\n",
    "    def __inti__(self):\n",
    "        self.loss = None # 손실\n",
    "        self.y = None # softmax의 출력\n",
    "        self.t = None # 정답 레이블(원핫벡터)\n",
    "        \n",
    "    def forward(self, x, t):\n",
    "        self.t = t\n",
    "        self.y = softmax(x)\n",
    "        self.loss = cross_entropy_error(self.y, self.t)\n",
    "        return self.loss\n",
    "    \n",
    "    def backwar(self, dout=1):\n",
    "        batch_size = self.t.shape[0]\n",
    "        dx = (self.y - self.t) / batch_size\n",
    "        \n",
    "        return dx\n",
    "        "
   ]
  },
  {
   "cell_type": "markdown",
   "metadata": {},
   "source": [
    "## 오차역전파법 구현하기\n",
    "\n",
    "### 신경망 학습의 전체 그림\n",
    "\n",
    "1. 미니배치\n",
    "   \n",
    "   훈련 데이터 중 일부를 무작위로 가져옵니다. 이렇게 선별한 데이터를 미니배치라 하며, 그 미니배치의 손실 함수 값을 줄이는 것이 목표입니다.\n",
    "   \n",
    "\n",
    "2. 기울기 산출\n",
    "\n",
    "   미니배치의 손실 함수 값을 줄이기 위해 각 가중치 매개변수의 기울기를 궇바니다. 기울기는 손실 함수의 값을 가장 작게 하는 방향을 제시합니다.\n",
    "   \n",
    "\n",
    "3. 매개변수 갱신\n",
    "    \n",
    "   가중치 매개변수를 기울기 방향으로 아주 조금 갱신합니다.\n",
    "   \n",
    "\n",
    "4. 반복\n",
    "    \n",
    "   1~3 단계를 반복합니다. "
   ]
  },
  {
   "cell_type": "markdown",
   "metadata": {},
   "source": [
    "### 오차역전파법을 적용한 신경망 구현하기"
   ]
  },
  {
   "cell_type": "code",
   "execution_count": 87,
   "metadata": {
    "collapsed": true
   },
   "outputs": [
    {
     "ename": "NameError",
     "evalue": "name 'self' is not defined",
     "output_type": "error",
     "traceback": [
      "\u001b[0;31m---------------------------------------------------------------------------\u001b[0m",
      "\u001b[0;31mNameError\u001b[0m                                 Traceback (most recent call last)",
      "\u001b[0;32m<ipython-input-87-c6fc610684f5>\u001b[0m in \u001b[0;36m<module>\u001b[0;34m\u001b[0m\n\u001b[1;32m      6\u001b[0m \u001b[0;32mfrom\u001b[0m \u001b[0mcollections\u001b[0m \u001b[0;32mimport\u001b[0m \u001b[0mOrderedDict\u001b[0m\u001b[0;34m\u001b[0m\u001b[0;34m\u001b[0m\u001b[0m\n\u001b[1;32m      7\u001b[0m \u001b[0;34m\u001b[0m\u001b[0m\n\u001b[0;32m----> 8\u001b[0;31m \u001b[0;32mclass\u001b[0m \u001b[0mTwoLayerNet\u001b[0m\u001b[0;34m:\u001b[0m\u001b[0;34m\u001b[0m\u001b[0;34m\u001b[0m\u001b[0m\n\u001b[0m\u001b[1;32m      9\u001b[0m \u001b[0;34m\u001b[0m\u001b[0m\n\u001b[1;32m     10\u001b[0m     \u001b[0;32mdef\u001b[0m \u001b[0m__init__\u001b[0m\u001b[0;34m(\u001b[0m\u001b[0mself\u001b[0m\u001b[0;34m,\u001b[0m \u001b[0minput_size\u001b[0m\u001b[0;34m,\u001b[0m \u001b[0mhidden_size\u001b[0m\u001b[0;34m,\u001b[0m \u001b[0moutput_size\u001b[0m\u001b[0;34m,\u001b[0m \u001b[0mweight__init__std\u001b[0m\u001b[0;34m=\u001b[0m\u001b[0;36m.01\u001b[0m\u001b[0;34m)\u001b[0m\u001b[0;34m:\u001b[0m\u001b[0;34m\u001b[0m\u001b[0;34m\u001b[0m\u001b[0m\n",
      "\u001b[0;32m<ipython-input-87-c6fc610684f5>\u001b[0m in \u001b[0;36mTwoLayerNet\u001b[0;34m()\u001b[0m\n\u001b[1;32m     17\u001b[0m \u001b[0;34m\u001b[0m\u001b[0m\n\u001b[1;32m     18\u001b[0m     \u001b[0;31m# 계층 생성\u001b[0m\u001b[0;34m\u001b[0m\u001b[0;34m\u001b[0m\u001b[0;34m\u001b[0m\u001b[0m\n\u001b[0;32m---> 19\u001b[0;31m     \u001b[0mself\u001b[0m\u001b[0;34m.\u001b[0m\u001b[0mlayers\u001b[0m \u001b[0;34m=\u001b[0m \u001b[0mOrderedDict\u001b[0m\u001b[0;34m(\u001b[0m\u001b[0;34m)\u001b[0m\u001b[0;34m\u001b[0m\u001b[0;34m\u001b[0m\u001b[0m\n\u001b[0m\u001b[1;32m     20\u001b[0m     \u001b[0mself\u001b[0m\u001b[0;34m.\u001b[0m\u001b[0mlayers\u001b[0m\u001b[0;34m[\u001b[0m\u001b[0;34m'Affine1'\u001b[0m\u001b[0;34m]\u001b[0m \u001b[0;34m=\u001b[0m \u001b[0mAffine\u001b[0m\u001b[0;34m(\u001b[0m\u001b[0mself\u001b[0m\u001b[0;34m.\u001b[0m\u001b[0mparams\u001b[0m\u001b[0;34m[\u001b[0m\u001b[0;34m'W1'\u001b[0m\u001b[0;34m]\u001b[0m\u001b[0;34m,\u001b[0m \u001b[0mself\u001b[0m\u001b[0;34m.\u001b[0m\u001b[0mparams\u001b[0m\u001b[0;34m[\u001b[0m\u001b[0;34m'b1'\u001b[0m\u001b[0;34m]\u001b[0m\u001b[0;34m)\u001b[0m\u001b[0;34m\u001b[0m\u001b[0;34m\u001b[0m\u001b[0m\n\u001b[1;32m     21\u001b[0m     \u001b[0mself\u001b[0m\u001b[0;34m.\u001b[0m\u001b[0mlayers\u001b[0m\u001b[0;34m[\u001b[0m\u001b[0;34m'Relu1'\u001b[0m\u001b[0;34m]\u001b[0m \u001b[0;34m=\u001b[0m \u001b[0mRelu\u001b[0m\u001b[0;34m(\u001b[0m\u001b[0;34m)\u001b[0m\u001b[0;34m\u001b[0m\u001b[0;34m\u001b[0m\u001b[0m\n",
      "\u001b[0;31mNameError\u001b[0m: name 'self' is not defined"
     ]
    }
   ],
   "source": [
    "import sys, os\n",
    "sys.path.append(os.pardir)\n",
    "import numpy as np\n",
    "from common.layers import *\n",
    "from common.gradient import numerical_gradient\n",
    "from collections import OrderedDict\n",
    "\n",
    "class TwoLayerNet:\n",
    "    \n",
    "    def __init__(self, input_size, hidden_size, output_size, weight__init__std=.01):\n",
    "        # 가중치 초기화\n",
    "        self.params = {}\n",
    "        self.params['W1'] = weight_init_std * np.random.randn(input_size, hidden_size)\n",
    "        self.params['b1'] = np.zeros(hidden_size)\n",
    "        self.params['W2'] = weight_init_std * np.random.randn(hidden_size, output_size)\n",
    "        self.params['b2'] = np.zeros(output_size)\n",
    "    \n",
    "    # 계층 생성\n",
    "    self.layers = OrderedDict()\n",
    "    self.layers['Affine1'] = Affine(self.params['W1'], self.params['b1'])\n",
    "    self.layers['Relu1'] = Relu()\n",
    "    self.layers['Affine2'] = Affine(self.params['W2'], self.params['b2'])\n",
    "    \n",
    "    self.lastlayer = SoftmaxWithLoss()\n",
    "    \n",
    "    def predict(self, x):\n",
    "        for layer in self.layers.values():\n",
    "            x = layer.forward(x)\n",
    "            \n",
    "        return x    \n",
    "    \n",
    "    # x : 입력 데이터, t : 정답 레이블\n",
    "    def loss(self, x):\n",
    "        y = self.predict(x)\n",
    "        return self.lastLayer.forward(y, t)\n",
    "    \n",
    "    def accuracy(self, x, t):\n",
    "        y = self.predict(x)\n",
    "        y = np.argmax(y, axis=1)\n",
    "        if t.ndim != 1 : t = np.argmax(t, axis=1)\n",
    "        \n",
    "        accuracy = np.sum(y == t) / float(x.shape[0])\n",
    "        \n",
    "        return accuracy\n",
    "    \n",
    "    # x : 입력 데이터, t : 정답 레이블\n",
    "    def numerical_gradient(self, x, t):\n",
    "        loss_W = lambda W: self.loss(x, t)\n",
    "    \n",
    "        grads = {}\n",
    "        grads['W1'] = numerical_gradient(loss_W, self.params['W1'])\n",
    "        grads['b1'] = numerical_gradient(loss_W, self.params['b1'])\n",
    "        grads['W2'] = numerical_gradient(loss_W, self.params['W2'])\n",
    "        grads['b2'] = numerical_gradient(loss_W, self.params['b2'])\n",
    "    \n",
    "        return grads            \n",
    "\n",
    "    def gradient(self, x, t):\n",
    "        # 순전파\n",
    "        self.loss(x, t)\n",
    "        \n",
    "        # 역전파\n",
    "        dout = 1\n",
    "        dout = self.lastLayer.backward(dout)\n",
    "        \n",
    "        layers = list(self.layer.values())\n",
    "        layers.reverse()\n",
    "        for layer in layers:\n",
    "            dout = layer.backward(dout)\n",
    "            \n",
    "        # 결과 저장    \n",
    "        grads = {}\n",
    "        grads['W1'] = self.layers['Affine1'].dW\n",
    "        grads['b1'] = self.layers['Affine11'].db\n",
    "        grads['W2'] = self.layers['Affine12'].dW\n",
    "        grads['b2'] = self.layers['Affine13'].db\n",
    "        \n",
    "        return grads"
   ]
  },
  {
   "cell_type": "markdown",
   "metadata": {},
   "source": [
    "### 오차역전파법으로 구한 기울기 검증하기\n",
    "\n",
    "해석적 방법은 오차역전파법을 이용하여 매개변수가 많아도 효율적으로 계산할 수 있다.\n",
    "\n",
    "그러면 수치 미분은 쓸모가 없는 것일까?\n",
    "\n",
    "아니다. 수치 미분은 구현이 오차역전파법보다 쉽기 때문에 정확히 구현했는지 확인하기 위해 필요하다."
   ]
  },
  {
   "cell_type": "code",
   "execution_count": 85,
   "metadata": {
    "collapsed": true
   },
   "outputs": [
    {
     "ename": "NameError",
     "evalue": "name 'grad_backrprop' is not defined",
     "output_type": "error",
     "traceback": [
      "\u001b[0;31m---------------------------------------------------------------------------\u001b[0m",
      "\u001b[0;31mNameError\u001b[0m                                 Traceback (most recent call last)",
      "\u001b[0;32m<ipython-input-85-c7f675c5b8bf>\u001b[0m in \u001b[0;36m<module>\u001b[0;34m\u001b[0m\n\u001b[1;32m     18\u001b[0m \u001b[0;31m# 각 가중치의 차이의 절대값을 구한 후, 그 절댓값들의 평균을 낸다.\u001b[0m\u001b[0;34m\u001b[0m\u001b[0;34m\u001b[0m\u001b[0;34m\u001b[0m\u001b[0m\n\u001b[1;32m     19\u001b[0m \u001b[0;32mfor\u001b[0m \u001b[0mkey\u001b[0m \u001b[0;32min\u001b[0m \u001b[0mgrad_numerical\u001b[0m\u001b[0;34m.\u001b[0m\u001b[0mkeys\u001b[0m\u001b[0;34m(\u001b[0m\u001b[0;34m)\u001b[0m\u001b[0;34m:\u001b[0m\u001b[0;34m\u001b[0m\u001b[0;34m\u001b[0m\u001b[0m\n\u001b[0;32m---> 20\u001b[0;31m     \u001b[0mdiff\u001b[0m \u001b[0;34m=\u001b[0m \u001b[0mnp\u001b[0m\u001b[0;34m.\u001b[0m\u001b[0maverage\u001b[0m\u001b[0;34m(\u001b[0m\u001b[0mnp\u001b[0m\u001b[0;34m.\u001b[0m\u001b[0mabs\u001b[0m\u001b[0;34m(\u001b[0m\u001b[0mgrad_backrprop\u001b[0m\u001b[0;34m[\u001b[0m\u001b[0mkey\u001b[0m\u001b[0;34m]\u001b[0m \u001b[0;34m-\u001b[0m \u001b[0mgrad_numerical\u001b[0m\u001b[0;34m[\u001b[0m\u001b[0mkey\u001b[0m\u001b[0;34m]\u001b[0m\u001b[0;34m)\u001b[0m\u001b[0;34m)\u001b[0m\u001b[0;34m\u001b[0m\u001b[0;34m\u001b[0m\u001b[0m\n\u001b[0m\u001b[1;32m     21\u001b[0m     \u001b[0mprint\u001b[0m \u001b[0;34m(\u001b[0m\u001b[0mkey\u001b[0m \u001b[0;34m+\u001b[0m \u001b[0;34m':'\u001b[0m \u001b[0;34m+\u001b[0m \u001b[0mstr\u001b[0m\u001b[0;34m(\u001b[0m\u001b[0mdiff\u001b[0m\u001b[0;34m)\u001b[0m\u001b[0;34m)\u001b[0m\u001b[0;34m\u001b[0m\u001b[0;34m\u001b[0m\u001b[0m\n",
      "\u001b[0;31mNameError\u001b[0m: name 'grad_backrprop' is not defined"
     ]
    }
   ],
   "source": [
    "import sys, os\n",
    "sys.path.append(os.pardir)\n",
    "import numpy as np\n",
    "from dataset.mnist import load_mnist\n",
    "from ch04.two_layer_net import TwoLayerNetdd\n",
    "\n",
    "# 데이터 읽기\n",
    "(x_train, t_train), (x_test, t_test) = load_mnist(normalize=True, one_hot_label=True)\n",
    "\n",
    "network = TwoLayerNet(input_size=784, hidden_size=50, output_size=10)\n",
    "\n",
    "x_batch = x_train[:3]\n",
    "t_batch = t_train[:3]\n",
    "\n",
    "grad_numerical = network.numerical_gradient(x_batch, t_batch)\n",
    "grad_backprop = network.numerical_gradient(x_batch, t_batch)\n",
    "\n",
    "# 각 가중치의 차이의 절대값을 구한 후, 그 절댓값들의 평균을 낸다.\n",
    "for key in grad_numerical.keys():\n",
    "    diff = np.average(np.abs(grad_backrprop[key] - grad_numerical[key]))\n",
    "    print (key + ':' + str(diff))"
   ]
  },
  {
   "cell_type": "markdown",
   "metadata": {},
   "source": [
    "### 오차역전파법을 사용한 학습 구현하기"
   ]
  },
  {
   "cell_type": "code",
   "execution_count": null,
   "metadata": {},
   "outputs": [],
   "source": [
    "import sys, os\n",
    "sys.path.append(os.pardir)\n",
    "import numpy as np\n",
    "from dataset.mnist import load_mnist\n",
    "from ch04.two_layer_net import TwoLayerNet\n",
    "\n",
    "# 데이터 읽기\n",
    "(x_train, t_train), (x_test, t_test) = load_mnist(normalize=True, one_hot_label=True)\n",
    "network = TwoLayerNet(input_size = 784, hidden_size = 50, output_size = 10)\n",
    "\n",
    "iters_num = 10000 # 반복 횟수\n",
    "train_size = x_train.shape[0]\n",
    "batch_size = 100 # 미니배치 크기\n",
    "learning_rate = .1\n",
    "\n",
    "\n",
    "train_loss_list = []\n",
    "train_acc_list = []\n",
    "test_acc_list = []\n",
    "\n",
    "# 1에폭당 반복 수\n",
    "iter_per_epoch = max(train_size / batch_size, 1)\n",
    "\n",
    "for i in range(iters_num):\n",
    "    # 미니배치 획득\n",
    "    batch_mask = np.random.choice(train_size, batch_size)\n",
    "    x_batch = x_train[batch_mask]\n",
    "    t_batch = t_train[batch_mask]\n",
    "    \n",
    "    # 오차역전파법으로 기울기 계산\n",
    "    grad = network.gradient(x_batch, t_batch)\n",
    "        \n",
    "    # 매개변수 갱신\n",
    "    for ket in ('W1', 'b1', 'W2', 'b2'):\n",
    "        network.params[key] -= learning_rate * grad[key]\n",
    "        \n",
    "    # 학습 경과 기록\n",
    "    loss = network.loss(x_batch, t_batch)\n",
    "    train_loss_list.append(loss)\n",
    "    \n",
    "    # 1에폭당 정확도 계산\n",
    "    if i % iter_per_epoch == 0:\n",
    "        train_acc = network.accuracy(x_train, t_train)\n",
    "        test_acc = network.accuracy(x_test, t_test)\n",
    "        train_acc_list.append(train_acc)\n",
    "        test_acc_list.append(test_acc)\n",
    "        print (('train acc, test acc : ' + str(train_acc) + ', ' + str(test_acc))"
   ]
  },
  {
   "cell_type": "markdown",
   "metadata": {},
   "source": [
    "## 이번 장에서 배운 내용\n",
    "\n",
    "    * 계산 그래프를 이용하면 계산 과정을 시각적으로 파악할 수 있다.\n",
    "    * 계산 그래프의 노드는 국소적 계산으로 구성된다. 국소적 계산을 조합해 전체 계산을 구성한다.\n",
    "    * 계산 그래프의 순전파는 통상의 계산을 수행한디. 한편 계산 그래프의 역전파로는 각 노드의 미분을 구할 수 있다.\n",
    "    * 신경망의 구성 요소를 계층으로 구현하여 기울기를 효율적으로 계산할 수 있다(오차역전파법).\n",
    "    * 수치 미분과 오차역전파법의 결과를 비교하면 오차역전파법의 구현에 잘못이 없는지 확인할 수 있다(기울기 확인)."
   ]
  },
  {
   "cell_type": "markdown",
   "metadata": {},
   "source": [
    "# 6 . 학습 관련 기술들"
   ]
  },
  {
   "cell_type": "markdown",
   "metadata": {},
   "source": [
    "## 매개변수 갱신\n",
    "\n",
    "### 확률적 경사 하강법(SGD)"
   ]
  },
  {
   "cell_type": "code",
   "execution_count": 86,
   "metadata": {},
   "outputs": [],
   "source": [
    "class SGD:\n",
    "    def __init__(self, lr=.01):\n",
    "        self.lr = lr\n",
    "        \n",
    "    def update(self, params, grads):\n",
    "        for key in params.keys():\n",
    "            params[key] -= self.lr * grads[key]"
   ]
  },
  {
   "cell_type": "markdown",
   "metadata": {},
   "source": [
    "### SGD의 단점\n",
    "\n",
    "함수(__비등방성 함수__)에 따라 x방향의 기울기가 작아서 빠르게 최솟값이 되는 점으로 수렴하지 않는다.\n",
    "\n",
    "함수 $f(x,y) = {1 \\over 20}x^2+y^2$를 보자.\n",
    "\n",
    "이 함수의 기울기 벡터장은 다음과 같다.\n",
    "\n",
    "<img src=\"../deep_learning_images/SGDvector.png\" width=\"30%\" height=\"30%\" />\n",
    "\n",
    "이때의 최적화 경로는 다음과 같다.\n",
    "\n",
    "<img src=\"../deep_learning_images/SGD.png\" width=\"30%\" height=\"30%\" />\n"
   ]
  },
  {
   "cell_type": "markdown",
   "metadata": {},
   "source": [
    "### 모멘텀\n",
    "\n",
    "모멘텀 기법의 수식은 다음과 같다.\n",
    "\n",
    "<img src=\"../deep_learning_images/momentum.png\" width=\"20%\" height=\"20%\" />\n",
    "\n",
    "다음은 최적화 경로이다.\n",
    "\n",
    "<img src=\"../deep_learning_images/momentum2.png\" width=\"20%\" height=\"20%\" />"
   ]
  },
  {
   "cell_type": "code",
   "execution_count": 88,
   "metadata": {},
   "outputs": [],
   "source": [
    "class Momentum:\n",
    "    def __init__(self, lr=.01, momentum=.9):\n",
    "        self.lr = lr\n",
    "        self.momentum = momentum\n",
    "        self.v = None\n",
    "        \n",
    "    def upate(self, params, grads):\n",
    "        if self.v is None:\n",
    "            self.v = {}\n",
    "            for key, val in params.items():\n",
    "                self.v[key] = np.zeros_like(val)\n",
    "                \n",
    "            for key in params.keys():\n",
    "                self.v[key] = self.momentum * self.v[key] - self.lr * grads[key]\n",
    "                params [key] += self.v[key]"
   ]
  },
  {
   "cell_type": "markdown",
   "metadata": {},
   "source": [
    "###  AdaGrad\n",
    "\n",
    "다음은 AdaGrad기법의 수식이다.\n",
    "\n",
    "<img src=\"../deep_learning_images/ada1.png\" width=\"20%\" height=\"20%\" />\n",
    "<img src=\"../deep_learning_images/ada2.png\" width=\"20%\" height=\"20%\" />\n",
    "\n",
    "그 때의 최적화 경로이다.\n",
    "\n",
    "<img src=\"../deep_learning_images/ada3.png\" width=\"40%\" height=\"40%\" />"
   ]
  },
  {
   "cell_type": "code",
   "execution_count": 89,
   "metadata": {},
   "outputs": [],
   "source": [
    "class AdaGrad:\n",
    "    def __init__(self, lr=.01):\n",
    "        self.lr = lr\n",
    "        self.h = None\n",
    "        \n",
    "    def update(self, params, grads):\n",
    "        if self.h is None:\n",
    "            self.h = {}\n",
    "            for key, val in params.items():\n",
    "                self.h[key] = np.zeros_like(val)\n",
    "                \n",
    "            for key in params.keys():\n",
    "                self.h[key] += grads[key] * grads[key]\n",
    "                params[key] -= self.lr * grads[key] / (np.sqry(self.h[key]) + 1e-7)"
   ]
  },
  {
   "cell_type": "markdown",
   "metadata": {},
   "source": [
    "### Adam\n",
    "\n",
    "모멘텀기법과 AdaGrad기법을 섞은 것이다. common폴더의 optimizer.py참고"
   ]
  },
  {
   "cell_type": "markdown",
   "metadata": {},
   "source": [
    "### 은닉층의 활성화값 분포"
   ]
  },
  {
   "cell_type": "code",
   "execution_count": 94,
   "metadata": {},
   "outputs": [],
   "source": [
    "import numpy as np\n",
    "import matplotlib.pyplot as plt\n",
    "\n",
    "def sigmoid(x):\n",
    "    return 1 / (1 + np.exp(-x))\n",
    "\n",
    "def relu(x):\n",
    "    return max(0, x)\n",
    "\n",
    "x = np.random.randn(1000, 100) # 1000개의 데이터\n",
    "node_num = 100         # 각 은닉층의 노드(뉴런) 수\n",
    "hidden_layers_size = 5 # 은닉층이 5개\n",
    "activations = {}       # 이곳에 활성화 결과(활성화값)를 저장\n",
    "\n",
    "for i in range(hidden_layers_size):\n",
    "    if i != 0:\n",
    "        x = activations[i-1]\n",
    "        \n",
    "    w = np.random.randn(node_num, node_num) * 1\n",
    "    # w = np.random.randn(node_num, node_num) * .01 -- 표준편차가 0.01인 정규분포의 경우 각 층의 활성화값 분포\n",
    "    # w = np.random.randn(node_num, node_num) / np.sqrt(node_num) -- Xavier초깃값\n",
    "    a = np.dot(x, w)\n",
    "    z = sigmoid(a)\n",
    "    # z = relu(a) # He초깃값\n",
    "    activations[i] = z"
   ]
  },
  {
   "cell_type": "code",
   "execution_count": 96,
   "metadata": {},
   "outputs": [
    {
     "data": {
      "image/png": "[encoded data removed]",
      "text/plain": [
       "<Figure size 432x288 with 5 Axes>"
      ]
     },
     "metadata": {
      "needs_background": "light"
     },
     "output_type": "display_data"
    }
   ],
   "source": [
    "# 히스토그램 그리기\n",
    "for i,a in activations.items():\n",
    "    plt.subplot(1, len(activations), i+1)\n",
    "    plt.title(str(i+1) + '-layer')\n",
    "    plt.hist(a.flatten(), 30, range=(0,1))\n",
    "plt.show()"
   ]
  },
  {
   "cell_type": "markdown",
   "metadata": {},
   "source": [
    "### 오버피팅\n",
    "\n",
    "오버피팅은 주로 다음과 같은 경우에 일어난다.\n",
    "    \n",
    "    * 매개변수가 많고 표현력이 높은 모델\n",
    "    * 훈련 데이터가 적음"
   ]
  },
  {
   "cell_type": "code",
   "execution_count": null,
   "metadata": {},
   "outputs": [],
   "source": [
    "# 데이터 읽기\n",
    "(x_train, t_train), (x_test, t_test) = load_mnist(normalize=True)\n",
    "\n",
    "# 오버피팅을 재현하기 위해 학습 데이터 수를 줄임\n",
    "x_train = x_train[:300]\n",
    "t_train = t_train[:300]\n",
    "\n",
    "# 훈련\n",
    "network = MultiLayerNet(input_size=784, hidden_size_list=[100, 100, 100, 100, 100, 100], output_size=10)\n",
    "optimizer = SGD(lr=.01) # 학습률이 .01인 SGD로 매개변수 갱신\n",
    "\n",
    "max_epochs = 201\n",
    "train_size = x_train.shape[0]\n",
    "batch_size = 100\n",
    "\n",
    "train_loss_list = []\n",
    "train_acc_list = []\n",
    "test_acc_list = []\n",
    "\n",
    "iter_per_epoch = max(train_size / batch_size, 1)\n",
    "epoch_cnt = 0\n",
    "\n",
    "for i in range(1000000000):\n",
    "    batch_mask = np.random.choice(train_size, batch_size) \n",
    "    x_batch = x_train[batch_mask]\n",
    "    t_batch = t_train[batch_mask]\n",
    "    \n",
    "    grads = network.gradient(x_batch, t_batch)\n",
    "    optimizer.update(network.params, grads)\n",
    "    \n",
    "if i % iter_per_epoch == 0:\n",
    "    train_acc = network.accuracy(x_train, t_train)\n",
    "    test_acc = network.accuracy(x_test, t_test)\n",
    "    train_acc_list.append(train_acc)\n",
    "    test_acc_list.append(test_acc)\n",
    "    \n",
    "    epoch_cnt += 1\n",
    "    if epoch_cnt >= max_epochs:\n",
    "        break"
   ]
  },
  {
   "cell_type": "markdown",
   "metadata": {},
   "source": [
    "<img src=\"../deep_learning_images/over.png\" width=\"50%\" height=\"20%\" />\n",
    "\n",
    "이런 오버피팅을 방지하기 위해 가중치 감소와 드롭아웃이라는 방법이 있다.\n",
    "\n",
    "### 드롭아웃\n",
    "\n",
    "뉴런을 임의로 삭제하면서 학습하는 방법이다.\n",
    "\n",
    "<img src=\"../deep_learning_images/dropout.png\" width=\"50%\" height=\"20%\" />"
   ]
  },
  {
   "cell_type": "code",
   "execution_count": 98,
   "metadata": {},
   "outputs": [],
   "source": [
    "class Dropout:\n",
    "    def __init__(self, dropout_ratio=.5):\n",
    "        self.dropout_ratio = dropout_ratio\n",
    "        self.mask = None\n",
    "        \n",
    "    def forward(self, x, train_flg=True):\n",
    "        if train_flg:\n",
    "            self.mask = np.rando.rand(*x.shape) > self.dropout_ratio\n",
    "            return x *self.mask\n",
    "        else:\n",
    "            return x * (1.0 - self.dropout_ratio)\n",
    "        \n",
    "    def backward(self, dout):\n",
    "        return dout * self.mask"
   ]
  },
  {
   "cell_type": "markdown",
   "metadata": {},
   "source": [
    "왼쪽이 드롭아웃을 적용 안해준 결과고 오른쪽은 적용해준 결과이다. 오버피팅이 해결된 걸 볼 수 있다.\n",
    "\n",
    "<img src=\"../deep_learning_images/dropout2.png\" width=\"70%\" height=\"20%\" />"
   ]
  },
  {
   "cell_type": "markdown",
   "metadata": {},
   "source": [
    "### 검증 데이터\n",
    "\n",
    "하이퍼파라미터의 성능을 평가할 떄는 시험 데이터를 절대로 사용하면 안된다.\n",
    "\n",
    "그래서 하이퍼파라미터를 조정할 때는 하이퍼파라미터 전용 확인 데이터가 필요하다.\n",
    "\n",
    "일반적으로 전용 확인 데이터를 검증 데이터라 부른다."
   ]
  },
  {
   "cell_type": "code",
   "execution_count": 99,
   "metadata": {
    "collapsed": true
   },
   "outputs": [
    {
     "ename": "NameError",
     "evalue": "name 'shuffle_dataset' is not defined",
     "output_type": "error",
     "traceback": [
      "\u001b[0;31m---------------------------------------------------------------------------\u001b[0m",
      "\u001b[0;31mNameError\u001b[0m                                 Traceback (most recent call last)",
      "\u001b[0;32m<ipython-input-99-27226fc569ae>\u001b[0m in \u001b[0;36m<module>\u001b[0;34m\u001b[0m\n\u001b[1;32m      2\u001b[0m \u001b[0;34m\u001b[0m\u001b[0m\n\u001b[1;32m      3\u001b[0m \u001b[0;31m# 훈련 데이터를 뒤섞는다.\u001b[0m\u001b[0;34m\u001b[0m\u001b[0;34m\u001b[0m\u001b[0;34m\u001b[0m\u001b[0m\n\u001b[0;32m----> 4\u001b[0;31m \u001b[0mx_train\u001b[0m\u001b[0;34m,\u001b[0m \u001b[0mt_train\u001b[0m \u001b[0;34m=\u001b[0m \u001b[0mshuffle_dataset\u001b[0m\u001b[0;34m(\u001b[0m\u001b[0mx_train\u001b[0m\u001b[0;34m,\u001b[0m \u001b[0mt_train\u001b[0m\u001b[0;34m)\u001b[0m\u001b[0;34m\u001b[0m\u001b[0;34m\u001b[0m\u001b[0m\n\u001b[0m\u001b[1;32m      5\u001b[0m \u001b[0;34m\u001b[0m\u001b[0m\n\u001b[1;32m      6\u001b[0m \u001b[0;31m# 20%를 검증 데이터로 분할\u001b[0m\u001b[0;34m\u001b[0m\u001b[0;34m\u001b[0m\u001b[0;34m\u001b[0m\u001b[0m\n",
      "\u001b[0;31mNameError\u001b[0m: name 'shuffle_dataset' is not defined"
     ]
    }
   ],
   "source": [
    "(x_train, t_train), (x_test, t_test) = load_mnist()\n",
    "\n",
    "# 훈련 데이터를 뒤섞는다.\n",
    "x_train, t_train = shuffle_dataset(x_train, t_train)\n",
    "\n",
    "# 20%를 검증 데이터로 분할\n",
    "validation_rate = .2\n",
    "validation_num = int(x_train.shape[0] * validation_rate)\n",
    "\n",
    "x_val = x_train[:validation_num]\n",
    "t_val = t_train[:validation_num]\n",
    "x_train = x_train[validation_num:]\n",
    "t_train = t_train[validation_num:]"
   ]
  },
  {
   "cell_type": "markdown",
   "metadata": {},
   "source": [
    "### 하이퍼파라미터 최적화\n",
    "\n",
    "0. 하이퍼파라미터 값의 범위를 설정합니다.\n",
    "\n",
    "\n",
    "1. 설정된 범위에서 하이퍼파라미터 값을 무작위로 추출합니다.\n",
    "\n",
    "\n",
    "2. 1단계에서 샘플링한 하이퍼파라미터 값을 사용하여 학습하고, 검증 데이터로 정확도를 평가합니다.(단, 에폭은 작게 설정)\n",
    "\n",
    "\n",
    "3. 1단계와 2단계를 특정횟수(100회 등) 반복하여, 그 정확도의 결과를 보고 하이퍼파라미터 범위를 좁힙니다."
   ]
  },
  {
   "cell_type": "markdown",
   "metadata": {},
   "source": [
    "###  하이퍼파라미터 최적화 구현하기 \n",
    "\n",
    "폴더 ch06에서 hyperparameter_optimization.py 참고"
   ]
  },
  {
   "cell_type": "markdown",
   "metadata": {},
   "source": [
    "## 이번 장에서 배운 내용\n",
    "    \n",
    "    * 매개변수 갱신 방법에는 확률적 경사 강하법(SGD) 외에도 모멘텀, AdaGrad, Adam 등이 있다.\n",
    "    * 가중치 초깃값을 정하는 방법은 올바른 학습을 하는 데 매우 중요하다.\n",
    "    * 가중치의 초깃값으로는 'Xavier 초깃값'과 'He 초깃값'이 효과적이다.\n",
    "    * 배치 정규화를 이용하면 학습을 빠르게 진행할 수 있으며, 초깃값에 영향을 덜 받게 된다.\n",
    "    * 오버피팅을 억제하는 정규화 기술로는 가중치 감소와 드롭아웃이 있다.\n",
    "    * 하이퍼파라미터 값 탐색은 최적 값이 존재할 법한 범위를 점차 좁히면서 하는 것이 효과적이다."
   ]
  }
 ],
 "metadata": {
  "kernelspec": {
   "display_name": "Python 3",
   "language": "python",
   "name": "python3"
  },
  "language_info": {
   "codemirror_mode": {
    "name": "ipython",
    "version": 3
   },
   "file_extension": ".py",
   "mimetype": "text/x-python",
   "name": "python",
   "nbconvert_exporter": "python",
   "pygments_lexer": "ipython3",
   "version": "3.7.3"
  }
 },
 "nbformat": 4,
 "nbformat_minor": 2
}
