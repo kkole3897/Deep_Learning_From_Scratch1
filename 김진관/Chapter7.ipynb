{
 "cells": [
  {
   "cell_type": "markdown",
   "metadata": {},
   "source": [
    "# Chapter 7 합성곱 신경망(CNN)"
   ]
  },
  {
   "cell_type": "markdown",
   "metadata": {},
   "source": [
    "## 7.1 전체 구조"
   ]
  },
  {
   "cell_type": "markdown",
   "metadata": {},
   "source": [
    "CNN에서 등장하는 새로운 layer\n",
    "- 합성곱 계층(convolutional layer)\n",
    "- 풀링 계층(pooling layer)\n",
    "\n",
    "현재까지 봤던 신경망을 완전연결(fully-connected)라고 하며 Affine 계층으로 구현했다. Affine 계층 뒤에는 활성화 함수로 ReLU 혹은 Sigmoid를 사용했다.\n",
    "\n",
    "CNN의 구조는 새로운 합성곱 계층(Conv)과 풀링 계층(pooling)이 추가된다. Conv-ReLU-(Pooling)의 흐름이다. 출력층과 가까운 층의 경우에는 Affine-ReLU, 출력층은 Affine-Softmax 조합을 그대로 사용한다.\n",
    "\n",
    "<img src=\"https://t1.daumcdn.net/cfile/tistory/2409463658F46CAD1F\">\n",
    "<center><small>▲ 완전연결 계층(위), CNN(아래)</small></center>"
   ]
  },
  {
   "cell_type": "markdown",
   "metadata": {},
   "source": [
    "## 7.2 합성곱 계층"
   ]
  },
  {
   "cell_type": "markdown",
   "metadata": {},
   "source": [
    "- 패딩(padding)\n",
    "- 스트라이드(stride)\n",
    "- 입체적인 데이터 흐름"
   ]
  },
  {
   "cell_type": "markdown",
   "metadata": {},
   "source": [
    "### 7.2.1 완전연결 계층의 문제점"
   ]
  },
  {
   "cell_type": "markdown",
   "metadata": {},
   "source": [
    "데이터의 형상이 무시된다.\n",
    "- 완전연결 계층의 입력은 평탄화 필요\n",
    "- 본래 다차원인 데이터의 경우 다차원에서 특별한 정보가 담겨있을 가능성이 있다.\n",
    "- 이미지의 경우\n",
    "    - 가로, 세로, 색상의 3차원 데이터\n",
    "    - 공간적 정보\n",
    "    \n",
    "반면, 합성곱 계층은 형상을 유지한다.\n",
    "- 입력 데이터가 형상 그대로 들어온다.\n",
    "- 다음 계층으로 전달될 때도 그대로 전달\n",
    "- 다차원의 형상을 가진 데이터를 올바르게 이해할 수 있다.\n",
    "- 특징 맵(feature map): 합성곱 계층의 입출력 데이터\n",
    "    - 입력 특징 맵(input feature map)\n",
    "    - 출력 특징 맵(output feature map)"
   ]
  },
  {
   "cell_type": "markdown",
   "metadata": {},
   "source": [
    "### 7.2.2 합성곱 연산"
   ]
  },
  {
   "cell_type": "markdown",
   "metadata": {},
   "source": [
    "합성곱 연산 = 필터 연산\n",
    "\n",
    "\n",
    "합성곱 연산 예제\n",
    "<img src=\"https://t1.daumcdn.net/cfile/tistory/2764173558F475B42C\">\n",
    "\n",
    "데이터 설명\n",
    "- 입력 데이터: (4,4)의 높이와 너비를 가진 형상\n",
    "- 필터: (3,3)의 높이와 너비를 가진 형상\n",
    "    - 커널이라고도 한다.\n",
    "- 출력: (2,2)의 놆이와 너비를 가진 형상\n",
    "\n",
    "연산 과정\n",
    "1. 필터의 **윈도우(window)**를 일정 간격으로 이동하면서 입력 데이터에 적용\n",
    "2. 단일 곱셈-누산(fused multiply-add, FMA): 대응하는 원소기리 곱한 후 모두 더함\n",
    "3. 결과를 출력의 해당 장소에 저장\n",
    "4. 모든 장소에서 수행\n",
    "\n",
    "가중치와 편향\n",
    "- 가중치: 필터의 매개변수\n",
    "- 편향: 필터를 적용한 후 데이터에 더해진다. 항상 하나(1X1)만 존재"
   ]
  },
  {
   "cell_type": "markdown",
   "metadata": {},
   "source": [
    "### 7.2.3 패딩"
   ]
  },
  {
   "cell_type": "markdown",
   "metadata": {},
   "source": [
    "패딩(padding)\n",
    "- 입력 데이터 주변을 특정 값으로 채우는 것\n",
    "- 예를 들어 0으로\n",
    "\n",
    "패딩의 예\n",
    "\n",
    "<img src=\"https://t1.daumcdn.net/cfile/tistory/2527FA3758F4785B13\">\n",
    "\n",
    "- 입력데이터: 4X4\n",
    "- 패딩 후: 6X6\n",
    "- 3X3 필터 적용 후: 4X4\n",
    "\n",
    "패딩을 하는 이유\n",
    "- 출력 크기를 조정하는 목적\n",
    "- 합성곱 신경망에서 그냥 필터를 적용하면 계속해서 크기가 줄어든다. 신경망이 깊어지면 어느 순간 크기가 1이 되어버린다. 이는 더이상 합성곱을 할 수 없는 상태이기 때문에 문제가 된다.\n",
    "- 풀링을 하면 출력 크기를 유지시켜 줄 수 있어서, 입력 데이터의 공간적 크기를 고정해서 다음 층으로 넘겨줄 수 있다."
   ]
  },
  {
   "cell_type": "markdown",
   "metadata": {},
   "source": [
    "### 7.2.4 스트라이드"
   ]
  },
  {
   "cell_type": "markdown",
   "metadata": {},
   "source": [
    "스트라이드\n",
    "- 필터를 적용하는 위치 간격\n",
    "- 스트라이드를 키우면 출력 크기가 작아진다.\n",
    "\n",
    "<img src=\"https://2.bp.blogspot.com/-vtZW1-cBQGg/WYJrUnBjRiI/AAAAAAAALNY/GhTnu5QDi3M4NHB_FiyOJAjy58mTkzlYwCK4BGAYYCw/s320/o9.PNG\">\n",
    "<center><small>▲ 스트라이드가 2인 합성곱 신경망</small></center>\n",
    "\n",
    "패딩, 스트라이드, 출력 크기 계산\n",
    "- 입력 크기: $(H, W)$\n",
    "- 필터 크기: $(FH, FW)$\n",
    "- 출력 크기: $(OH, OW)$\n",
    "- 패딩: $P$\n",
    "- 스트라이드: $S$\n",
    "\n",
    "$$OH = \\frac {H + 2P - FH} S + 1$$\n",
    "\n",
    "$$OW = \\frac {W + 2P - FW} S + 1$$\n",
    "\n",
    "주의\n",
    "- 계산 결과가 정수로 나누어 떨어져야 한다."
   ]
  },
  {
   "cell_type": "markdown",
   "metadata": {},
   "source": [
    "### 7.2.5 3차원 데이터의 합성곱 연산"
   ]
  },
  {
   "cell_type": "markdown",
   "metadata": {},
   "source": [
    "3차원 데이터의 합성곱 연산 예\n",
    "\n",
    "<img src=\"https://t1.daumcdn.net/cfile/tistory/99C185405BC97F4D1E\">\n",
    "\n",
    "- 입력 데이터의 채널 수 = 필터의 채널 수\n",
    "- 필터의 크기는 원하는 크기로(모든 채널의 필터 크기는 같아야 함)"
   ]
  },
  {
   "cell_type": "markdown",
   "metadata": {},
   "source": [
    "### 7.2.6 블록으로 생각하기"
   ]
  },
  {
   "cell_type": "markdown",
   "metadata": {},
   "source": [
    "<img src=\"https://t1.daumcdn.net/cfile/tistory/998CE7355BC97F632E\">\n",
    "\n",
    "- 데이터와 필터의 형상: (채널, 높이, 너비)\n",
    "- 출력: 채널이 1개인 특징 맵\n",
    "\n",
    "<img src=\"https://t1.daumcdn.net/cfile/tistory/99CDF2395BC97F7C2D\">\n",
    "\n",
    "- 필터를 여러 개 사용하면 출력의 채널 수도 늘어남\n",
    "- 이 출력을 다음 층으로 넘겨준다.\n",
    "- 필터의 가중치 데이터는 4차원: (출력 채널 수, 입력 채널 수, 높이, 너비)\n",
    "- 편향: 채널당 하나의 값"
   ]
  },
  {
   "cell_type": "markdown",
   "metadata": {},
   "source": [
    "### 7.2.7 배치 처리"
   ]
  },
  {
   "cell_type": "markdown",
   "metadata": {},
   "source": [
    "<img src=\"https://t1.daumcdn.net/cfile/tistory/99E4C84E5C4D31B728\">\n",
    "\n",
    "- 4차원으로 데이터 저장: (데이터 수, 채널 수, 높이, 너비)\n",
    "- 가장 앞쪽에 배치용 차원을 추가\n",
    "- 각 흐름마다 N번의 합성곱 연산을 수행\n",
    "- 배치 처리의 효과는 완전연결 신경망과 동일"
   ]
  },
  {
   "cell_type": "markdown",
   "metadata": {},
   "source": [
    "## 7.3 풀링 계층"
   ]
  },
  {
   "cell_type": "markdown",
   "metadata": {},
   "source": [
    "풀링 계층\n",
    "- 가로, 세로 방향의 공간을 줄이는 연산\n",
    "\n",
    "풀링의 예\n",
    "\n",
    "<img src=\"https://t1.daumcdn.net/cfile/tistory/993A5B465C4D32D32C\">\n",
    "\n",
    "- 최대 풀링(max pooling)\n",
    "    - 대상 영역 내에서 최대값을 구하는 연산\n",
    "- 평균 풀링(average pooling)\n",
    "    - 대상 영역의 평균을 계산\n",
    "- 이미지 인식 분야에서는 최대 풀링을 사용\n",
    "- 윈도우 크기와 스트라이드는 동일한 값으로 하는 것이 일반적\n",
    "    - 위의 예: 윈도우 2X2, 스트라이드 2"
   ]
  },
  {
   "cell_type": "markdown",
   "metadata": {},
   "source": [
    "### 7.3.1 풀링 계층의 특징"
   ]
  },
  {
   "cell_type": "markdown",
   "metadata": {},
   "source": [
    "학습해야 할 매개변수가 없다.\n",
    "\n",
    "채널 수가 변하지 않는다.\n",
    "- 채널마다 독립적으로 계산하기 때문\n",
    "\n",
    "입력의 변화에 영향을 적게 받는다(강건하다).\n",
    "- 입력 데이터가 조금 변해도 풀링 결과는 잘 변하지 않는다."
   ]
  },
  {
   "cell_type": "markdown",
   "metadata": {},
   "source": [
    "## 7.4 합성곱/풀링 계층 구현하기"
   ]
  },
  {
   "cell_type": "markdown",
   "metadata": {},
   "source": [
    "### 7.4.1 4차원 배열"
   ]
  },
  {
   "cell_type": "markdown",
   "metadata": {},
   "source": [
    "CNN에서 흐르는 데이터는 4차원이다."
   ]
  },
  {
   "cell_type": "code",
   "execution_count": 2,
   "metadata": {},
   "outputs": [],
   "source": [
    "import numpy as np"
   ]
  },
  {
   "cell_type": "code",
   "execution_count": 3,
   "metadata": {},
   "outputs": [
    {
     "data": {
      "text/plain": [
       "(10, 1, 28, 28)"
      ]
     },
     "execution_count": 3,
     "metadata": {},
     "output_type": "execute_result"
    }
   ],
   "source": [
    "x = np.random.rand(10, 1, 28, 28)\n",
    "x.shape"
   ]
  },
  {
   "cell_type": "code",
   "execution_count": 4,
   "metadata": {},
   "outputs": [
    {
     "data": {
      "text/plain": [
       "(1, 28, 28)"
      ]
     },
     "execution_count": 4,
     "metadata": {},
     "output_type": "execute_result"
    }
   ],
   "source": [
    "# 첫번째 데이터에 접근\n",
    "x[0].shape"
   ]
  },
  {
   "cell_type": "code",
   "execution_count": 5,
   "metadata": {},
   "outputs": [
    {
     "data": {
      "text/plain": [
       "(1, 28, 28)"
      ]
     },
     "execution_count": 5,
     "metadata": {},
     "output_type": "execute_result"
    }
   ],
   "source": [
    "# 두번째 데이터에 접근\n",
    "x[1].shape"
   ]
  },
  {
   "cell_type": "code",
   "execution_count": null,
   "metadata": {},
   "outputs": [],
   "source": [
    "# 첫번째 데이터의 첫 채널에 접근\n",
    "x[0,0]"
   ]
  }
 ],
 "metadata": {
  "kernelspec": {
   "display_name": "Python 3",
   "language": "python",
   "name": "python3"
  },
  "language_info": {
   "codemirror_mode": {
    "name": "ipython",
    "version": 3
   },
   "file_extension": ".py",
   "mimetype": "text/x-python",
   "name": "python",
   "nbconvert_exporter": "python",
   "pygments_lexer": "ipython3",
   "version": "3.6.9"
  }
 },
 "nbformat": 4,
 "nbformat_minor": 2
}
