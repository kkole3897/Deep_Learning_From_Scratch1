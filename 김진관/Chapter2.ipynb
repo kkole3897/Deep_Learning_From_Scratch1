{
 "cells": [
  {
   "cell_type": "markdown",
   "metadata": {},
   "source": [
    "# Chapter 2 퍼셉트론\n",
    "\n",
    "퍼셉트론은 신경망(딥러닝)의 기원이 되는 알고리즘이다."
   ]
  },
  {
   "cell_type": "markdown",
   "metadata": {},
   "source": [
    "## 2.1 퍼셉트론이란?\n",
    "\n",
    "퍼셉트론은 다수의 신호를 입력으로 받아 하나의 신호를 출력한다. 퍼셉트론은 '흐른다(1)', '안 흐른다(0)'의 두 가지 값을 가질 수 있다.\n",
    "\n",
    "<img src=\"https://mblogthumb-phinf.pstatic.net/MjAxNzA4MDhfMTAx/MDAxNTAyMjAzNjYxNzc5.sK4JqoJM1DLAWyR5fSFPWQaPLPa6HzjT_8fxxupwplgg.3sX5XGhfkEaJ9ZEkAUkeltjSlK4K2Yds-q_WxKf_xpQg.PNG.infoefficien/image.png?type=w800\" width=\"250\">\n",
    "\n",
    "위 그림은 2개의 신호를 받은 퍼셉트론의 예로 $x_1$과 $x_2$는 입력 신호, $y$는 출력 신호, $w_1, w_2$는 가중치를 뜻한다. 원은 **뉴런** 혹은 **노드**라고 부른다. 입력 신호가 뉴런에 보내질 때 각각 고유한 가중치가 곱해진다. 뉴런에서 보내온 신호의 총합이 **임계값**을 넘을 때만 1을 출력한다(뉴런의 활성화). 임계값은 $\\theta$로 나타낸다. 위의 그림을 수식으로 나타내면 다음과 같다.\n",
    "\n",
    "$$y = \n",
    "\\begin{cases}\n",
    "0 \\ (w_1x_1 + w_2x_2 \\leq \\theta) \\\\\n",
    "1 \\ (w_1x_1 + w_2x_2 > \\theta)\n",
    "\\end{cases}$$\n",
    "\n",
    "퍼셉트론은 입력 신호 각각에 고유한 가중치를 부여한다. 가중치는 각 신호가 결과에 주는 영향력을 조절하고, 가중치가 크면 클 수록 해당 신호가 중요하다는 것을 뜻한다"
   ]
  },
  {
   "cell_type": "markdown",
   "metadata": {},
   "source": [
    "## 2.2 단순한 논리 회로"
   ]
  },
  {
   "cell_type": "markdown",
   "metadata": {},
   "source": [
    "### 2.2.1 AND 게이트\n",
    "\n",
    "|  $x_1$  |  $x_2$  |   $y$   |\n",
    "|---------|---------|---------|\n",
    "|    0    |    0    |    0    |\n",
    "|    1    |    0    |    0    |\n",
    "|    0    |    1    |    0    |\n",
    "|    1    |    1    |    1    |\n",
    "\n",
    "<center><small>AND 게이트 진리표</small></center>\n",
    "    \n",
    "    \n",
    "AND 게이트를 퍼셉트론으로 표현할 수 있다."
   ]
  },
  {
   "cell_type": "markdown",
   "metadata": {},
   "source": [
    "### 2.2.2 NAND 게이트와 OR 게이트\n",
    "\n",
    "NAND는 Not AND를 의미하고, AND의 출력을 뒤집은 것과 동일하다. \n",
    "\n",
    "|  $x_1$  |  $x_2$  |   $y$   |\n",
    "|---------|---------|---------|\n",
    "|    0    |    0    |    1    |\n",
    "|    1    |    0    |    1    |\n",
    "|    0    |    1    |    1    |\n",
    "|    1    |    1    |    0    |\n",
    "\n",
    "<center><small>NAND 게이트 진리표</small></center>\n",
    "\n",
    "AND 게이트를 구현하는 매개변수의 부호를 모두 반전하면 NAND 게이트를 나타내는 퍼셉트론이 된다.\n",
    "\n",
    "|  $x_1$  |  $x_2$  |   $y$   |\n",
    "|---------|---------|---------|\n",
    "|    0    |    0    |    0    |\n",
    "|    1    |    0    |    1    |\n",
    "|    0    |    1    |    1    |\n",
    "|    1    |    1    |    1    |\n",
    "\n",
    "<center><small>OR 게이트 진리표</small></center>\n",
    "\n",
    "AND, OR, NAND 게이트 모두 퍼셉트론으로 표현할 수 있고, 가중치와 임계값만 달라질 뿐이다."
   ]
  },
  {
   "cell_type": "markdown",
   "metadata": {},
   "source": [
    "## 2.3 퍼셉트론 구현하기"
   ]
  },
  {
   "cell_type": "markdown",
   "metadata": {},
   "source": [
    "### 2.3.1 간단한 구현부터"
   ]
  },
  {
   "cell_type": "code",
   "execution_count": 2,
   "metadata": {},
   "outputs": [],
   "source": [
    "def AND(x1, x2):\n",
    "    w1, w2, theta = 0.5, 0.5, 0.7\n",
    "    tmp = x1*w1 + x2*w2\n",
    "    if tmp <= theta:\n",
    "        return 0\n",
    "    elif tmp > theta:\n",
    "        return 1"
   ]
  },
  {
   "cell_type": "code",
   "execution_count": 3,
   "metadata": {},
   "outputs": [
    {
     "name": "stdout",
     "output_type": "stream",
     "text": [
      "0\n",
      "0\n",
      "0\n",
      "1\n"
     ]
    }
   ],
   "source": [
    "print(AND(0, 0))\n",
    "print(AND(0, 1))\n",
    "print(AND(1, 0))\n",
    "print(AND(1, 1))"
   ]
  },
  {
   "cell_type": "markdown",
   "metadata": {},
   "source": [
    "### 2.3.2 가중치와 편향 도입\n",
    "\n",
    "앞의 퍼셉트론을 정의한 식의 $\\theta$를 $-b$로 치환해서 다음과 같은 식으로 변환한다.\n",
    "\n",
    "$$ y =\n",
    "\\begin{cases}\n",
    "0 \\ (b + w_1x_1 + w_2x_2 \\le 0) \\\\\n",
    "1 \\ (b + w_1x_1 + w_2x_2 > 0)\n",
    "\\end{cases}$$\n",
    "\n",
    "여기서 $b$를 **편향(bias)**라고 한다."
   ]
  },
  {
   "cell_type": "code",
   "execution_count": 4,
   "metadata": {},
   "outputs": [],
   "source": [
    "import numpy as np\n",
    "\n",
    "x = np.array([0, 1])\n",
    "w = np.array([0.5, 0.5])\n",
    "b = -0.7"
   ]
  },
  {
   "cell_type": "code",
   "execution_count": 5,
   "metadata": {},
   "outputs": [
    {
     "data": {
      "text/plain": [
       "array([0. , 0.5])"
      ]
     },
     "execution_count": 5,
     "metadata": {},
     "output_type": "execute_result"
    }
   ],
   "source": [
    "w*x"
   ]
  },
  {
   "cell_type": "code",
   "execution_count": 6,
   "metadata": {},
   "outputs": [
    {
     "data": {
      "text/plain": [
       "0.5"
      ]
     },
     "execution_count": 6,
     "metadata": {},
     "output_type": "execute_result"
    }
   ],
   "source": [
    "np.sum(w*x)"
   ]
  },
  {
   "cell_type": "code",
   "execution_count": 7,
   "metadata": {},
   "outputs": [
    {
     "data": {
      "text/plain": [
       "-0.19999999999999996"
      ]
     },
     "execution_count": 7,
     "metadata": {},
     "output_type": "execute_result"
    }
   ],
   "source": [
    "np.sum(w*x) + b"
   ]
  },
  {
   "cell_type": "markdown",
   "metadata": {},
   "source": [
    "### 2.3.3 가중치와 편향 구현하기"
   ]
  },
  {
   "cell_type": "code",
   "execution_count": 8,
   "metadata": {},
   "outputs": [],
   "source": [
    "def AND(x1, x2):\n",
    "    x = np.array([x1, x2])\n",
    "    w = np.array([0.5, 0.5])\n",
    "    b = -0.7\n",
    "    tmp = np.sum(w*x) + b\n",
    "    if tmp <= 0:\n",
    "        return 0\n",
    "    else:\n",
    "        return 1"
   ]
  },
  {
   "cell_type": "code",
   "execution_count": 9,
   "metadata": {},
   "outputs": [],
   "source": [
    "def NAND(x1, x2):\n",
    "    x = np.array([x1, x2])\n",
    "    w = np.array([-0.5, -0.5])\n",
    "    b = 0.7\n",
    "    tmp = np.sum(w*x) + b\n",
    "    if tmp <= 0:\n",
    "        return 0\n",
    "    else:\n",
    "        return 1"
   ]
  },
  {
   "cell_type": "code",
   "execution_count": 10,
   "metadata": {},
   "outputs": [],
   "source": [
    "def OR(x1, x2):\n",
    "    x = np.array([x1, x2])\n",
    "    w = np.array([0.5, 0.5])\n",
    "    b = -0.2\n",
    "    tmp = np.sum(w*x) + b\n",
    "    if tmp <= 0:\n",
    "        return 0\n",
    "    else:\n",
    "        return 1"
   ]
  },
  {
   "cell_type": "code",
   "execution_count": 11,
   "metadata": {},
   "outputs": [
    {
     "name": "stdout",
     "output_type": "stream",
     "text": [
      "0\n",
      "1\n",
      "1\n"
     ]
    }
   ],
   "source": [
    "print(AND(0,1))\n",
    "print(NAND(0,1))\n",
    "print(OR(0,1))"
   ]
  },
  {
   "cell_type": "markdown",
   "metadata": {},
   "source": [
    "w1, w2는 가중치로 신호가 결과에 주는 영향력을 조절하고, b는 편향으로 뉴런이 얼마나 쉽게 활성화되느냐를 조정하는 매개변수이다."
   ]
  },
  {
   "cell_type": "markdown",
   "metadata": {},
   "source": [
    "## 2.4 퍼셉트론의 한계"
   ]
  },
  {
   "cell_type": "markdown",
   "metadata": {},
   "source": [
    "### 2.4.1 도전! XOR 게이트\n",
    "\n",
    "XOR 게이트는 **베타적 논리합**이라는 논리회로이다. \n",
    "\n",
    "|  $x_1$  |  $x_2$  |   $y$   |\n",
    "|---------|---------|---------|\n",
    "|    0    |    0    |    0    |\n",
    "|    1    |    0    |    1    |\n",
    "|    0    |    1    |    1    |\n",
    "|    1    |    1    |    0    |\n",
    "\n",
    "<center><small>XOR 게이트 진리표</small></center>\n",
    "\n",
    "여태까지 본 퍼셉트론으로는 XOR 게이트를 구현할 수 없다. \n",
    "\n",
    "<img src=\"https://miro.medium.com/max/1196/1*Tc8UgR_fjI_h0p3y4H9MwA.png\" width=\"700\">\n",
    "\n",
    "위의 그림을 보면 OR, AND 게이트는 하나의 직선으로 나눌 수 있지만 XOR 게이트는 하나의 직선으로 구역을 나눌 수 없다."
   ]
  },
  {
   "cell_type": "markdown",
   "metadata": {},
   "source": [
    "### 2.4.2 선형과 비선형\n",
    "\n",
    "<img src=\"https://imgs.developpaper.com/imgs/image_1ctp8miec86gdkv1uqopa3o2u1j.png\" width=300>\n",
    "\n",
    "위의 그래프처럼 직선 제약을 없애면 XOR을 하나의 선으로 나눌 수 있다. AND, OR을 나눈 방식을 **선형**, XOR을 나눈 방식을 **비선형**이라고 하고 기계학습 분야에서 많이 나오는 개념이다."
   ]
  },
  {
   "cell_type": "markdown",
   "metadata": {},
   "source": [
    "## 2.5 다층 퍼센트론이 출동하다면\n",
    "\n",
    "**다층 퍼셉트론**을 이용하면 XOR 게이트를 표현할 수 있다."
   ]
  },
  {
   "cell_type": "markdown",
   "metadata": {},
   "source": [
    "### 2.5.1 기존 게이트 조합하기\n",
    "\n",
    "<img src=\"http://cfs16.tistory.com/image/7/tistory/2010/09/16/15/10/4c91b4d4184e6\">\n",
    "\n",
    "위에 표에 나와있는 방식으로 각 회로를 기호로 표현할 수 있고, 다음과 같이 AND, NAND, OR을 조합하면 XOR을 표현할 수 있다.\n",
    "\n",
    "<img src=\"https://www.electronics-tutorials.ws/wp-content/uploads/2018/05/logic-log29.gif\">\n",
    "\n",
    "즉, 단층 퍼셉트론으로는 XOR 게이트를 표현할 수 없지만 다층 퍼셉트론으로는 XOR 게이트를 표현할 수 있다. OR의 출력을 $s_1$, NAND의 출력을 $s_2$로 해서 진리표를 만들면 다음과 같다.\n",
    "\n",
    "|  **$x_1$**  |  **$x_2$**  |  $s_1$  |  $s_2$  |   **$y$**   |\n",
    "|---------|---------|---------|---------|---------|\n",
    "|    **0**    |    **0**    |    1    |    0    |    **0**    |   \n",
    "|    **1**    |    **0**    |    1    |    1    |    **1**    |\n",
    "|    **0**    |    **1**    |    1    |    1    |    **1**    |\n",
    "|    **1**    |    **1**    |    0    |    1    |    **0**    |"
   ]
  },
  {
   "cell_type": "markdown",
   "metadata": {},
   "source": [
    "### 2.5.2 XOR 게이트 구현하기"
   ]
  },
  {
   "cell_type": "code",
   "execution_count": 12,
   "metadata": {},
   "outputs": [],
   "source": [
    "def XOR(x1, x2):\n",
    "    s1 = NAND(x1, x2)\n",
    "    s2 = OR(x1, x2)\n",
    "    y = AND(s1, s2)\n",
    "    return y"
   ]
  },
  {
   "cell_type": "code",
   "execution_count": 13,
   "metadata": {},
   "outputs": [
    {
     "name": "stdout",
     "output_type": "stream",
     "text": [
      "0\n",
      "1\n",
      "1\n",
      "0\n"
     ]
    }
   ],
   "source": [
    "print(XOR(0, 0))\n",
    "print(XOR(0, 1))\n",
    "print(XOR(1, 0))\n",
    "print(XOR(1, 1))"
   ]
  },
  {
   "cell_type": "markdown",
   "metadata": {},
   "source": [
    "<img src=\"https://t1.daumcdn.net/cfile/tistory/2461A3375926C75436\">\n",
    "\n",
    "위의 그림처럼 XOR 퍼셉트론을 표현할 수 있고 다층 구조의 네트워크이다. 이처럼 층이 여래 개인 퍼셉트론을 다층 퍼셉트론이라고 한다. 단층 퍼셉트론으로 표현할 수 없는 것을 층을 늘려 다층 퍼셉트론으로 표현할 수 있다."
   ]
  },
  {
   "cell_type": "markdown",
   "metadata": {},
   "source": [
    "## 2.6 NAND에서 컴퓨터까지\n",
    "\n",
    "다층 퍼셉트론으로 여러 복잡한 회로도 구현할 수 있다. NAND 게이트만을 이용해서 컴퓨터가 수행하는 일을 구현할 수 있다. 이론상 2층 퍼셉트론, 정확히는 시그모이드 함수를 이용하면 컴퓨터를 만들 수 있다. 하지만 2층 퍼셉트론 구조에서 가중치를 조절해서 컴퓨터를 만드는 것은 매우 어렵다. 저수준 소자에서 모듈을 단계적으로 만들어 가는 것이 자연스러운 방식이다(AND, OR 게이트 - 반가산기, 전가산기 - ALU - CPU)."
   ]
  },
  {
   "cell_type": "code",
   "execution_count": null,
   "metadata": {},
   "outputs": [],
   "source": []
  }
 ],
 "metadata": {
  "kernelspec": {
   "display_name": "Python 3",
   "language": "python",
   "name": "python3"
  },
  "language_info": {
   "codemirror_mode": {
    "name": "ipython",
    "version": 3
   },
   "file_extension": ".py",
   "mimetype": "text/x-python",
   "name": "python",
   "nbconvert_exporter": "python",
   "pygments_lexer": "ipython3",
   "version": "3.6.9"
  }
 },
 "nbformat": 4,
 "nbformat_minor": 2
}
