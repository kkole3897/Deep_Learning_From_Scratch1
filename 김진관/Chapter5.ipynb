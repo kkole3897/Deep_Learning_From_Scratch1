{
 "cells": [
  {
   "cell_type": "markdown",
   "metadata": {},
   "source": [
    "# Chapter 5 오차역전파법"
   ]
  },
  {
   "cell_type": "markdown",
   "metadata": {},
   "source": [
    "수치 미분은 시간이 오래 걸리는 단점이 있다. 오차역전파법(backpropagation)은 효율적 계산이 가능하다.\n",
    "\n",
    "- 수식을 통한 이해\n",
    "- 계산 그래프를 통한 이해 ★\n",
    "\n",
    "참고\n",
    "- http://karpathy.github.io/\n",
    "- Stanford CS231n"
   ]
  },
  {
   "cell_type": "markdown",
   "metadata": {},
   "source": [
    "## 5.1 계산 그래프"
   ]
  },
  {
   "cell_type": "markdown",
   "metadata": {},
   "source": [
    "**계산 그래프(computational graph)**는 계산 과정을 그래프로 나타낸 것이다. 그래프는 **노드(node)**와 **에지(edge)**로 표현된다."
   ]
  },
  {
   "cell_type": "markdown",
   "metadata": {},
   "source": [
    "### 5.1.1 계산 그래프로 풀다"
   ]
  },
  {
   "cell_type": "markdown",
   "metadata": {},
   "source": [
    "<img src=\"https://t1.daumcdn.net/cfile/tistory/997ED34B5B98F5F235\">\n",
    "<center><small>▲ 간단한 계산 그래프</small></center>\n",
    "\n",
    "계산 그래프 문제 흐름\n",
    "1. 계산 그래프를 구성한다.\n",
    "2. 그래프에서 계산을 왼쪽에서 오른쪽으로 진행한다.\n",
    "\n",
    "계산을 왼쪽에서 오른쪽으로 진행하는 단계를 **순전파(forward propagation)**이라고 하고 반대 방향을 **역전파(backward propagation)**이라고 한다."
   ]
  },
  {
   "cell_type": "markdown",
   "metadata": {},
   "source": [
    "### 5.1.2 국소적 계산"
   ]
  },
  {
   "cell_type": "markdown",
   "metadata": {},
   "source": [
    "계산 그래프는 국소적 계산을 전파해서 최종 결과를 얻을 수 있다는 특징이 있다. 즉, 다른 부분은 상관하지 않고 자신과 관계된 정보만 출력할 수 있다. 이러한 특징에 따라 각 노드는 자신과 관계된 계산에만 집중하면 된다.\n",
    "\n",
    "<img src=\"https://t1.daumcdn.net/cfile/tistory/991C9E495B98F60F1D\">\n",
    "<center><small>▲ 국소적 계산의 예</small></center>"
   ]
  },
  {
   "cell_type": "markdown",
   "metadata": {},
   "source": [
    "### 5.1.3 왜 계산 그래프로 푸는가?"
   ]
  },
  {
   "cell_type": "markdown",
   "metadata": {},
   "source": [
    "계산 그래프의 이점\n",
    "- 국소적 계산으로 복잡한 문제를 단순화할 수 있다.\n",
    "- 역전파를 통해 (다수의) 미분을 효율적으로 계산할 수 있다.\n",
    "\n",
    "<img src=\"https://t1.daumcdn.net/cfile/tistory/997E914D5B98F62826\">\n",
    "<center><small>▲ 역전파를 통한 미분</small></center>"
   ]
  },
  {
   "cell_type": "markdown",
   "metadata": {},
   "source": [
    "## 5.2 연쇄법칙(chain rule)"
   ]
  },
  {
   "cell_type": "markdown",
   "metadata": {},
   "source": [
    "### 5.2.1 계산 그래프의 역전파"
   ]
  },
  {
   "cell_type": "markdown",
   "metadata": {},
   "source": [
    "<img src=\"https://t1.daumcdn.net/cfile/tistory/999FD3425B98F63F1A\">\n",
    "\n",
    "국소적 미분은 상류에서 전달된 값과 곱해져서 앞쪽 노드로 전달된다."
   ]
  },
  {
   "cell_type": "markdown",
   "metadata": {},
   "source": [
    "### 5.2.2 연쇄법칙이란?"
   ]
  },
  {
   "cell_type": "markdown",
   "metadata": {},
   "source": [
    "연쇄법칙은 합성 함수의 미분이 각 구성 함수의 미분의 곱으로 나타낸다는 성질을 이용한다.\n",
    "\n",
    "예를 들어, $z = (x + y)^2$가 있을때 $x$에 대한 $z$의 미분은 다음과 같이 나타낼 수 있다.\n",
    "\n",
    "$$\\frac {\\partial z} {\\partial x} = \\frac {\\partial z} {\\partial t} \\frac {\\partial t} {\\partial x}$$\n",
    "\n",
    "$$\\frac {\\partial z} {\\partial t} = 2t$$\n",
    "\n",
    "$$\\frac {\\partial t} {\\partial x} = 1$$\n",
    "\n",
    "$$\\frac {\\partial z} {\\partial x} = \\frac {\\partial z} {\\partial t} \\frac {\\partial t} {\\partial x} = 2t \\cdot 1 = 2(x + y)$$"
   ]
  },
  {
   "cell_type": "markdown",
   "metadata": {},
   "source": [
    "### 5.2.3 연쇄법칙과 계산 그래프"
   ]
  },
  {
   "cell_type": "markdown",
   "metadata": {},
   "source": [
    "<img src=\"https://t1.daumcdn.net/cfile/tistory/997387465B98F65D13\">"
   ]
  },
  {
   "cell_type": "markdown",
   "metadata": {},
   "source": [
    "## 5.3 역전파"
   ]
  },
  {
   "cell_type": "markdown",
   "metadata": {},
   "source": [
    "### 5.3.1 덧셈 노드의 역전파"
   ]
  },
  {
   "cell_type": "markdown",
   "metadata": {},
   "source": [
    "덧셈 노드의 역전파는 입력된 값을 그대로 다음 노드로 보낸다.\n",
    "\n",
    "<img src=\"https://t1.daumcdn.net/cfile/tistory/99FB57455B98F67407\">"
   ]
  },
  {
   "cell_type": "markdown",
   "metadata": {},
   "source": [
    "### 5.3.2 곱셈 노드의 역전파"
   ]
  },
  {
   "cell_type": "markdown",
   "metadata": {},
   "source": [
    "곱셈 노드의 역전파는 순전파 때의 입력 신호들을 서로 바꾼 값을 곱해서 하류로 보낸다. 그래서 곱셈 노드를 구현할 때는 순전파의 입력 신호를 변수에 저장한다.\n",
    "\n",
    "<img src=\"https://t1.daumcdn.net/cfile/tistory/99E3EF435B98F69309\">"
   ]
  },
  {
   "cell_type": "markdown",
   "metadata": {},
   "source": [
    "### 5.3.3 사과 쇼핑의 예"
   ]
  },
  {
   "cell_type": "markdown",
   "metadata": {},
   "source": [
    "<img src=\"https://t1.daumcdn.net/cfile/tistory/99AACA445B98F6A61E\">\n",
    "<center><small>▲ 사과 쇼핑의 역전파 예</small></center>\n",
    "\n",
    "<img src=\"https://t1.daumcdn.net/cfile/tistory/99499E4E5B98F6C10E\">\n",
    "<center><small>▲ 사과와 귤 쇼핑의 역전파 예</small></center>"
   ]
  },
  {
   "cell_type": "markdown",
   "metadata": {},
   "source": [
    "## 5.4 단순한 계층 구현하기"
   ]
  },
  {
   "cell_type": "markdown",
   "metadata": {},
   "source": [
    "### 5.4.1 곱셈 계층"
   ]
  },
  {
   "cell_type": "code",
   "execution_count": 2,
   "metadata": {},
   "outputs": [],
   "source": [
    "class MulLayer:\n",
    "    \n",
    "    def __init__(self):\n",
    "        self.x = None\n",
    "        self.y = None\n",
    "        \n",
    "    \n",
    "    def forward(self, x, y):\n",
    "        self.x = x\n",
    "        self.y = y\n",
    "        out = x * y\n",
    "        \n",
    "        return out\n",
    "    \n",
    "    def backward(self, dout):\n",
    "        dx = dout * self.y\n",
    "        dy = dout * self.x\n",
    "        \n",
    "        return dx, dy"
   ]
  },
  {
   "cell_type": "markdown",
   "metadata": {},
   "source": [
    "- 사과 쇼핑 구현"
   ]
  },
  {
   "cell_type": "code",
   "execution_count": 13,
   "metadata": {},
   "outputs": [
    {
     "name": "stdout",
     "output_type": "stream",
     "text": [
      "220.00000000000003\n"
     ]
    }
   ],
   "source": [
    "apple = 100\n",
    "apple_num = 2\n",
    "tax = 1.1\n",
    "\n",
    "# 계층들\n",
    "mul_apple_layer = MulLayer()\n",
    "mul_tax_layer = MulLayer()\n",
    "\n",
    "# 순전파\n",
    "apple_price = mul_apple_layer.forward(apple, apple_num)\n",
    "price = mul_tax_layer.forward(apple_price, tax)\n",
    "\n",
    "print(price) # 다들 오차 나는지?"
   ]
  },
  {
   "cell_type": "code",
   "execution_count": 14,
   "metadata": {},
   "outputs": [
    {
     "name": "stdout",
     "output_type": "stream",
     "text": [
      "2.2 110.00000000000001 200\n"
     ]
    }
   ],
   "source": [
    "# 역전파\n",
    "dprice = 1\n",
    "dapple_price, dtax = mul_tax_layer.backward(dprice)\n",
    "dapple, dapple_num = mul_apple_layer.backward(dapple_price)\n",
    "\n",
    "print(dapple, dapple_num, dtax)"
   ]
  },
  {
   "cell_type": "markdown",
   "metadata": {},
   "source": [
    "### 5.4.2 덧셈 계층"
   ]
  },
  {
   "cell_type": "code",
   "execution_count": 15,
   "metadata": {},
   "outputs": [],
   "source": [
    "class AddLayer:\n",
    "    \n",
    "    def __init__(self):\n",
    "        pass\n",
    "    \n",
    "    \n",
    "    def forward(self, x, y):\n",
    "        out = x + y\n",
    "        return out\n",
    "    \n",
    "    \n",
    "    def backward(self, dout):\n",
    "        dx = dout * 1\n",
    "        dy = dout * 1\n",
    "        \n",
    "        return dx, dy"
   ]
  },
  {
   "cell_type": "markdown",
   "metadata": {},
   "source": [
    "덧셈 계층은 그저 상류에서 내려온 미분을 하류로 흘러보내기만 하면 되기 때문에 따로 초기화할 필요가 없다."
   ]
  },
  {
   "cell_type": "markdown",
   "metadata": {},
   "source": [
    "- 사과 2개와 귤 3개를 사는 상황"
   ]
  },
  {
   "cell_type": "code",
   "execution_count": 18,
   "metadata": {},
   "outputs": [
    {
     "name": "stdout",
     "output_type": "stream",
     "text": [
      "715.0000000000001\n",
      "2.2 110.00000000000001 3.3000000000000003 165.0\n"
     ]
    }
   ],
   "source": [
    "apple_num = 2\n",
    "apple = 100\n",
    "mandarin_num = 3\n",
    "mandarin = 150\n",
    "tax = 1.1\n",
    "\n",
    "mul_apple_layer = MulLayer()\n",
    "mul_mandarin_layer = MulLayer()\n",
    "add_fruit_layer = AddLayer()\n",
    "mul_tax_layer = MulLayer()\n",
    "\n",
    "apple_price = mul_apple_layer.forward(apple, apple_num)\n",
    "mandarin_price = mul_mandarin_layer.forward(mandarin, mandarin_num)\n",
    "fruit_price = add_fruit_layer.forward(apple_price, mandarin_price)\n",
    "total_price = mul_tax_layer.forward(fruit_price, tax)\n",
    "\n",
    "print(total_price)\n",
    "\n",
    "dtotal_price = 1\n",
    "dfruit_price, dtax = mul_tax_layer.backward(dprice)\n",
    "dapple_price, dmandarin_price = add_fruit_layer.backward(dfruit_price)\n",
    "dapple, dapple_num = mul_apple_layer.backward(dapple_price)\n",
    "dmandarin, dmandarin_num = mul_mandarin_layer.backward(dmandarin_price)\n",
    "\n",
    "print(dapple, dapple_num, dmandarin, dmandarin_num)"
   ]
  },
  {
   "cell_type": "markdown",
   "metadata": {},
   "source": [
    "## 5.5 활성화 함수 계층 구현하기"
   ]
  },
  {
   "cell_type": "markdown",
   "metadata": {},
   "source": [
    "### 5.5.1 ReLU 계층"
   ]
  },
  {
   "cell_type": "markdown",
   "metadata": {},
   "source": [
    "- ReLU 수식\n",
    "\n",
    "$$y = \n",
    "\\begin{cases}\n",
    "x \\ (x > 0) \\\\\n",
    "0 \\ (x \\leq 0)\n",
    "\\end{cases}$$\n",
    "\n",
    "- ReLU 미분\n",
    "\n",
    "$$\\frac {\\partial y}{\\partial x} = \n",
    "\\begin{cases}\n",
    "1 \\ (x > 0) \\\\\n",
    "0 \\ (x \\leq 0)\n",
    "\\end{cases}$$\n",
    "\n",
    "<img src=\"https://t1.daumcdn.net/cfile/tistory/99E517485B98F6E504\">\n",
    "<center><small>▲ ReLU 계산 그래프</small></center>"
   ]
  },
  {
   "cell_type": "code",
   "execution_count": 21,
   "metadata": {},
   "outputs": [],
   "source": [
    "import numpy as np"
   ]
  },
  {
   "cell_type": "code",
   "execution_count": 19,
   "metadata": {},
   "outputs": [],
   "source": [
    "class Relu:\n",
    "    \n",
    "    def __init__(self):\n",
    "        self,mask = None    # 입력 원소가 0 이하인 인덱스는 True, 0보다 큰 경우 False 유지\n",
    "        \n",
    "        \n",
    "    def forward(self, x):\n",
    "        self.mask = (x <= 0)\n",
    "        out = x.copy()\n",
    "        out[self.mask] = 0\n",
    "        \n",
    "        return 0\n",
    "    \n",
    "    \n",
    "    def backward(self, dout):\n",
    "        dout[self.mask] = 0\n",
    "        dx = dout\n",
    "        \n",
    "        return dx"
   ]
  },
  {
   "cell_type": "code",
   "execution_count": 22,
   "metadata": {},
   "outputs": [
    {
     "name": "stdout",
     "output_type": "stream",
     "text": [
      "[[ 1.  -0.5]\n",
      " [-2.   3. ]]\n"
     ]
    }
   ],
   "source": [
    "x = np.array([[1.0, -0.5], [-2.0, 3.0]])\n",
    "print(x)"
   ]
  },
  {
   "cell_type": "code",
   "execution_count": 24,
   "metadata": {},
   "outputs": [
    {
     "name": "stdout",
     "output_type": "stream",
     "text": [
      "[[False  True]\n",
      " [ True False]]\n"
     ]
    }
   ],
   "source": [
    "mask = (x <= 0)\n",
    "print(mask)"
   ]
  },
  {
   "cell_type": "markdown",
   "metadata": {},
   "source": [
    "mask 인스턴스 변수를 써서 mask의 원소가 True인 곳은 상류에서 전파된 미분값을 0으로 바꾼다."
   ]
  },
  {
   "cell_type": "markdown",
   "metadata": {},
   "source": [
    "### 5.5.2 Sigmoid 계층"
   ]
  },
  {
   "cell_type": "markdown",
   "metadata": {},
   "source": [
    "- 시그모이드 수식\n",
    "\n",
    "$$y = \\frac 1 {1+exp(-x)}$$\n",
    "\n",
    "- '/' 노드, $y = \\frac 1 x$ 미분\n",
    "\n",
    "$$\\begin{align}\n",
    "\\frac {\\partial y} {\\partial x} & = -\\frac 1 {x^2} \\\\\n",
    "& = -y^2 \\\\\n",
    "\\end{align}$$\n",
    "\n",
    "- exp 노드 미분\n",
    "\n",
    "$$\\frac {\\partial y} {\\partial x} = exp(x)$$\n",
    "\n",
    "\n",
    "<img src=\"https://t1.daumcdn.net/cfile/tistory/999E3B4B5B98F72021\">\n",
    "<center><small>▲ 시그모이드 순전파/역전파</small></center>\n",
    "\n",
    "- sigmoid 미분\n",
    "\n",
    "$$\\begin{align}\n",
    "\\frac {\\partial y} {\\partial x} & = y^2exp(-x) \\\\\n",
    "& = \\frac 1 {(1 + exp(-x))^2} exp(-x) \\\\\n",
    "& = \\frac 1 {1 + exp(-x)} \\frac {exp(-x)} {1+exp(-x)} \\\\\n",
    "& = y(1-y)\n",
    "\\end{align}$$\n",
    "\n",
    "시그모이드 계층의 역전파는 순전파의 출력만으로 계산할 수 있다."
   ]
  },
  {
   "cell_type": "code",
   "execution_count": 25,
   "metadata": {},
   "outputs": [],
   "source": [
    "class Sigmoid:\n",
    "    \n",
    "    def __init__(self):\n",
    "        self.out = None\n",
    "    \n",
    "    \n",
    "    def forward(self, x):\n",
    "        out = 1 / (1 + np.exp(-x))\n",
    "        self.out = out\n",
    "        \n",
    "        return out\n",
    "    \n",
    "    \n",
    "    def backward(self, dout):\n",
    "        dx = dout * (1.0 - self.out) * self.out\n",
    "        \n",
    "        return dx"
   ]
  },
  {
   "cell_type": "markdown",
   "metadata": {},
   "source": [
    "구현에서 순전파의 출력을 out 인스턴스 변수에 저장해 놓고 역전파 계산할 때 사용한다."
   ]
  },
  {
   "cell_type": "markdown",
   "metadata": {},
   "source": [
    "## 5.6 Affine/Softmax 계층 구현하기"
   ]
  },
  {
   "cell_type": "markdown",
   "metadata": {},
   "source": [
    "### 5.6.1 Affine 계층"
   ]
  },
  {
   "cell_type": "markdown",
   "metadata": {},
   "source": [
    "행렬의 곱을 기하학에서는 **어파인 변환(affine transformation)**이라고 한다.\n",
    "\n",
    "$$\\frac {\\partial L} {\\partial X} = \\frac {\\partial L} {\\partial Y} \\cdot W^T$$\n",
    "\n",
    "$$\\frac {\\partial L} {\\partial W} = X^T \\cdot \\frac {\\partial L} {\\partial Y}$$\n",
    "\n",
    "<img src=\"https://t1.daumcdn.net/cfile/tistory/994002375B98F73E05\">\n",
    "\n",
    "계산 그래프에서 각 원소의 형상에 주의해야 한다."
   ]
  },
  {
   "cell_type": "markdown",
   "metadata": {},
   "source": [
    "### 5.6.2 배치용 Affine 계층"
   ]
  },
  {
   "cell_type": "markdown",
   "metadata": {},
   "source": [
    "<img src=\"https://t1.daumcdn.net/cfile/tistory/994510365B98F75122\">\n",
    "\n",
    "편향의 경우에는 순전파에서 각각의 데이터에 더해진다. 그래서 역전파 때는 편향의 원소에 역전파 값이 편향에 모여야 한다."
   ]
  },
  {
   "cell_type": "code",
   "execution_count": 26,
   "metadata": {},
   "outputs": [],
   "source": [
    "class Affine:\n",
    "    \n",
    "    def __init__(self, W, b):\n",
    "        self.W = W\n",
    "        self.b = b\n",
    "        self.x = None\n",
    "        self.dW = None\n",
    "        self.db = None\n",
    "        \n",
    "    \n",
    "    def forward(self, x):\n",
    "        self.x = x\n",
    "        out = np.dot(x, self.W) + self.b\n",
    "        \n",
    "        return out\n",
    "    \n",
    "    \n",
    "    def backward(self, dout):\n",
    "        dx = np.dot(dout, self.W.T)\n",
    "        self.dW = np.dot(self.x.T, dout)\n",
    "        self.db = np.sum(dout, axis=0)\n",
    "        \n",
    "        return dx"
   ]
  },
  {
   "cell_type": "markdown",
   "metadata": {},
   "source": [
    "### 5.6.3 Softmax-with-Loss 계층"
   ]
  },
  {
   "cell_type": "markdown",
   "metadata": {},
   "source": [
    "Softmax 계층은 출력의 합이 1이 되도록 정규화하여 출력한다.\n",
    "\n",
    "<img src=\"https://t1.daumcdn.net/cfile/tistory/995A16395B98F76820\">\n",
    "\n",
    "<img src=\"https://t1.daumcdn.net/cfile/tistory/99EBF5395B98F7792B\">\n",
    "<center><small>▲ Softmax-with-Loss 계층의 계산 그래프</small></center>\n",
    "\n",
    "<img src=\"https://camo.qiitausercontent.com/c879a9a466f923c0978973590908d2b1c0725592/68747470733a2f2f71696974612d696d6167652d73746f72652e73332e616d617a6f6e6177732e636f6d2f302f3139373530382f66353935633337652d323562312d383666392d356438632d3937343532343461626633372e706e67\" width=450>\n",
    "<center><small>▲ Softmax-with-Loss 계층 계산 그래프 간소화</small></center>\n",
    "\n",
    "Softmax 계층의 역전파 결과에서 중요한 점은 Softmax 계층의 출력과 정답 레이블의 차이로, 신경망의 현재 출력과 정답 레이블의 오차를 그래로 드러낸다는 것이다.\n",
    "\n",
    "참고로 항등 함수의 손실 함수로 평균 제곱 오차를 사용하는데 이 때의 역전파 값도 위와 동일하다."
   ]
  },
  {
   "cell_type": "code",
   "execution_count": 28,
   "metadata": {},
   "outputs": [],
   "source": [
    "# 소프트맥스 오버플로 개선 버전\n",
    "def softmax(a):\n",
    "    c = np.max(a)\n",
    "    exp_a = np.exp(a - c)\n",
    "    sum_exp_a = np.sum(exp_a)\n",
    "    y = exp_a / sum_exp_a\n",
    "    \n",
    "    return y"
   ]
  },
  {
   "cell_type": "code",
   "execution_count": 29,
   "metadata": {},
   "outputs": [],
   "source": [
    "# 데이터가 1개나 그 이상의 배치로 주어지는 경우\n",
    "def cross_entropy_error(y, t):\n",
    "    # y가 1차원, 즉 하나의 데이터일 경우 shape을 바꿔준다.\n",
    "    if y.ndim == 1:\n",
    "        t = t.reshape(1, t.size)\n",
    "        y = y.reshape(1, y.size)\n",
    "        \n",
    "    batch_size = y.shape[0]\n",
    "    return -np.sum(t * np.log(y + 1e-7)) / batch_size"
   ]
  },
  {
   "cell_type": "code",
   "execution_count": 30,
   "metadata": {},
   "outputs": [],
   "source": [
    "class SoftmaxWithLoss:\n",
    "    \n",
    "    def __init__(self):\n",
    "        self.loss = None   # 손실\n",
    "        self.y = None      # softmax 출력\n",
    "        self.t = None      # 정답 레이블(원-핫 벡터)\n",
    "        \n",
    "    \n",
    "    def forward(self, x, t):\n",
    "        self.t = t\n",
    "        self.y = softmax(x)\n",
    "        self.loss = cross_entropy_error(self.y, self.t)\n",
    "        \n",
    "        return self.loss\n",
    "    \n",
    "    \n",
    "    def backward(self, dout=1):\n",
    "        batch_size = self.t.shape[0]\n",
    "        dx = (self.y - self.t) / batch_size\n",
    "        \n",
    "        return dx"
   ]
  },
  {
   "cell_type": "markdown",
   "metadata": {},
   "source": [
    "## 5.7 오차역전파법 구현하기"
   ]
  },
  {
   "cell_type": "markdown",
   "metadata": {},
   "source": [
    "### 5.7.1 신경망 학습의 전체 그림 (생략)"
   ]
  },
  {
   "cell_type": "markdown",
   "metadata": {},
   "source": [
    "### 5.7.2 오차역전파법을 적용한 신경망 구현하기"
   ]
  },
  {
   "cell_type": "code",
   "execution_count": 31,
   "metadata": {},
   "outputs": [],
   "source": [
    "import sys, os\n",
    "sys.path.append(os.pardir)\n",
    "import numpy as np\n",
    "from common.layers import *\n",
    "from common.gradient import numerical_gradient\n",
    "from collections import OrderedDict"
   ]
  },
  {
   "cell_type": "code",
   "execution_count": 37,
   "metadata": {},
   "outputs": [],
   "source": [
    "class TwoLayerNet:\n",
    "    \n",
    "    def __init__(self, input_size, hidden_size, output_size, weight_init_std=0.01):\n",
    "        # 가중치 초기화\n",
    "        self.params = {}\n",
    "        self.params['W1'] = weight_init_std * np.random.randn(input_size, hidden_size)\n",
    "        self.params['b1'] = np.zeros(hidden_size)\n",
    "        self.params['W2'] = weight_init_std * np.random.randn(hidden_size, output_size)\n",
    "        self.params['b2'] = np.zeros(output_size)\n",
    "        \n",
    "        # 계층 생성\n",
    "        self.layers = OrderedDict()\n",
    "        self.layers['Affine1'] = Affine(self.params[\"W1\"], self.params['b1'])\n",
    "        self.layers['Relu1'] = Relu()\n",
    "        self.layers['Affine2'] = Affine(self.params['W2'], self.params['b2'])\n",
    "        \n",
    "        self.lastLayer = SoftmaxWithLoss()\n",
    "        \n",
    "    \n",
    "    def predict(self, x):\n",
    "        for layer in self.layers.values():\n",
    "            x = layer.forward(x)\n",
    "            \n",
    "        return x\n",
    "    \n",
    "    \n",
    "    # x: 입력 데이터, t: 정답 레이블\n",
    "    def loss(self, x, t):\n",
    "        y = self.predict(x)\n",
    "        \n",
    "        return self.lastLayer.forward(y, t)\n",
    "    \n",
    "    \n",
    "    def accuracy(self, x, t):\n",
    "        y = self.predict(x)\n",
    "        y = np.argmax(y, axis=1)\n",
    "        if t.ndim != 1 : \n",
    "            t = np.argmax(t, axis=1)\n",
    "            \n",
    "        accuracy = np.sum(y == t) / float(x.shape[0])\n",
    "        \n",
    "        return accuracy\n",
    "    \n",
    "    \n",
    "    # x: 입력 데이터, t: 정답 레이블\n",
    "    def numerical_gradient(self, x, t):\n",
    "        loss_W = lambda W: self.loss(x, t)\n",
    "        \n",
    "        grads = {}\n",
    "        grads['W1'] = numerical_gradient(loss_W, self.params['W1'])\n",
    "        grads['b1'] = numerical_gradient(loss_W, self.params['b1'])\n",
    "        grads['W2'] = numerical_gradient(loss_W, self.params['W2'])\n",
    "        grads['b2'] = numerical_gradient(loss_W, self.params['b2'])\n",
    "        \n",
    "        return grads\n",
    "    \n",
    "    \n",
    "    def gradient(self, x, t):\n",
    "        # 순전파\n",
    "        self.loss(x, t)\n",
    "        \n",
    "        # 역전파\n",
    "        dout = 1\n",
    "        dout = self.lastLayer.backward(dout)\n",
    "        \n",
    "        layers = list(self.layers.values())\n",
    "        layers.reverse()\n",
    "        for layer in layers:\n",
    "            dout = layer.backward(dout)\n",
    "            \n",
    "        # 결과 저장\n",
    "        grads = {}\n",
    "        grads['W1'] = self.layers['Affine1'].dW\n",
    "        grads['b1'] = self.layers['Affine1'].db\n",
    "        grads['W2'] = self.layers['Affine2'].dW\n",
    "        grads['b2'] = self.layers['Affine2'].db\n",
    "        \n",
    "        return grads"
   ]
  },
  {
   "cell_type": "markdown",
   "metadata": {},
   "source": [
    "### 5.7.3 오차역전파법으로 구한 기울기 검증하기"
   ]
  },
  {
   "cell_type": "markdown",
   "metadata": {},
   "source": [
    "기울기 구하는 방법\n",
    "- 수치 미분: 구현은 간단하지만 느리다\n",
    "- 해석적 방법: 오차역전파법 이용해서 매개변수 많아도 빠르게 계산 가능\n",
    "\n",
    "실제 학습을 할 땐 계산이 빠른 오차역전파법을 이용하고 수치 미분은 오차역전파법을 정확하게 구현했는지 확인하는 용도로 사용한다. 두 방식으로 기울기가 일치하는 것을 확인하는 작업을 **기울기 확인(gradient check)**라고 한다."
   ]
  },
  {
   "cell_type": "code",
   "execution_count": 38,
   "metadata": {},
   "outputs": [],
   "source": [
    "import sys, os\n",
    "sys.path.append(os.pardir)\n",
    "import numpy as np\n",
    "from dataset.mnist import load_mnist\n",
    "from two_layer_net import TwoLayerNet"
   ]
  },
  {
   "cell_type": "code",
   "execution_count": 42,
   "metadata": {},
   "outputs": [
    {
     "name": "stdout",
     "output_type": "stream",
     "text": [
      "W1: 2.0655630540316686e-10\n",
      "b1: 1.1163263739284333e-09\n",
      "W2: 7.232095981457576e-08\n",
      "b2: 1.4492399771914855e-07\n"
     ]
    }
   ],
   "source": [
    "(x_train, t_train), (x_test, t_test) = load_mnist(normalize=True, one_hot_label=True)\n",
    "\n",
    "network = TwoLayerNet(input_size=784, hidden_size=50, output_size=10)\n",
    "\n",
    "x_batch = x_train[:3]\n",
    "t_batch = t_train[:3]\n",
    "\n",
    "grad_numerical = network.numerical_gradient(x_batch, t_batch)\n",
    "grad_backprop = network.gradient(x_batch, t_batch)\n",
    "\n",
    "# 가 가중치의 차이의 절댓값을 구한 후, 그 절댓값들의 평균을 낸다.\n",
    "for key in grad_numerical.keys():\n",
    "    diff = np.average(np.abs(grad_backprop[key] - grad_numerical[key]))\n",
    "    print(key + \": \" + str(diff))"
   ]
  },
  {
   "cell_type": "markdown",
   "metadata": {},
   "source": [
    "### 5.7.4 오차역전파법을 사용한 학습 구현하기"
   ]
  },
  {
   "cell_type": "code",
   "execution_count": 43,
   "metadata": {},
   "outputs": [],
   "source": [
    "import sys, os\n",
    "sys.path.append(os.pardir)\n",
    "import numpy as np\n",
    "from dataset.mnist import load_mnist\n",
    "from two_layer_net import TwoLayerNet"
   ]
  },
  {
   "cell_type": "code",
   "execution_count": 45,
   "metadata": {},
   "outputs": [
    {
     "name": "stdout",
     "output_type": "stream",
     "text": [
      "0.11236666666666667 0.1135\n",
      "0.7885 0.7957\n",
      "0.8772 0.8808\n",
      "0.8986666666666666 0.9036\n",
      "0.9084666666666666 0.9127\n",
      "0.9139166666666667 0.9173\n",
      "0.9194333333333333 0.9213\n",
      "0.9230166666666667 0.9252\n",
      "0.9273333333333333 0.9294\n",
      "0.9311333333333334 0.9312\n",
      "0.9345166666666667 0.9336\n",
      "0.9368833333333333 0.9372\n",
      "0.9398333333333333 0.9386\n",
      "0.94185 0.9404\n",
      "0.9450833333333334 0.9424\n",
      "0.9458666666666666 0.944\n",
      "0.9469 0.9467\n"
     ]
    }
   ],
   "source": [
    "(x_train, t_train), (x_test, t_test) = load_mnist(normalize=True, one_hot_label=True)\n",
    "network = TwoLayerNet(input_size=784, hidden_size=50, output_size=10)\n",
    "\n",
    "iters_num = 10000\n",
    "train_size = x_train.shape[0]\n",
    "batch_size = 100\n",
    "learning_rate = 0.1\n",
    "\n",
    "train_loss_list = []\n",
    "train_acc_list = []\n",
    "test_acc_list = []\n",
    "\n",
    "iter_per_epoch = max(train_size / batch_size, 1)\n",
    "\n",
    "for i in range(iters_num):\n",
    "    batch_mask = np.random.choice(train_size, batch_size)\n",
    "    x_batch = x_train[batch_mask]\n",
    "    t_batch = t_train[batch_mask]\n",
    "    \n",
    "    # 오차역전파법으로 기울기를 구한다.\n",
    "    grad = network.gradient(x_batch, t_batch)\n",
    "    \n",
    "    # 갱신\n",
    "    for key in ('W1', 'b1', 'W2', 'b2'):\n",
    "        network.params[key] -= learning_rate * grad[key]\n",
    "        \n",
    "    loss = network.loss(x_batch, t_batch)\n",
    "    train_loss_list.append(loss)\n",
    "    \n",
    "    if i % iter_per_epoch == 0:\n",
    "        train_acc = network.accuracy(x_train, t_train)\n",
    "        test_acc = network.accuracy(x_test, t_test)\n",
    "        train_acc_list.append(train_acc)\n",
    "        test_acc_list.append(test_acc)\n",
    "        print(train_acc, test_acc)"
   ]
  },
  {
   "cell_type": "code",
   "execution_count": null,
   "metadata": {},
   "outputs": [],
   "source": []
  }
 ],
 "metadata": {
  "kernelspec": {
   "display_name": "Python 3",
   "language": "python",
   "name": "python3"
  },
  "language_info": {
   "codemirror_mode": {
    "name": "ipython",
    "version": 3
   },
   "file_extension": ".py",
   "mimetype": "text/x-python",
   "name": "python",
   "nbconvert_exporter": "python",
   "pygments_lexer": "ipython3",
   "version": "3.6.9"
  }
 },
 "nbformat": 4,
 "nbformat_minor": 2
}
