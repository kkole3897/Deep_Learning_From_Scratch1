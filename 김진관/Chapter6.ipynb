{
 "cells": [
  {
   "cell_type": "markdown",
   "metadata": {},
   "source": [
    "# Chapter 6 학습 관련 기술들"
   ]
  },
  {
   "cell_type": "markdown",
   "metadata": {},
   "source": [
    "딥러닝 학습 효율, 정확도 개선 방법\n",
    "- 가중치 매개변수 최적값 탐색하는 최적화 방법\n",
    "- 가중치 매개변수 초깃값\n",
    "- 하이퍼파라미터 설정 방법\n",
    "- 오버피팅 대응책\n",
    "    - 가중치 감소\n",
    "    - 드롭아웃\n",
    "- 배치 정규화"
   ]
  },
  {
   "cell_type": "markdown",
   "metadata": {},
   "source": [
    "## 6.1 매개변수 갱신"
   ]
  },
  {
   "cell_type": "markdown",
   "metadata": {},
   "source": [
    "신경망 학습의 목표는 매개변수의 최적값을 찾는 **최적화(optimization)**이다. 여태까지 사용한 최적화 방법으로 미분을 이용했는데 이 방법을 **확률적 경사 하강법(SGD)**라고 한다."
   ]
  },
  {
   "cell_type": "markdown",
   "metadata": {},
   "source": [
    "### 6.1.1 모험가 이야기 (생략)"
   ]
  },
  {
   "cell_type": "markdown",
   "metadata": {},
   "source": [
    "### 6.1.2 확률적 경사 하강법(SGD)"
   ]
  },
  {
   "cell_type": "markdown",
   "metadata": {},
   "source": [
    "- SGD 수식\n",
    "\n",
    "$$W \\leftarrow W - \\eta \\frac {\\partial L} {\\partial W}$$"
   ]
  },
  {
   "cell_type": "code",
   "execution_count": 1,
   "metadata": {},
   "outputs": [],
   "source": [
    "class SGD:\n",
    "    \n",
    "    def __init__(self, lr=0.01):\n",
    "        self.lr = lr\n",
    "        \n",
    "    \n",
    "    def update(self, params, grads):\n",
    "        for key in params.keys():\n",
    "            params[key] -= self.lr * grads[key]"
   ]
  },
  {
   "cell_type": "markdown",
   "metadata": {},
   "source": [
    "다음은 SGD 클래스를 사용하는 의사코드 예시이다.\n",
    "\n",
    "```\n",
    "network = TwoLayerNet(...)\n",
    "optimizer = SGD()\n",
    "\n",
    "for i in range(10000):\n",
    "    ...\n",
    "    x_batch, t_batch = get_mini_batch(...)\n",
    "    grads = network.gradient(x_batch, t_batch)\n",
    "    params = network.params\n",
    "    optimizer.update(params, grads)\n",
    "    ...\n",
    "```\n",
    "\n",
    "매개 변수 갱신은 optimizer가 책임을 지고 optimizer에 매개변수와 기울기 정보만 넘겨주면 된다. 여러 최적화 관련 클래스를 만들어 모듈화하면 다양한 방법으로 쉽게 최적화할 수 있다."
   ]
  },
  {
   "cell_type": "markdown",
   "metadata": {},
   "source": [
    "### 6.1.3 SGD의 단점"
   ]
  },
  {
   "cell_type": "markdown",
   "metadata": {},
   "source": [
    "- 예시 함수\n",
    "\n",
    "$$f(x, y) = \\frac 1 {20} x^2 + y^2$$\n",
    "\n",
    "<img src=\"https://mblogthumb-phinf.pstatic.net/MjAxNzA3MjdfMjU3/MDAxNTAxMTIxODU0MTYx.RZxiBW4kDiXReqK1UDxfBAffbM-pWJQwEI82m-evhucg.N_UhoBOXaCVYUPsP4wuoi4UUL1qQ_5iNEB000_QP1S4g.PNG.cjswo9207/fig_6-1.png?type=w2\">\n",
    "<center><small>▲ 그래프(왼쪽), 등고선(오른쪽)</small></center>\n",
    "\n",
    "<img src=\"https://mblogthumb-phinf.pstatic.net/MjAxNzA3MjdfMTMx/MDAxNTAxMTIxOTIwOTE4.b5qnZS_a5u0UOQV16EQzWZpGXpmAkjKeqNVE8COqaNQg.sO1Li2aqIyVhpv3h1NfwLCuyqUfw9G1GZR-Nbsy0trgg.PNG.cjswo9207/fig_6-2.png?type=w2\">\n",
    "<center><small>▲ 기울기</small></center>\n",
    "\n",
    "최솟값이 되는 위치는 $(x, y) = (0, 0)$이지만 대부분의 기울기는 $(0, 0)$을 가리키지 않는다.\n",
    "\n",
    "<img src=\"https://mblogthumb-phinf.pstatic.net/MjAxNzA3MjdfMTU0/MDAxNTAxMTIyMDAwNTA1.E7zIAUXugKPAA5WiBXpF7HtATQ8nVjfBvJF-LJwqtsIg.52gqDjo2sPPup4Bfz5hOtp_b1svFcFItoYAJreHPp6Ag.PNG.cjswo9207/fig_6-3.png?type=w2\">\n",
    "<center><small>▲ SGD에 의한 최적화  갱신 경로</small></center>\n",
    "\n",
    "- 비등방성 함수(방향에 따라 기울기가 달라지는 함수)에서 탐색 경로가 비효율적\n",
    "- 근본 원인은 최솟값과 다른 방향을 가리키는 기울기"
   ]
  },
  {
   "cell_type": "markdown",
   "metadata": {},
   "source": [
    "### 6.1.4 모멘텀(Momentum)"
   ]
  },
  {
   "cell_type": "markdown",
   "metadata": {},
   "source": [
    "$$\\mathbf{v} \\leftarrow \\alpha \\mathbf{v} - \\eta \\frac {\\partial L} {\\partial W}$$\n",
    "$$W \\leftarrow W + \\mathbf{v}$$\n",
    "\n",
    "- $\\mathbf{v}$: 속도\n",
    "- 위의 첫번째 식은 기울기 방향으로 힘을 받아 물체가 가속된다는 물리 법칙을 나타낸다.\n",
    "- $\\alpha\\mathbf{v}$: 물체가 아무런 힘을 받지 않을 때 서서히 하강시키는 역할"
   ]
  },
  {
   "cell_type": "code",
   "execution_count": 2,
   "metadata": {},
   "outputs": [],
   "source": [
    "import numpy as np"
   ]
  },
  {
   "cell_type": "code",
   "execution_count": 3,
   "metadata": {},
   "outputs": [],
   "source": [
    "class Momentum:\n",
    "    \n",
    "    def __init__(self, lr=0.01, momentum=0.9):\n",
    "        self.lr = lr\n",
    "        self.momentum = momentum\n",
    "        self.v = None\n",
    "        \n",
    "    \n",
    "    def update(self, params, grads):\n",
    "        if self.v is None:\n",
    "            self.v = {}\n",
    "            for key, val in params.items():\n",
    "                self.v[key] = np.zeros_like(val)\n",
    "                \n",
    "        for key in params.keys():\n",
    "            self.v[key] = self.momentum*self.v[key] - self.lr*grads[key]\n",
    "            params[key] += self.v[key]"
   ]
  },
  {
   "cell_type": "markdown",
   "metadata": {},
   "source": [
    "<img src=\"https://mblogthumb-phinf.pstatic.net/MjAxNzA3MjdfMjQ5/MDAxNTAxMTIzNzcxMjY4.pW8LeX0QqcoQMI1qBQmpYf9skv8k0G2SBAqrmk_uP84g.CKPbYA_icOECAZXhBTB_g1qzmDRdtL3vUbEfbU4Y8yMg.PNG.cjswo9207/fig_6-5.png?type=w2\">\n",
    "\n",
    "<center><small>▲ 모멘텀에 의한 최적화 갱신 경로</small></center>\n",
    "\n",
    "Q: 모멘텀 왜 이런 식으로 움직이는지?\n",
    "\n",
    "SGD와 비교하면 지그재그가 덜 하다. 이유는 $x$축의 힘은 작지만 방향이 변하지 않아서 일정하게 가속하고 $y$축의 힘은 크지만 위아래로 번갈아 받아서 상충하여 $y$축 방향의 속도는 안정적이지 않기 때문이다."
   ]
  },
  {
   "cell_type": "markdown",
   "metadata": {},
   "source": [
    "### 6.1.5 AdaGrad "
   ]
  },
  {
   "cell_type": "markdown",
   "metadata": {},
   "source": [
    "**학습률 감소(learning rate decay)**  \n",
    "학습을 진행하면서 학습률을 점차 줄여나가는 방법\n",
    "\n",
    "AdaGrad는 개별 매개 변수에 적응적으로 학습률을 조정하면서 학습을 진행한다.\n",
    "\n",
    "$$\\mathbf{h} \\leftarrow \\mathbf{h} + \\frac {\\partial L} {\\partial \\mathbf{W}} \\odot \\frac {\\partial L} {\\partial \\mathbf{W}}$$\n",
    "\n",
    "$$\\mathbf{W} \\leftarrow \\mathbf{W} - \\eta \\frac 1 {\\sqrt{\\mathbf{h}}} \\frac {\\partial L} {\\partial \\mathbf{W}}$$\n",
    "\n",
    "- $\\odot$: 행렬 원소별 곱셈\n",
    "- $\\mathbf{h}$: 기존 기울기 제곱해서 계속 더해주고 매개변수 갱신할 때 $\\frac 1 {\\sqrt{\\mathbf{h}}}$로 학습률 조정\n",
    "- 많이 움직인 원소의 학습률이 낮아짐\n",
    "\n",
    "AdaGrad는 과거의 기울기의 제곱을 계속 누적해서 어느 순간 갱신량이 0이 되는 문제가 발생한다. 이를 개선한 기법으로 RMSProp이 있다. RMSProp은 지수이동평균을 이용해서 과거의 기울기를 서서히 잊고 새로운 기울기 정보를 더욱 크게 반영한다."
   ]
  },
  {
   "cell_type": "code",
   "execution_count": 4,
   "metadata": {},
   "outputs": [],
   "source": [
    "class AdaGrad:\n",
    "    \n",
    "    def __init__(self, lr=0.01):\n",
    "        self.lr = lr\n",
    "        self.h = None\n",
    "        \n",
    "    \n",
    "    def update(self, params, grads):\n",
    "        if self.h is None:\n",
    "            self.h = {}\n",
    "            for key, val in parmas.items():\n",
    "                self.h[key] = np.zeros_like(val)\n",
    "                \n",
    "        for key in params.keys():\n",
    "            self.h[key] += grads[key] * grads[key]\n",
    "            params[key] -= self.lr * gras[key] / (np.sqrt(self.h[key]) + 1e-7)"
   ]
  },
  {
   "cell_type": "markdown",
   "metadata": {},
   "source": [
    "1e-7을 더해주는 이유는 0으로 나누는 일을 막기 위함이다. 대분분의 딥러닝 프레임워크에서 이 값도 인수로 설정할 수 있다.\n",
    "\n",
    "<img src=\"https://mblogthumb-phinf.pstatic.net/MjAxNzA3MjdfNDQg/MDAxNTAxMTI0NTczMDQz.1HzCY4kj0AqKMon65oOJdYfaIxGveuUjawHvH_XOtnkg.0Pf9RCSvNNbZiEqybl7EOt2b49lmHFcWSbFeBpnQG2Yg.PNG.cjswo9207/fig_6-6.png?type=w2\">\n",
    "<center><small>▲ AdaGrad에 의한 최적화 갱신 경로</small></center>\n",
    "\n",
    "$y$축 방향은 기울기가 처음엔 크게 움직이지만, 이에 비례해서 갱신 정도도 빠르게 감소하기 때문에 지그재그 움직임이 줄어든다."
   ]
  },
  {
   "cell_type": "markdown",
   "metadata": {},
   "source": [
    "### 6.1.6 Adam\n",
    "\n",
    "- 모멘텀과 AdaGrad를 융합한 것 같은 방법\n",
    "- 편향 보정\n",
    "\n",
    "<img src=\"https://mblogthumb-phinf.pstatic.net/MjAxNzA3MjdfMTY2/MDAxNTAxMTI0OTE5MzQz.uHy8VlKoQt9RgdMVQW0MZeae_puzDlTicctRfuKwwHIg.fET0kHfJPIXGMn261G-pdMItHWRM_hE6Y9tX2EMSa20g.PNG.cjswo9207/fig_6-7.png?type=w2\">\n",
    "<center><small>▲ Adam에 의한 최적화 갱신 경로</small></center>\n",
    "\n",
    "Adam의 하이퍼파라미터\n",
    "- 학습률 $\\alpha$\n",
    "- 일차 모멘텀용 계수 $\\beta_1$: 0.9(기본값)\n",
    "- 이차 모멘텀용 계수 $\\beta_2$: 0.999(기본값)"
   ]
  },
  {
   "cell_type": "markdown",
   "metadata": {},
   "source": [
    "### 6.1.7 어느 갱신 방법을 이용할 것인가?"
   ]
  },
  {
   "cell_type": "markdown",
   "metadata": {},
   "source": [
    "위의 그래프들을 비교했을 때 AdaGrad가 가장 좋을 것 같지만 문제에 따라 다르다. 상황에 맞게 선택하는 것이 중요하다."
   ]
  },
  {
   "cell_type": "markdown",
   "metadata": {},
   "source": [
    "### 6.1.8 MNIST 데이터셋으로 본 갱신 방법 비교"
   ]
  },
  {
   "cell_type": "code",
   "execution_count": 7,
   "metadata": {},
   "outputs": [
    {
     "name": "stdout",
     "output_type": "stream",
     "text": [
      "===========iteration:0===========\n",
      "SGD:2.386022328976163\n",
      "Momentum:2.325051722982644\n",
      "AdaGrad:2.2350241509485143\n",
      "Adam:2.159313961607274\n",
      "===========iteration:100===========\n",
      "SGD:1.5766416224758655\n",
      "Momentum:0.37118784168301044\n",
      "AdaGrad:0.15807567353857488\n",
      "Adam:0.25147446622700365\n",
      "===========iteration:200===========\n",
      "SGD:0.7366724091049136\n",
      "Momentum:0.2129670452367987\n",
      "AdaGrad:0.11707265270687384\n",
      "Adam:0.17761081669615011\n",
      "===========iteration:300===========\n",
      "SGD:0.5206066741311849\n",
      "Momentum:0.191149000098277\n",
      "AdaGrad:0.05968834954068997\n",
      "Adam:0.11617377023371435\n",
      "===========iteration:400===========\n",
      "SGD:0.43112144602858127\n",
      "Momentum:0.14963171497282757\n",
      "AdaGrad:0.05842741683378132\n",
      "Adam:0.11284678355364522\n",
      "===========iteration:500===========\n",
      "SGD:0.31547097642267924\n",
      "Momentum:0.10660304062347938\n",
      "AdaGrad:0.05592231430397211\n",
      "Adam:0.06487225660046124\n",
      "===========iteration:600===========\n",
      "SGD:0.31224629426547945\n",
      "Momentum:0.11902589857647172\n",
      "AdaGrad:0.044558063511723235\n",
      "Adam:0.06623306961110037\n",
      "===========iteration:700===========\n",
      "SGD:0.389555231014895\n",
      "Momentum:0.1349988344930367\n",
      "AdaGrad:0.04422149553636848\n",
      "Adam:0.09260468031945648\n",
      "===========iteration:800===========\n",
      "SGD:0.3130253734357091\n",
      "Momentum:0.20126823036812563\n",
      "AdaGrad:0.060149198051008615\n",
      "Adam:0.13404128761593037\n",
      "===========iteration:900===========\n",
      "SGD:0.4015017562697036\n",
      "Momentum:0.1512662155614305\n",
      "AdaGrad:0.07595055005164529\n",
      "Adam:0.05658981880829496\n",
      "===========iteration:1000===========\n",
      "SGD:0.241242263063007\n",
      "Momentum:0.08361562094387491\n",
      "AdaGrad:0.03084473760084786\n",
      "Adam:0.020651497131698837\n",
      "===========iteration:1100===========\n",
      "SGD:0.2277647297072506\n",
      "Momentum:0.08496602489277334\n",
      "AdaGrad:0.03567810279664858\n",
      "Adam:0.11130207916392802\n",
      "===========iteration:1200===========\n",
      "SGD:0.23504798431224927\n",
      "Momentum:0.07624881370064714\n",
      "AdaGrad:0.028950413885942647\n",
      "Adam:0.06256779829004917\n",
      "===========iteration:1300===========\n",
      "SGD:0.32295480360636164\n",
      "Momentum:0.14001491386613532\n",
      "AdaGrad:0.0946351236902779\n",
      "Adam:0.14985591608915905\n",
      "===========iteration:1400===========\n",
      "SGD:0.3661084014547164\n",
      "Momentum:0.13401039534165768\n",
      "AdaGrad:0.06614684021073394\n",
      "Adam:0.06410743886256742\n",
      "===========iteration:1500===========\n",
      "SGD:0.1542092668421663\n",
      "Momentum:0.030467624523026725\n",
      "AdaGrad:0.015097572841503117\n",
      "Adam:0.023182150764048608\n",
      "===========iteration:1600===========\n",
      "SGD:0.2254371300253855\n",
      "Momentum:0.05127539590345012\n",
      "AdaGrad:0.031221377633063936\n",
      "Adam:0.01127075692349635\n",
      "===========iteration:1700===========\n",
      "SGD:0.1243437874376062\n",
      "Momentum:0.03794568306605548\n",
      "AdaGrad:0.019138413087131947\n",
      "Adam:0.010343280914697049\n",
      "===========iteration:1800===========\n",
      "SGD:0.2273494384423423\n",
      "Momentum:0.0831109822073276\n",
      "AdaGrad:0.030900737592896608\n",
      "Adam:0.037067473804141174\n",
      "===========iteration:1900===========\n",
      "SGD:0.1857942076948705\n",
      "Momentum:0.06184418686111305\n",
      "AdaGrad:0.05637063636435206\n",
      "Adam:0.0883517703401202\n"
     ]
    }
   ],
   "source": [
    "# coding: utf-8\n",
    "import os\n",
    "import sys\n",
    "sys.path.append(os.pardir)  # 부모 디렉터리의 파일을 가져올 수 있도록 설정\n",
    "import matplotlib.pyplot as plt\n",
    "from dataset.mnist import load_mnist\n",
    "from common.util import smooth_curve\n",
    "from common.multi_layer_net import MultiLayerNet\n",
    "from common.optimizer import *\n",
    "\n",
    "\n",
    "# 0. MNIST 데이터 읽기==========\n",
    "(x_train, t_train), (x_test, t_test) = load_mnist(normalize=True)\n",
    "\n",
    "train_size = x_train.shape[0]\n",
    "batch_size = 128\n",
    "max_iterations = 2000\n",
    "\n",
    "\n",
    "# 1. 실험용 설정==========\n",
    "optimizers = {}\n",
    "optimizers['SGD'] = SGD()\n",
    "optimizers['Momentum'] = Momentum()\n",
    "optimizers['AdaGrad'] = AdaGrad()\n",
    "optimizers['Adam'] = Adam()\n",
    "#optimizers['RMSprop'] = RMSprop()\n",
    "\n",
    "networks = {}\n",
    "train_loss = {}\n",
    "for key in optimizers.keys():\n",
    "    networks[key] = MultiLayerNet(\n",
    "        input_size=784, hidden_size_list=[100, 100, 100, 100],\n",
    "        output_size=10)\n",
    "    train_loss[key] = []    \n",
    "\n",
    "\n",
    "# 2. 훈련 시작==========\n",
    "for i in range(max_iterations):\n",
    "    batch_mask = np.random.choice(train_size, batch_size)\n",
    "    x_batch = x_train[batch_mask]\n",
    "    t_batch = t_train[batch_mask]\n",
    "    \n",
    "    for key in optimizers.keys():\n",
    "        grads = networks[key].gradient(x_batch, t_batch)\n",
    "        optimizers[key].update(networks[key].params, grads)\n",
    "    \n",
    "        loss = networks[key].loss(x_batch, t_batch)\n",
    "        train_loss[key].append(loss)\n",
    "    \n",
    "    if i % 100 == 0:\n",
    "        print( \"===========\" + \"iteration:\" + str(i) + \"===========\")\n",
    "        for key in optimizers.keys():\n",
    "            loss = networks[key].loss(x_batch, t_batch)\n",
    "            print(key + \":\" + str(loss))"
   ]
  },
  {
   "cell_type": "code",
   "execution_count": 6,
   "metadata": {},
   "outputs": [
    {
     "data": {
      "image/png": "[encoded data removed]",
      "text/plain": [
       "<Figure size 432x288 with 1 Axes>"
      ]
     },
     "metadata": {
      "needs_background": "light"
     },
     "output_type": "display_data"
    }
   ],
   "source": [
    "# 3. 그래프 그리기==========\n",
    "markers = {\"SGD\": \"o\", \"Momentum\": \"x\", \"AdaGrad\": \"s\", \"Adam\": \"D\"}\n",
    "x = np.arange(max_iterations)\n",
    "for key in optimizers.keys():\n",
    "    plt.plot(x, smooth_curve(train_loss[key]), marker=markers[key], markevery=100, label=key)\n",
    "plt.xlabel(\"iterations\")\n",
    "plt.ylabel(\"loss\")\n",
    "plt.ylim(0, 1)\n",
    "plt.legend()\n",
    "plt.show()"
   ]
  },
  {
   "cell_type": "markdown",
   "metadata": {},
   "source": [
    "## 6.2 가중치의 초깃값"
   ]
  },
  {
   "cell_type": "markdown",
   "metadata": {},
   "source": [
    "### 6.2.1 초깃값을 0으로 하면?"
   ]
  },
  {
   "cell_type": "markdown",
   "metadata": {},
   "source": []
  }
 ],
 "metadata": {
  "kernelspec": {
   "display_name": "Python 3",
   "language": "python",
   "name": "python3"
  },
  "language_info": {
   "codemirror_mode": {
    "name": "ipython",
    "version": 3
   },
   "file_extension": ".py",
   "mimetype": "text/x-python",
   "name": "python",
   "nbconvert_exporter": "python",
   "pygments_lexer": "ipython3",
   "version": "3.6.9"
  }
 },
 "nbformat": 4,
 "nbformat_minor": 2
}
