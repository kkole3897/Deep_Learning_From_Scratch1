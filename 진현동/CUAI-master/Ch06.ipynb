{
 "cells": [
  {
   "cell_type": "markdown",
   "metadata": {},
   "source": [
    "# Ch 6. 학습 관련 기술들\n",
    "## 6.1.2 SGD"
   ]
  },
  {
   "cell_type": "code",
   "execution_count": 1,
   "metadata": {},
   "outputs": [],
   "source": [
    "class SGD:\n",
    "    def __init__(self, lr = 0.01):\n",
    "        self.lr = lr\n",
    "        \n",
    "    def update(self, params, grads):\n",
    "        for key in params.keys():\n",
    "            params[key] -= self.lr *grads[key]\n",
    "            \n",
    "        "
   ]
  },
  {
   "cell_type": "markdown",
   "metadata": {},
   "source": [
    "- 초기화 시 받는 인수느 lr 은 learning rate.> 인스턴스 변수로 유지한다.  \n",
    "- update(params,grads) method는 SGD에서 반복적으로 불린다. \n",
    "- params. grads는 5단원에서 나왔던 것처럼 딕셔너리 변수이다. (parmas['W1'], grads['W1'] 과 같이 가중치 매개변수와 기울기를 저장.)"
   ]
  },
  {
   "cell_type": "markdown",
   "metadata": {},
   "source": [
    "## 6.1.4 Momentum"
   ]
  },
  {
   "cell_type": "code",
   "execution_count": 12,
   "metadata": {},
   "outputs": [],
   "source": [
    "import numpy as np\n",
    "class Momentum:\n",
    "    def __init__(self,lr = 0.01, momentum=0.9):\n",
    "        self.lr = lr\n",
    "        self.momentum = momentum\n",
    "        self.v = None #v는 속도를 나타내는 변수, 식에서는 알파 = momentum.(0.9)\n",
    "        \n",
    "    def update(self, params, grads): # 초기화 부분\n",
    "        if self.v is None:\n",
    "            self.v = {}\n",
    "            for key, val in params.items():\n",
    "                self.v[key] = np.zeros_like(val)\n",
    "                \n",
    "            for key in params.keys():\n",
    "                self.v[key] = self.momentum*self.v - self.v* grads[key] \n",
    "                params[key] += self.v"
   ]
  },
  {
   "cell_type": "code",
   "execution_count": 11,
   "metadata": {},
   "outputs": [
    {
     "name": "stdout",
     "output_type": "stream",
     "text": [
      "[0 0]\n",
      "(2,)\n"
     ]
    }
   ],
   "source": [
    "x= np.zeros_like([5,5]) # zeros_like: 차원과 안의 원소의 갯수를 0으로. \n",
    "print(x) \n",
    "print(x.shape)"
   ]
  },
  {
   "cell_type": "markdown",
   "metadata": {},
   "source": [
    "## 6.1.5 AdaGrad\n",
    " - 신경망 학습 시 lr값이 중요하다. 이 값이 너무 작으면 학습 시간이 너무 길어지고, 너무 크면 학습이 제대로 이루어 지지않는다. \n",
    " - 학습률 감소(learning rate decay) 기법을 이용. 처음에는 크게 학습하다가 조금씩 작게 학습한다.( 실제 신경망 학습에 자주쓰인다.)\n",
    " - 새로운 변수 h : 기존기울기 값을 제곱(element_wise로 계산)\n",
    " + AdaGrad의 문제점 및 개선: 학습을 진행할 수록 갱신 강도가 약해진다. 무한히 학습 시 갱신량이 0 이 되게 된다. -> RMSProp\n",
    " + RMSProp: 먼 과거의 기울기는 서서히 잊고 새로운 기울기 정보를 크게 반영한다. (지수이동평균) - 과거기울기의 반영규모 지수함수적으로 낮춘다."
   ]
  },
  {
   "cell_type": "code",
   "execution_count": 14,
   "metadata": {},
   "outputs": [],
   "source": [
    "class AdaGrad:\n",
    "    def __init__(self, lr =0.01):\n",
    "        self.lr = lr\n",
    "        self.h = None\n",
    "        \n",
    "    def update(self, params, grads):\n",
    "        if self.h is None:\n",
    "            self.h={}\n",
    "            for key, val in params.items():\n",
    "                self.h[key] = np.zeros_like(val)\n",
    "        for key in params.keys():\n",
    "            self.h[key] += grads[key] * grads[key]\n",
    "            params[key] -= self.lr * grads[key] / (np.aqrt(self.h[key]) + 1e-7)  #1e-7을 더하는 이유는 square root 내부값으로 0 이 들어가도 0으로 나누는 것을 방지."
   ]
  },
  {
   "cell_type": "markdown",
   "metadata": {},
   "source": [
    "## 6.1.6. Adam\n",
    "Adam에서는 hyperparmeter 3개가 있다. \n",
    "-  지금까지의 학습률(alpha) \n",
    "- 일차 모멘텀용 계수(beta 1) > 논문에서의 기본 설정값 = 0.9 \n",
    "- 이차 모멘텀용 계수(beta 2) > 논문에서의 기본 설정값 = 0.999"
   ]
  },
  {
   "cell_type": "code",
   "execution_count": null,
   "metadata": {},
   "outputs": [],
   "source": [
    "class Adam:\n",
    "\n",
    "    \"\"\"Adam (http://arxiv.org/abs/1412.6980v8)\"\"\"\n",
    "\n",
    "    def __init__(self, lr=0.001, beta1=0.9, beta2=0.999):\n",
    "        self.lr = lr\n",
    "        self.beta1 = beta1\n",
    "        self.beta2 = beta2\n",
    "        self.iter = 0\n",
    "        self.m = None\n",
    "        self.v = None\n",
    "        \n",
    "    def update(self, params, grads):\n",
    "        if self.m is None:\n",
    "            self.m, self.v = {}, {}\n",
    "            for key, val in params.items():\n",
    "                self.m[key] = np.zeros_like(val)\n",
    "                self.v[key] = np.zeros_like(val)\n",
    "        \n",
    "        self.iter += 1\n",
    "        lr_t  = self.lr * np.sqrt(1.0 - self.beta2**self.iter) / (1.0 - self.beta1**self.iter)         \n",
    "        \n",
    "        for key in params.keys():\n",
    "            #self.m[key] = self.beta1*self.m[key] + (1-self.beta1)*grads[key]\n",
    "            #self.v[key] = self.beta2*self.v[key] + (1-self.beta2)*(grads[key]**2)\n",
    "            self.m[key] += (1 - self.beta1) * (grads[key] - self.m[key])\n",
    "            self.v[key] += (1 - self.beta2) * (grads[key]**2 - self.v[key])\n",
    "            \n",
    "            params[key] -= lr_t * self.m[key] / (np.sqrt(self.v[key]) + 1e-7)\n",
    "            \n",
    "            #unbias_m += (1 - self.beta1) * (grads[key] - self.m[key]) # correct bias\n",
    "            #unbisa_b += (1 - self.beta2) * (grads[key]*grads[key] - self.v[key]) # correct bias\n",
    "            #params[key] += self.lr * unbias_m / (np.sqrt(unbisa_b) + 1e-7)\n"
   ]
  },
  {
   "cell_type": "markdown",
   "metadata": {},
   "source": [
    "### 아래는 Adam의 식이다. "
   ]
  },
  {
   "cell_type": "code",
   "execution_count": 41,
   "metadata": {},
   "outputs": [
    {
     "data": {
      "text/plain": [
       "<matplotlib.image.AxesImage at 0xf48f5e03c8>"
      ]
     },
     "execution_count": 41,
     "metadata": {},
     "output_type": "execute_result"
    },
    {
     "data": {
      "image/png": "[encoded data removed]",
      "text/plain": [
       "<Figure size 432x288 with 1 Axes>"
      ]
     },
     "metadata": {
      "needs_background": "light"
     },
     "output_type": "display_data"
    }
   ],
   "source": [
    "import matplotlib.pyplot as plt\n",
    "from matplotlib.pyplot import imread\n",
    "x = imread('ad1.jpg')\n",
    "y = imread('add2.jpg')\n",
    "plt.imshow(x)"
   ]
  },
  {
   "cell_type": "code",
   "execution_count": 42,
   "metadata": {},
   "outputs": [
    {
     "data": {
      "text/plain": [
       "<matplotlib.image.AxesImage at 0xf48f2e1fd0>"
      ]
     },
     "execution_count": 42,
     "metadata": {},
     "output_type": "execute_result"
    },
    {
     "data": {
      "image/png": "[encoded data removed]",
      "text/plain": [
       "<Figure size 432x288 with 1 Axes>"
      ]
     },
     "metadata": {
      "needs_background": "light"
     },
     "output_type": "display_data"
    }
   ],
   "source": [
    "plt.imshow(y)"
   ]
  },
  {
   "cell_type": "markdown",
   "metadata": {},
   "source": [
    "## 6.2.2 은닉층의 활성화 값 분포"
   ]
  },
  {
   "cell_type": "code",
   "execution_count": 61,
   "metadata": {},
   "outputs": [],
   "source": [
    "import numpy as np\n",
    "import matplotlib.pyplot as plt\n",
    "\n",
    "def sigmoid(x):\n",
    "    return 1/(1+np.exp(-x))\n",
    "\n",
    "x= np.random.rand(1000,100) #1000개의 데이터\n",
    "node_num = 100\n",
    "hidden_layer_size = 5\n",
    "activations = {}\n",
    "\n",
    "for i in range(hidden_layer_size):\n",
    "    if i != 0:\n",
    "        x= activations[i-1]\n",
    "        \n",
    "    #w =np.random.randn(node_num, node_num) * 1\n",
    "    #w= np.random.randn(node_num, node_num) * 0.01\n",
    "    w = np.random.randn(node_num, node_num) / np.sqrt(node_num)\n",
    "    a = np.dot(x,w)\n",
    "    z = sigmoid(a)\n",
    "    activations[i] =z\n",
    "    \n",
    "#5개의 층이 있으며 각 층의 뉴런은 100개. \n",
    "# 입력데이터로 100개의 데이터를 정규분포로 무작위로 생성하여 5층 신셩망에 흘린다. \n",
    "# 가중치 (W)로 표준편차가 1인 정규 분포를 이용. 표준편차를 바꿔가며 활성화값들을 살펴보자."
   ]
  },
  {
   "cell_type": "code",
   "execution_count": 62,
   "metadata": {},
   "outputs": [
    {
     "data": {
      "image/png": "[encoded data removed]",
      "text/plain": [
       "<Figure size 432x288 with 5 Axes>"
      ]
     },
     "metadata": {
      "needs_background": "light"
     },
     "output_type": "display_data"
    }
   ],
   "source": [
    "for i, a in activations.items():\n",
    "    plt.subplot(1, len(activations), i+1)\n",
    "    plt.title(str(i+1)+ \"-layer\")\n",
    "    plt.hist(a.flatten(), 30, range = (0,1))\n",
    "plt. show()"
   ]
  },
  {
   "cell_type": "code",
   "execution_count": 54,
   "metadata": {
    "collapsed": true
   },
   "outputs": [
    {
     "name": "stdout",
     "output_type": "stream",
     "text": [
      "dict_items([(0, array([[1., 1., 1., ..., 1., 1., 1.],\n",
      "       [1., 1., 1., ..., 1., 1., 1.],\n",
      "       [1., 1., 1., ..., 1., 1., 1.],\n",
      "       ...,\n",
      "       [1., 1., 1., ..., 1., 1., 1.],\n",
      "       [1., 1., 1., ..., 1., 1., 1.],\n",
      "       [1., 1., 1., ..., 1., 1., 1.]])), (1, array([[1., 1., 1., ..., 1., 1., 1.],\n",
      "       [1., 1., 1., ..., 1., 1., 1.],\n",
      "       [1., 1., 1., ..., 1., 1., 1.],\n",
      "       ...,\n",
      "       [1., 1., 1., ..., 1., 1., 1.],\n",
      "       [1., 1., 1., ..., 1., 1., 1.],\n",
      "       [1., 1., 1., ..., 1., 1., 1.]])), (2, array([[1., 1., 1., ..., 1., 1., 1.],\n",
      "       [1., 1., 1., ..., 1., 1., 1.],\n",
      "       [1., 1., 1., ..., 1., 1., 1.],\n",
      "       ...,\n",
      "       [1., 1., 1., ..., 1., 1., 1.],\n",
      "       [1., 1., 1., ..., 1., 1., 1.],\n",
      "       [1., 1., 1., ..., 1., 1., 1.]])), (3, array([[1., 1., 1., ..., 1., 1., 1.],\n",
      "       [1., 1., 1., ..., 1., 1., 1.],\n",
      "       [1., 1., 1., ..., 1., 1., 1.],\n",
      "       ...,\n",
      "       [1., 1., 1., ..., 1., 1., 1.],\n",
      "       [1., 1., 1., ..., 1., 1., 1.],\n",
      "       [1., 1., 1., ..., 1., 1., 1.]])), (4, array([[1., 1., 1., ..., 1., 1., 1.],\n",
      "       [1., 1., 1., ..., 1., 1., 1.],\n",
      "       [1., 1., 1., ..., 1., 1., 1.],\n",
      "       ...,\n",
      "       [1., 1., 1., ..., 1., 1., 1.],\n",
      "       [1., 1., 1., ..., 1., 1., 1.],\n",
      "       [1., 1., 1., ..., 1., 1., 1.]]))])\n",
      "5\n"
     ]
    }
   ],
   "source": [
    "print(activations.items())\n",
    "print(len(activations))"
   ]
  },
  {
   "cell_type": "markdown",
   "metadata": {},
   "source": [
    "##### 가중치의 초기값이 1일때: 활성화 값들이 0과 1에 치우쳐 기울기(gradient) 소실이 일어난다. \n",
    "##### 가중치의 초기값이 0.01일때: 활성화 값들이 0.5에 몰려있어 표현력이 제한된다. \n",
    "### 이를 해결하기 위해 Xavier 초깃값을 사용한다."
   ]
  },
  {
   "cell_type": "markdown",
   "metadata": {},
   "source": [
    "## 6.2.3 ReLU 사용 시 가중치 초깃값\n",
    "### Xavier > 활성화 함수가 선형일때를 전제로 한것. (sigmoid, tanh 중앙부분이 선형)\n",
    "### ReLU에 특화된 초깃값은 He 초깃값. "
   ]
  },
  {
   "cell_type": "code",
   "execution_count": 26,
   "metadata": {},
   "outputs": [],
   "source": [
    "def ReLU(x):\n",
    "    return np.maximum(0, x)"
   ]
  },
  {
   "cell_type": "code",
   "execution_count": 31,
   "metadata": {},
   "outputs": [],
   "source": [
    "import numpy as np\n",
    "import matplotlib.pyplot as plt\n",
    "\n",
    "def sigmoid(x):\n",
    "    return 1/(1+np.exp(-x))\n",
    "\n",
    "x= np.random.randn(1000,100) #1000개의 데이터\n",
    "node_num = 100\n",
    "hidden_layer_size = 5\n",
    "activations = {}\n",
    "\n",
    "\n",
    "for i in range(hidden_layer_size):\n",
    "    if i != 0:\n",
    "        x= activations[i-1]\n",
    "        \n",
    "    #w =np.random.randn(node_num, node_num) * 1\n",
    "    #w= np.random.randn(node_num, node_num) * 0.01\n",
    "    #w = np.random.randn(node_num, node_num) / np.sqrt(node_num)\n",
    "    w=np.random.randn(node_num,  node_num) * np.sqrt(2.0 / node_num)\n",
    "    a = np.dot(x,w)\n",
    "    #z = sigmoid(a)\n",
    "    z= ReLU(a)\n",
    "    \n",
    "    activations[i] =z"
   ]
  },
  {
   "cell_type": "code",
   "execution_count": 32,
   "metadata": {},
   "outputs": [
    {
     "data": {
      "image/png": "[encoded data removed]",
      "text/plain": [
       "<Figure size 432x288 with 5 Axes>"
      ]
     },
     "metadata": {
      "needs_background": "light"
     },
     "output_type": "display_data"
    }
   ],
   "source": [
    "for i, a in activations.items():\n",
    "    plt.subplot(1, len(activations), i+1)\n",
    "    plt.title(str(i+1)+ \"-layer\")\n",
    "    plt.hist(a.flatten(), 30, range = (0,1))\n",
    "plt. show()"
   ]
  },
  {
   "cell_type": "code",
   "execution_count": 33,
   "metadata": {},
   "outputs": [
    {
     "data": {
      "image/png": "[encoded data removed]",
      "text/plain": [
       "<Figure size 432x288 with 5 Axes>"
      ]
     },
     "metadata": {
      "needs_background": "light"
     },
     "output_type": "display_data"
    }
   ],
   "source": [
    "for i, a in activations.items():\n",
    "    plt.subplot(1, len(activations), i+1)\n",
    "    plt.title(str(i+1) + \"-layer\")\n",
    "    if i != 0: plt.yticks([], [])\n",
    "    # plt.xlim(0.1, 1)\n",
    "    # plt.ylim(0, 7000)\n",
    "    plt.hist(a.flatten(), 30, range=(0,1))\n",
    "plt.show()"
   ]
  },
  {
   "cell_type": "markdown",
   "metadata": {},
   "source": [
    "## 6.3 배치 정규화"
   ]
  },
  {
   "cell_type": "markdown",
   "metadata": {},
   "source": [
    "### 배치 정규화가 많이 사용되는 이유\n",
    "- 학습을 빨리진행할 수 있다.\n",
    "- 초깃값에 크게 의존하지 않는다.\n",
    "- 오버피팅을 억제한다. > dropout 필요성 낮아짐"
   ]
  },
  {
   "cell_type": "markdown",
   "metadata": {},
   "source": [
    "## 6.4 바른 학습을 위해\n",
    "## 6.4.1 오버피팅\n",
    "- 매개변수가 많고 표현력이 높은 모델\n",
    "- 훈련데이터가 적을때"
   ]
  },
  {
   "cell_type": "code",
   "execution_count": 39,
   "metadata": {},
   "outputs": [],
   "source": [
    "from dataset.mnist import load_mnist\n",
    "from common.multi_layer_net import MultiLayerNet\n",
    "from common.optimizer import SGD\n",
    "\n",
    "(x_train, t_train), (x_test, t_test) = load_mnist(normalize = True)\n",
    "\n",
    "#오버피팅을 위해 학습 데이터 수를 줄인다. \n",
    "x_train = x_train[:300]\n",
    "t_train = t_train[:300]"
   ]
  },
  {
   "cell_type": "code",
   "execution_count": 40,
   "metadata": {},
   "outputs": [
    {
     "name": "stdout",
     "output_type": "stream",
     "text": [
      "epoch:0, train acc:0.10666666666666667, test acc:0.0978\n",
      "epoch:1, train acc:0.1, test acc:0.1043\n",
      "epoch:2, train acc:0.12, test acc:0.1109\n",
      "epoch:3, train acc:0.12333333333333334, test acc:0.1136\n",
      "epoch:4, train acc:0.13, test acc:0.1201\n",
      "epoch:5, train acc:0.14333333333333334, test acc:0.1241\n",
      "epoch:6, train acc:0.15666666666666668, test acc:0.131\n",
      "epoch:7, train acc:0.17333333333333334, test acc:0.1372\n",
      "epoch:8, train acc:0.18, test acc:0.1418\n",
      "epoch:9, train acc:0.19, test acc:0.1459\n",
      "epoch:10, train acc:0.21333333333333335, test acc:0.1559\n",
      "epoch:11, train acc:0.22333333333333333, test acc:0.1642\n",
      "epoch:12, train acc:0.24, test acc:0.1674\n",
      "epoch:13, train acc:0.25333333333333335, test acc:0.169\n",
      "epoch:14, train acc:0.24666666666666667, test acc:0.1721\n",
      "epoch:15, train acc:0.2733333333333333, test acc:0.1875\n",
      "epoch:16, train acc:0.29, test acc:0.204\n",
      "epoch:17, train acc:0.31, test acc:0.2138\n",
      "epoch:18, train acc:0.32666666666666666, test acc:0.2293\n",
      "epoch:19, train acc:0.33, test acc:0.244\n",
      "epoch:20, train acc:0.36333333333333334, test acc:0.2604\n",
      "epoch:21, train acc:0.37666666666666665, test acc:0.2693\n",
      "epoch:22, train acc:0.42, test acc:0.2904\n",
      "epoch:23, train acc:0.44666666666666666, test acc:0.3077\n",
      "epoch:24, train acc:0.4866666666666667, test acc:0.3472\n",
      "epoch:25, train acc:0.53, test acc:0.3634\n",
      "epoch:26, train acc:0.55, test acc:0.3805\n",
      "epoch:27, train acc:0.56, test acc:0.3972\n",
      "epoch:28, train acc:0.6, test acc:0.4186\n",
      "epoch:29, train acc:0.6066666666666667, test acc:0.4349\n",
      "epoch:30, train acc:0.6233333333333333, test acc:0.4559\n",
      "epoch:31, train acc:0.62, test acc:0.4552\n",
      "epoch:32, train acc:0.6466666666666666, test acc:0.4689\n",
      "epoch:33, train acc:0.66, test acc:0.4947\n",
      "epoch:34, train acc:0.6733333333333333, test acc:0.5048\n",
      "epoch:35, train acc:0.6633333333333333, test acc:0.5134\n",
      "epoch:36, train acc:0.6766666666666666, test acc:0.5197\n",
      "epoch:37, train acc:0.6766666666666666, test acc:0.5306\n",
      "epoch:38, train acc:0.68, test acc:0.5419\n",
      "epoch:39, train acc:0.67, test acc:0.5448\n",
      "epoch:40, train acc:0.68, test acc:0.5487\n",
      "epoch:41, train acc:0.69, test acc:0.5571\n",
      "epoch:42, train acc:0.7033333333333334, test acc:0.562\n",
      "epoch:43, train acc:0.6966666666666667, test acc:0.5679\n",
      "epoch:44, train acc:0.6866666666666666, test acc:0.5684\n",
      "epoch:45, train acc:0.72, test acc:0.5798\n",
      "epoch:46, train acc:0.72, test acc:0.58\n",
      "epoch:47, train acc:0.7233333333333334, test acc:0.5898\n",
      "epoch:48, train acc:0.74, test acc:0.5959\n",
      "epoch:49, train acc:0.7566666666666667, test acc:0.5922\n",
      "epoch:50, train acc:0.7833333333333333, test acc:0.604\n",
      "epoch:51, train acc:0.81, test acc:0.6214\n",
      "epoch:52, train acc:0.7966666666666666, test acc:0.6141\n",
      "epoch:53, train acc:0.8333333333333334, test acc:0.6305\n",
      "epoch:54, train acc:0.8133333333333334, test acc:0.633\n",
      "epoch:55, train acc:0.8233333333333334, test acc:0.6367\n",
      "epoch:56, train acc:0.8433333333333334, test acc:0.6544\n",
      "epoch:57, train acc:0.85, test acc:0.6568\n",
      "epoch:58, train acc:0.85, test acc:0.6561\n",
      "epoch:59, train acc:0.8633333333333333, test acc:0.6625\n",
      "epoch:60, train acc:0.87, test acc:0.6744\n",
      "epoch:61, train acc:0.8633333333333333, test acc:0.6764\n",
      "epoch:62, train acc:0.87, test acc:0.6836\n",
      "epoch:63, train acc:0.8766666666666667, test acc:0.6801\n",
      "epoch:64, train acc:0.8833333333333333, test acc:0.6862\n",
      "epoch:65, train acc:0.8866666666666667, test acc:0.6844\n",
      "epoch:66, train acc:0.8966666666666666, test acc:0.6888\n",
      "epoch:67, train acc:0.9066666666666666, test acc:0.6951\n",
      "epoch:68, train acc:0.9066666666666666, test acc:0.699\n",
      "epoch:69, train acc:0.9, test acc:0.6856\n",
      "epoch:70, train acc:0.9, test acc:0.6898\n",
      "epoch:71, train acc:0.9033333333333333, test acc:0.6987\n",
      "epoch:72, train acc:0.9166666666666666, test acc:0.7011\n",
      "epoch:73, train acc:0.9066666666666666, test acc:0.7002\n",
      "epoch:74, train acc:0.9233333333333333, test acc:0.7023\n",
      "epoch:75, train acc:0.9333333333333333, test acc:0.7102\n",
      "epoch:76, train acc:0.9366666666666666, test acc:0.7117\n",
      "epoch:77, train acc:0.93, test acc:0.7099\n",
      "epoch:78, train acc:0.94, test acc:0.7106\n",
      "epoch:79, train acc:0.9433333333333334, test acc:0.7123\n",
      "epoch:80, train acc:0.9366666666666666, test acc:0.712\n",
      "epoch:81, train acc:0.9333333333333333, test acc:0.7181\n",
      "epoch:82, train acc:0.95, test acc:0.7145\n",
      "epoch:83, train acc:0.9366666666666666, test acc:0.7228\n",
      "epoch:84, train acc:0.9533333333333334, test acc:0.7247\n",
      "epoch:85, train acc:0.9466666666666667, test acc:0.7239\n",
      "epoch:86, train acc:0.95, test acc:0.7199\n",
      "epoch:87, train acc:0.96, test acc:0.7256\n",
      "epoch:88, train acc:0.96, test acc:0.7274\n",
      "epoch:89, train acc:0.9633333333333334, test acc:0.7285\n",
      "epoch:90, train acc:0.9666666666666667, test acc:0.7267\n",
      "epoch:91, train acc:0.9633333333333334, test acc:0.7318\n",
      "epoch:92, train acc:0.97, test acc:0.7342\n",
      "epoch:93, train acc:0.97, test acc:0.7328\n",
      "epoch:94, train acc:0.9633333333333334, test acc:0.7372\n",
      "epoch:95, train acc:0.9666666666666667, test acc:0.7284\n",
      "epoch:96, train acc:0.9733333333333334, test acc:0.7332\n",
      "epoch:97, train acc:0.9733333333333334, test acc:0.7336\n",
      "epoch:98, train acc:0.97, test acc:0.7338\n",
      "epoch:99, train acc:0.9733333333333334, test acc:0.7345\n",
      "epoch:100, train acc:0.9733333333333334, test acc:0.7355\n",
      "epoch:101, train acc:0.9766666666666667, test acc:0.7354\n",
      "epoch:102, train acc:0.98, test acc:0.742\n",
      "epoch:103, train acc:0.98, test acc:0.7399\n",
      "epoch:104, train acc:0.9833333333333333, test acc:0.7397\n",
      "epoch:105, train acc:0.98, test acc:0.7436\n",
      "epoch:106, train acc:0.98, test acc:0.738\n",
      "epoch:107, train acc:0.98, test acc:0.7434\n",
      "epoch:108, train acc:0.98, test acc:0.7453\n",
      "epoch:109, train acc:0.9766666666666667, test acc:0.7397\n",
      "epoch:110, train acc:0.9833333333333333, test acc:0.744\n",
      "epoch:111, train acc:0.9833333333333333, test acc:0.7387\n",
      "epoch:112, train acc:0.9833333333333333, test acc:0.7456\n",
      "epoch:113, train acc:0.9866666666666667, test acc:0.741\n",
      "epoch:114, train acc:0.99, test acc:0.7453\n",
      "epoch:115, train acc:0.9866666666666667, test acc:0.7406\n",
      "epoch:116, train acc:0.9866666666666667, test acc:0.7448\n",
      "epoch:117, train acc:0.9866666666666667, test acc:0.748\n",
      "epoch:118, train acc:0.9866666666666667, test acc:0.7486\n",
      "epoch:119, train acc:0.9866666666666667, test acc:0.7495\n",
      "epoch:120, train acc:0.99, test acc:0.7462\n",
      "epoch:121, train acc:0.99, test acc:0.7508\n",
      "epoch:122, train acc:0.99, test acc:0.7515\n",
      "epoch:123, train acc:0.9933333333333333, test acc:0.7414\n",
      "epoch:124, train acc:0.9966666666666667, test acc:0.7513\n",
      "epoch:125, train acc:0.9966666666666667, test acc:0.7504\n",
      "epoch:126, train acc:0.9966666666666667, test acc:0.7537\n",
      "epoch:127, train acc:0.9966666666666667, test acc:0.7476\n",
      "epoch:128, train acc:0.9966666666666667, test acc:0.7513\n",
      "epoch:129, train acc:0.9966666666666667, test acc:0.7505\n",
      "epoch:130, train acc:0.9966666666666667, test acc:0.755\n",
      "epoch:131, train acc:0.9966666666666667, test acc:0.7538\n",
      "epoch:132, train acc:0.9966666666666667, test acc:0.7544\n",
      "epoch:133, train acc:0.9966666666666667, test acc:0.7553\n",
      "epoch:134, train acc:0.9966666666666667, test acc:0.7555\n",
      "epoch:135, train acc:0.9966666666666667, test acc:0.7534\n",
      "epoch:136, train acc:0.9966666666666667, test acc:0.755\n",
      "epoch:137, train acc:0.9966666666666667, test acc:0.7565\n",
      "epoch:138, train acc:0.9966666666666667, test acc:0.7556\n",
      "epoch:139, train acc:0.9966666666666667, test acc:0.754\n",
      "epoch:140, train acc:0.9966666666666667, test acc:0.755\n",
      "epoch:141, train acc:0.9966666666666667, test acc:0.7553\n",
      "epoch:142, train acc:1.0, test acc:0.7544\n",
      "epoch:143, train acc:0.9966666666666667, test acc:0.7571\n",
      "epoch:144, train acc:0.9966666666666667, test acc:0.758\n",
      "epoch:145, train acc:1.0, test acc:0.7566\n",
      "epoch:146, train acc:0.9966666666666667, test acc:0.7552\n",
      "epoch:147, train acc:1.0, test acc:0.7558\n",
      "epoch:148, train acc:1.0, test acc:0.7549\n",
      "epoch:149, train acc:1.0, test acc:0.7556\n",
      "epoch:150, train acc:1.0, test acc:0.7587\n",
      "epoch:151, train acc:0.9966666666666667, test acc:0.7542\n",
      "epoch:152, train acc:0.9966666666666667, test acc:0.7596\n",
      "epoch:153, train acc:1.0, test acc:0.7585\n",
      "epoch:154, train acc:1.0, test acc:0.7587\n",
      "epoch:155, train acc:0.9966666666666667, test acc:0.763\n",
      "epoch:156, train acc:1.0, test acc:0.7633\n",
      "epoch:157, train acc:1.0, test acc:0.7629\n",
      "epoch:158, train acc:1.0, test acc:0.7586\n",
      "epoch:159, train acc:1.0, test acc:0.7625\n",
      "epoch:160, train acc:1.0, test acc:0.7615\n",
      "epoch:161, train acc:1.0, test acc:0.7627\n"
     ]
    },
    {
     "name": "stdout",
     "output_type": "stream",
     "text": [
      "epoch:162, train acc:1.0, test acc:0.7616\n",
      "epoch:163, train acc:1.0, test acc:0.7617\n",
      "epoch:164, train acc:1.0, test acc:0.7617\n",
      "epoch:165, train acc:1.0, test acc:0.7621\n",
      "epoch:166, train acc:1.0, test acc:0.7616\n",
      "epoch:167, train acc:1.0, test acc:0.755\n",
      "epoch:168, train acc:1.0, test acc:0.7593\n",
      "epoch:169, train acc:1.0, test acc:0.7617\n",
      "epoch:170, train acc:1.0, test acc:0.7608\n",
      "epoch:171, train acc:1.0, test acc:0.7637\n",
      "epoch:172, train acc:1.0, test acc:0.7599\n",
      "epoch:173, train acc:1.0, test acc:0.7596\n",
      "epoch:174, train acc:1.0, test acc:0.7625\n",
      "epoch:175, train acc:1.0, test acc:0.7634\n",
      "epoch:176, train acc:1.0, test acc:0.7623\n",
      "epoch:177, train acc:1.0, test acc:0.7634\n",
      "epoch:178, train acc:1.0, test acc:0.7643\n",
      "epoch:179, train acc:1.0, test acc:0.7615\n",
      "epoch:180, train acc:1.0, test acc:0.763\n",
      "epoch:181, train acc:1.0, test acc:0.7602\n",
      "epoch:182, train acc:1.0, test acc:0.7612\n",
      "epoch:183, train acc:1.0, test acc:0.7616\n",
      "epoch:184, train acc:1.0, test acc:0.7637\n",
      "epoch:185, train acc:1.0, test acc:0.7629\n",
      "epoch:186, train acc:1.0, test acc:0.7644\n",
      "epoch:187, train acc:1.0, test acc:0.7648\n",
      "epoch:188, train acc:1.0, test acc:0.7633\n",
      "epoch:189, train acc:1.0, test acc:0.7623\n",
      "epoch:190, train acc:1.0, test acc:0.7643\n",
      "epoch:191, train acc:1.0, test acc:0.7641\n",
      "epoch:192, train acc:1.0, test acc:0.7638\n",
      "epoch:193, train acc:1.0, test acc:0.7655\n",
      "epoch:194, train acc:1.0, test acc:0.7614\n",
      "epoch:195, train acc:1.0, test acc:0.7654\n",
      "epoch:196, train acc:1.0, test acc:0.7646\n",
      "epoch:197, train acc:1.0, test acc:0.7648\n",
      "epoch:198, train acc:1.0, test acc:0.7648\n",
      "epoch:199, train acc:1.0, test acc:0.7632\n",
      "epoch:200, train acc:1.0, test acc:0.7642\n"
     ]
    },
    {
     "data": {
      "image/png": "[encoded data removed]",
      "text/plain": [
       "<Figure size 432x288 with 1 Axes>"
      ]
     },
     "metadata": {
      "needs_background": "light"
     },
     "output_type": "display_data"
    }
   ],
   "source": [
    "network =MultiLayerNet(input_size = 784, hidden_size_list =[100, 100, 100, 100, 100, 100], output_size = 10)\n",
    "optimizer = SGD(lr = 0.01)\n",
    "max_epochs = 201\n",
    "train_size = x_train.shape[0]\n",
    "batch_size = 100\n",
    "\n",
    "train_loss_list = []\n",
    "train_acc_list = []\n",
    "test_acc_list = []\n",
    "\n",
    "iter_per_epoch = max(train_size / batch_size, 1)\n",
    "epoch_cnt = 0\n",
    "\n",
    "for i in range(1000000000):\n",
    "    batch_mask = np.random.choice(train_size, batch_size)\n",
    "    x_batch = x_train[batch_mask]\n",
    "    t_batch = t_train[batch_mask]\n",
    "\n",
    "    grads = network.gradient(x_batch, t_batch)\n",
    "    optimizer.update(network.params, grads)\n",
    "\n",
    "    if i % iter_per_epoch == 0:\n",
    "        train_acc = network.accuracy(x_train, t_train)\n",
    "        test_acc = network.accuracy(x_test, t_test)\n",
    "        train_acc_list.append(train_acc)\n",
    "        test_acc_list.append(test_acc)\n",
    "        \n",
    "        print(\"epoch:\" + str(epoch_cnt) + \", train acc:\" + str(train_acc) + \", test acc:\" + str(test_acc))\n",
    "\n",
    "        epoch_cnt += 1\n",
    "        if epoch_cnt >= max_epochs:\n",
    "            break\n",
    "\n",
    "\n",
    "markers = {'train': 'o', 'test': 's'}\n",
    "x = np.arange(max_epochs)\n",
    "plt.plot(x, train_acc_list, marker='o', label='train', markevery=10)\n",
    "plt.plot(x, test_acc_list, marker='s', label='test', markevery=10)\n",
    "plt.xlabel(\"epochs\")\n",
    "plt.ylabel(\"accuracy\")\n",
    "plt.ylim(0, 1.0)\n",
    "plt.legend(loc='lower right')\n",
    "plt.show()\n"
   ]
  },
  {
   "cell_type": "markdown",
   "metadata": {},
   "source": [
    "## 6.4.3 드롭아웃"
   ]
  },
  {
   "cell_type": "code",
   "execution_count": 43,
   "metadata": {},
   "outputs": [],
   "source": [
    "class dropout:\n",
    "    def __init__(self, dropout_ratio = 0.5):\n",
    "        self.dropout_ratio = dropour_ratio\n",
    "        self.mask = None\n",
    "    \n",
    "    def forward(self, x, train_flg = True):\n",
    "        if train_flg:\n",
    "            self.mask = np.random.randn(*x.shape) > self.dropout_ratio\n",
    "            return x* self.mask\n",
    "        else :\n",
    "            return x * (1.0 - self.dropout_ratio)  \n",
    "        \n",
    "    def backward(self, dropout):\n",
    "        return dout * self.mask"
   ]
  },
  {
   "cell_type": "code",
   "execution_count": null,
   "metadata": {},
   "outputs": [],
   "source": []
  }
 ],
 "metadata": {
  "kernelspec": {
   "display_name": "Python 3",
   "language": "python",
   "name": "python3"
  },
  "language_info": {
   "codemirror_mode": {
    "name": "ipython",
    "version": 3
   },
   "file_extension": ".py",
   "mimetype": "text/x-python",
   "name": "python",
   "nbconvert_exporter": "python",
   "pygments_lexer": "ipython3",
   "version": "3.7.3"
  }
 },
 "nbformat": 4,
 "nbformat_minor": 2
}
