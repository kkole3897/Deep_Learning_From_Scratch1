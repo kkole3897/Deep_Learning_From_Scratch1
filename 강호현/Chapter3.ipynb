{
 "cells": [
  {
   "cell_type": "markdown",
   "metadata": {},
   "source": [
    "# 신경망\n",
    "\n",
    "가중치 매개변수의 적절한 값을 데이터에서 자동으로 학습하는 능력이 신경망의 중요한 성질이다.  \n",
    "신경망의 개요, 신경망이 입력 데이터가 무엇인지 식별하는 처리 과정을 알아보자."
   ]
  },
  {
   "cell_type": "markdown",
   "metadata": {},
   "source": [
    "## 퍼셉트론에서 신경망으로\n",
    "퍼셉트론과 다른 점으로 신경망 구조를 살펴보자.  \n",
    "\n",
    "### 신경망의 예\n",
    "신경망 그림을 참고한다.  \n",
    "![NeuralNet.png](./image/NeuralNet.png)\n",
    "가장 왼쪽 줄을 입력층, 가장 오른쪽 줄을 출력층, 중간 줄을 은닉층이라 한다.  \n",
    "은닉층의 뉴런은 사람 눈에 보이지 않는다. 0층이 입력층, 1층이 은닉층, 2층이 출력층이 된다.  \n",
    "가중치를 갖는 층이 2개이므로 2층 신경망이라 하며, 문헌에 따라 3층 신경망이라고도 한다."
   ]
  },
  {
   "cell_type": "markdown",
   "metadata": {},
   "source": [
    "### 퍼셉트론 복습\n",
    "![perceptron](./image/perceptron.png)\n",
    "\n",
    "이 퍼셉트론을 수식으로 나타내면 다음과 같다.  \n",
    "$$y =\n",
    "\\begin{cases}\n",
    "0 & \\mbox{}(b+w_1x_1+w_2x_2) \\le\\mbox{0} \\\\\n",
    "1 & \\mbox{}(b+w_1x_1+w_2x_2)>\\mbox{0 }\n",
    "\\end{cases} $$\n",
    "\n",
    "$b$는 편향을 나타내는 매개변수 : 뉴런이 얼마나 쉽게 활성화되는지 제어\n",
    "$w_1, w_2$ 각 신호의 가중치를 나타내는 매개변수 : 각 신호의 영향력 제어. \n",
    "\n",
    "편향을 명시한 퍼셉트론은 다음과 같다.\n",
    "![percep](./image/percep2.png)\n",
    "\n",
    "가중치가 b이고 입력이 1인 뉴런을 추가했다. 그러면 3개의 신호가 뉴런에 입력되고, 신호에 가중치를 곱해서 다음 뉴런에 전달 된다.  \n",
    "다음 뉴런은 이 신호의 값을 더해서 총 합이 0을 넘으면 1을 출력하고 아니면 0을 출력한다.  \n",
    "편향의 입력 신호는 항상 1이므로 회색으로 구분한다.  \n",
    "더 간결하게 작성애보면 다음과 같은 식으로 작성한다. 여기서 조건 분기의 동작을 하나의 함수 $h(x)$로 표현한다.  \n",
    "$$y = h(b + w_1x_1 + w_2x_2)$$\n",
    "\n",
    "$$h(x) =\n",
    "\\begin{cases}\n",
    "0 & \\mbox{} (x \\le\\mbox{0}) \\\\\n",
    "1 & \\mbox{} (x >\\mbox{0})\n",
    "\\end{cases}$$\n",
    "\n",
    "결과적으로 퍼셉트론의 식과 위의 식은 동일하다고 볼 수 있다."
   ]
  },
  {
   "cell_type": "markdown",
   "metadata": {},
   "source": [
    "### 활성화 함수의 등장\n",
    "* 활성화 함수 : $h(x)$처럼 입력 신호의 총합을 출력 신호로 변환하는 함수  \n",
    "입력 신호의 총합이 활성화를 일으키는지 정한다.  \n",
    "2단계로 다시 분리한다. 입력 신호의 총합을 계산하고, 그 합을 활성화 함수에 입력해 결과를 낸다.  \n",
    "$$a = b+w_1x_1 + w_2x_2$$입력신호와 편향의 총합을 계산해서 $a$라고 한다.\n",
    "$$y = h(a)$$  $a$를 함수 $h()$에 넣어 $y$를 출력한다.  \n",
    "\n",
    "* 활성화 함수의 처리 과정은 다음과 같다.\n",
    "![image](./image/active.png)\n",
    "\n",
    "뉴런과 노드는 같은 의미로 사용한다. 신경망 동작을 명확히 하고자 활성화 과정을 명시했다.  \n",
    "$a$ : 입력 신호의 총합  \n",
    "$h()$ : 활성화 함수  \n",
    "$y$ : 출력"
   ]
  },
  {
   "cell_type": "markdown",
   "metadata": {},
   "source": [
    "## 활성화 함수\n",
    "* 계단 함수(step function) : 임계값을 경계로 출력이 바뀌는 활성화 함수.  \n",
    "\"퍼셉트론에서는 활성화 함수로 계단 함수를 이용한다.\"  \n",
    "활성화 함수로 계단 함수에서 다른 함수로 변경하는 것이 신경의 열쇠이다."
   ]
  },
  {
   "cell_type": "markdown",
   "metadata": {},
   "source": [
    "### 시그모이드 함수\n",
    "시그모이드 함수(sigmoid function)\n",
    "$$h(x) = {1 \\over {1+\\exp(-x)}}$$  \n",
    "시그모이드는 단순한 함수로 변환기이다. 시그모이드 함수로 신호를 변환하고, 변환된 신호를 다음 뉴런에 전달한다.  \n",
    "퍼셉트론과 신경망의 차이가 이 활성화 함수이다."
   ]
  },
  {
   "cell_type": "code",
   "execution_count": 2,
   "metadata": {},
   "outputs": [],
   "source": [
    "#계단함수 구현하기\n",
    "def step_function(x):#넘파이 배열은 인수로 넣지 못한다.\n",
    "    if x >0:\n",
    "        return 1\n",
    "    else:\n",
    "        return 0"
   ]
  },
  {
   "cell_type": "code",
   "execution_count": 4,
   "metadata": {},
   "outputs": [],
   "source": [
    "#넘파이 배열도 가능하게 하자.\n",
    "def step_function(x):\n",
    "    y = x>0\n",
    "    return y.astype(np.int)"
   ]
  },
  {
   "cell_type": "code",
   "execution_count": 5,
   "metadata": {},
   "outputs": [
    {
     "data": {
      "text/plain": [
       "array([-1.,  1.,  2.])"
      ]
     },
     "execution_count": 5,
     "metadata": {},
     "output_type": "execute_result"
    }
   ],
   "source": [
    "import numpy as np\n",
    "x = np.array([-1.0, 1.0, 2.0])\n",
    "x"
   ]
  },
  {
   "cell_type": "code",
   "execution_count": 8,
   "metadata": {},
   "outputs": [],
   "source": [
    "y = x > 0 # 넘파이 배열에 부등호 연산 수행하면, 배열의 원소 각각 부등호 연산에 bool 배열이 나온다. 0 보다 크면 true, 나머지 false 출력한다."
   ]
  },
  {
   "cell_type": "code",
   "execution_count": 9,
   "metadata": {},
   "outputs": [
    {
     "data": {
      "text/plain": [
       "array([False,  True,  True])"
      ]
     },
     "execution_count": 9,
     "metadata": {},
     "output_type": "execute_result"
    }
   ],
   "source": [
    "y"
   ]
  },
  {
   "cell_type": "code",
   "execution_count": 12,
   "metadata": {},
   "outputs": [
    {
     "data": {
      "text/plain": [
       "array([0, 1, 1])"
      ]
     },
     "execution_count": 12,
     "metadata": {},
     "output_type": "execute_result"
    }
   ],
   "source": [
    "y = y.astype(np.int) # 자동 형변환을 해줄 수 있다. 계단 함수는 0이나 1의 int형을 출력하기 때문이다.\n",
    "y # 좋은 넘파이의 트릭이다. astype() 메서드 활용하자!"
   ]
  },
  {
   "cell_type": "code",
   "execution_count": 16,
   "metadata": {},
   "outputs": [
    {
     "data": {
      "image/png": "[encoded data removed]",
      "text/plain": [
       "<Figure size 432x288 with 1 Axes>"
      ]
     },
     "metadata": {
      "needs_background": "light"
     },
     "output_type": "display_data"
    }
   ],
   "source": [
    "# 계단 함수의 그래프\n",
    "import numpy as np\n",
    "import matplotlib.pylab as plt\n",
    "\n",
    "def step_function(x):\n",
    "    return np.array(x >0, dtype = np.int)\n",
    "\n",
    "x = np.arange(-5.0, 5.0, 0.1) #-5 부터 5까지 0.1 간격으로 넘파이 배열 생성\n",
    "y = step_function(x)\n",
    "plt.plot(x, y)\n",
    "plt.ylim(-0.1, 1.1) # y축 범위\n",
    "plt.show()"
   ]
  },
  {
   "cell_type": "code",
   "execution_count": 18,
   "metadata": {},
   "outputs": [],
   "source": [
    "# 시그모이드 함수 구현하기\n",
    "def sigmoid(x):\n",
    "    return 1 / (1 + np.exp(-x)) # 인수 x가 넘파이 배열이라도 올바른 결과 나온다. 기억!"
   ]
  },
  {
   "cell_type": "code",
   "execution_count": 20,
   "metadata": {},
   "outputs": [
    {
     "data": {
      "text/plain": [
       "array([0.26894142, 0.73105858, 0.88079708])"
      ]
     },
     "execution_count": 20,
     "metadata": {},
     "output_type": "execute_result"
    }
   ],
   "source": [
    "x = np.array([-1.0, 1.0, 2.0])\n",
    "sigmoid(x) # 넘파이의 브로드 캐스트 덕분에 넘파이 배열도 가능한 것이다."
   ]
  },
  {
   "cell_type": "code",
   "execution_count": 21,
   "metadata": {},
   "outputs": [
    {
     "data": {
      "text/plain": [
       "array([2., 3., 4.])"
      ]
     },
     "execution_count": 21,
     "metadata": {},
     "output_type": "execute_result"
    }
   ],
   "source": [
    "t = np.array([1.0, 2.0, 3.0])\n",
    "1.0 + t"
   ]
  },
  {
   "cell_type": "code",
   "execution_count": 23,
   "metadata": {},
   "outputs": [
    {
     "data": {
      "text/plain": [
       "array([1.        , 0.5       , 0.33333333])"
      ]
     },
     "execution_count": 23,
     "metadata": {},
     "output_type": "execute_result"
    }
   ],
   "source": [
    "1.0 / t #스칼라 값과 넘파이 배열이 계산이 가능하다. sigmoid도 가능한 이유!"
   ]
  },
  {
   "cell_type": "code",
   "execution_count": 25,
   "metadata": {},
   "outputs": [
    {
     "data": {
      "image/png": "[encoded data removed]",
      "text/plain": [
       "<Figure size 432x288 with 1 Axes>"
      ]
     },
     "metadata": {
      "needs_background": "light"
     },
     "output_type": "display_data"
    }
   ],
   "source": [
    "x = np.arange(-5.0, 5.0, 0.1)\n",
    "y = sigmoid(x)\n",
    "plt.plot(x,y)\n",
    "plt.ylim(-0.1, 1.1)\n",
    "plt.show() #시그모이드 = S자 모양만 기억하라!!"
   ]
  },
  {
   "cell_type": "markdown",
   "metadata": {},
   "source": [
    "### 시그모이드 함수와 계단 함수 비교\n",
    "1. 매끄러움의 차이  \n",
    "시그모이드는 부드러운 곡선이고 입력에 따른 출력이 **연속적**으로 변화. \n",
    "계단 함수는 0을 경계로 출력이 갑자기 변화한다. 시그모이드의 매끈함이 신경망에서 아주 중요하다.  \n",
    "2. 출력 값의 차이  \n",
    "계단 함수는 0과 1 중 하나의 값만 출력하고, 시그모이드는 실수를 돌려준다. 신경망에서는 연속적인 실수가 흐른다.  \n",
    "\n",
    "3. 공통점  \n",
    "큰 관점에서는 둘은 같은 모양을 한다. 입력이 작을 때의 출력이 0에 가깝거나 0이고, 입력이 커지면 출력이 1에 가깝거나 1이 되는 구조이다.  \n",
    "입력이 중요하면 큰 값을 출력하고, 입력이 중요하지 않으면 작은 값을 출력한다.  \n",
    "입력이 아무리 작거나 커도 0에서 1 사이 출력을 낸다.\n"
   ]
  },
  {
   "cell_type": "markdown",
   "metadata": {},
   "source": [
    "### 비선형 함수\n",
    "공통점으로 두 함수모두 **비선형 함수**이다.  \n",
    "선형 함수 : 변환기에 입력 시 출력이 입력의 상수배만 가능.  \n",
    "비선형 함수 : 선형이 아닌 함수.  \n",
    "신경망에서는 활성화 함수로 비선형 함수를 사용해야 한다.  \n",
    "선형 함수를 이용하면 신경망의 층을 깊게 하는 의미가 없어진다.  \n",
    "$$h(x) = cx \\\\\n",
    "y(x) = h(h(h(x))) \\\\\n",
    "y(x) = c * c * c * x \\\\\n",
    "y(x) = ax \\\\\n",
    "a = c^3$$  \n",
    "결국 동일한 선형 함수가 된다. 은닉층 없는 네트워크이다. 층을 쌓는 혜택을 얻으려면 **비선형 함수**를 반드시 써라!\n",
    "> 비선형 함수가 층을 쌓는 의미를 가지는 이유?"
   ]
  },
  {
   "cell_type": "markdown",
   "metadata": {},
   "source": [
    "### ReLu 함수(Rectified Linear Unit) \n",
    "최근에는 이 ReLu 함수를 주로 이용한다.  \n",
    "입력이 0을 넘으면 그 입력을 그대로 출력하고, 0 이하이면 0을 출력하는 함수로 다음과 같다.\n",
    "$$h(x) =\n",
    "\\begin{cases}\n",
    "x & \\mbox{} (x >\\mbox{0}) \\\\\n",
    "0 & \\mbox{} (x \\le\\mbox{0})\n",
    "\\end{cases}$$"
   ]
  },
  {
   "cell_type": "code",
   "execution_count": 31,
   "metadata": {},
   "outputs": [
    {
     "data": {
      "image/png": "[encoded data removed]",
      "text/plain": [
       "<Figure size 432x288 with 1 Axes>"
      ]
     },
     "metadata": {
      "needs_background": "light"
     },
     "output_type": "display_data"
    }
   ],
   "source": [
    "def relu(x):\n",
    "    return np.maximum(0, x) #maximum은 두 입력 값 중 큰 값을 선택해 반환하는 함수이다.\n",
    "x = np.arange(-5.0, 3.0, 0.1)\n",
    "y = relu(x)\n",
    "plt.plot(x,y)\n",
    "plt.ylim(-0.1, 1.1)\n",
    "plt.show() #시그모이드 = S자 모양만 기억하라!!\n"
   ]
  },
  {
   "cell_type": "markdown",
   "metadata": {},
   "source": [
    "## 다차원 배열의 계산\n",
    "### 다차원 배열\n",
    "신경망을 효율적으로 구현한다. 기본은 '숫자의 집합'이다. N차원으로 숫자를 나열하는 것을 통틀어 다차원 배열이라 한다."
   ]
  },
  {
   "cell_type": "code",
   "execution_count": 38,
   "metadata": {},
   "outputs": [
    {
     "name": "stdout",
     "output_type": "stream",
     "text": [
      "[1 2 3 4]\n"
     ]
    }
   ],
   "source": [
    "import numpy as np\n",
    "# 1차원 배열\n",
    "A = np.array([1,2,3,4])\n",
    "print(A)"
   ]
  },
  {
   "cell_type": "code",
   "execution_count": 39,
   "metadata": {},
   "outputs": [
    {
     "data": {
      "text/plain": [
       "1"
      ]
     },
     "execution_count": 39,
     "metadata": {},
     "output_type": "execute_result"
    }
   ],
   "source": [
    "np.ndim(A) #넘파이 차원을 확인한다."
   ]
  },
  {
   "cell_type": "code",
   "execution_count": 40,
   "metadata": {},
   "outputs": [
    {
     "data": {
      "text/plain": [
       "(4,)"
      ]
     },
     "execution_count": 40,
     "metadata": {},
     "output_type": "execute_result"
    }
   ],
   "source": [
    "A.shape # 배열의 형상을 인스턴스 변수인 shape으로 본다. 배열의 원소 크기 보여준다. 튜플로 변환하는 것을 주의하라!!! 다차원 배열에서 모두 통일된 형태로 반환하기 위함이다."
   ]
  },
  {
   "cell_type": "code",
   "execution_count": 41,
   "metadata": {},
   "outputs": [
    {
     "data": {
      "text/plain": [
       "4"
      ]
     },
     "execution_count": 41,
     "metadata": {},
     "output_type": "execute_result"
    }
   ],
   "source": [
    "A.shape[0]"
   ]
  },
  {
   "cell_type": "code",
   "execution_count": 42,
   "metadata": {},
   "outputs": [
    {
     "name": "stdout",
     "output_type": "stream",
     "text": [
      "[[1 2]\n",
      " [3 4]\n",
      " [5 6]]\n"
     ]
    }
   ],
   "source": [
    "# 2차원 배열\n",
    "B = np.array([[1,2], [3,4], [5,6]])\n",
    "print(B)"
   ]
  },
  {
   "cell_type": "code",
   "execution_count": 43,
   "metadata": {},
   "outputs": [
    {
     "data": {
      "text/plain": [
       "2"
      ]
     },
     "execution_count": 43,
     "metadata": {},
     "output_type": "execute_result"
    }
   ],
   "source": [
    "np.ndim(B)"
   ]
  },
  {
   "cell_type": "code",
   "execution_count": 44,
   "metadata": {},
   "outputs": [
    {
     "data": {
      "text/plain": [
       "(3, 2)"
      ]
     },
     "execution_count": 44,
     "metadata": {},
     "output_type": "execute_result"
    }
   ],
   "source": [
    "B.shape"
   ]
  },
  {
   "cell_type": "markdown",
   "metadata": {},
   "source": [
    "B는 $3 \\times 2$ 인 배열로,처음 차원은 원소가 3개이고 다음 차원은 원소가 2개라는 의미이다.  \n",
    "2차원 배열은 **행렬 matrix**라고 부르고, 가로 방향을 행 row, 세로 방향을 열 column이라고 한다.  \n",
    "$\\pmatrix {1\\ 2 \\\\\n",
    "3\\ 4\\\\\n",
    "5\\ 6}$"
   ]
  },
  {
   "cell_type": "markdown",
   "metadata": {},
   "source": [
    "### 행렬의 곱\n"
   ]
  },
  {
   "cell_type": "code",
   "execution_count": 45,
   "metadata": {},
   "outputs": [
    {
     "data": {
      "text/plain": [
       "(2, 2)"
      ]
     },
     "execution_count": 45,
     "metadata": {},
     "output_type": "execute_result"
    }
   ],
   "source": [
    "A = np.array([[1,2], [3,4]])\n",
    "A.shape"
   ]
  },
  {
   "cell_type": "code",
   "execution_count": 46,
   "metadata": {},
   "outputs": [
    {
     "data": {
      "text/plain": [
       "(2, 2)"
      ]
     },
     "execution_count": 46,
     "metadata": {},
     "output_type": "execute_result"
    }
   ],
   "source": [
    "B = np.array([[5,6], [7,9]])\n",
    "B.shape"
   ]
  },
  {
   "cell_type": "code",
   "execution_count": 48,
   "metadata": {},
   "outputs": [
    {
     "data": {
      "text/plain": [
       "array([[19, 24],\n",
       "       [43, 54]])"
      ]
     },
     "execution_count": 48,
     "metadata": {},
     "output_type": "execute_result"
    }
   ],
   "source": [
    "np.dot(A, B) #두 행렬의 곱은 넘파이 함수 np.dot()을 이용!  1차원 배열 입력은 벡터, 2차원 배열은 행렬 곱을 계산한다. 교환법칙 성립하지 않는다."
   ]
  },
  {
   "cell_type": "code",
   "execution_count": 51,
   "metadata": {},
   "outputs": [
    {
     "data": {
      "text/plain": [
       "(2, 3)"
      ]
     },
     "execution_count": 51,
     "metadata": {},
     "output_type": "execute_result"
    }
   ],
   "source": [
    "# 형상이 다른 경우 행렬의 곱\n",
    "A = np.array([[1,2,3], [4,5,6]])\n",
    "A.shape"
   ]
  },
  {
   "cell_type": "code",
   "execution_count": 52,
   "metadata": {},
   "outputs": [
    {
     "data": {
      "text/plain": [
       "(3, 2)"
      ]
     },
     "execution_count": 52,
     "metadata": {},
     "output_type": "execute_result"
    }
   ],
   "source": [
    "B = np.array([[1,2],[3,4],[5,6]])\n",
    "B.shape"
   ]
  },
  {
   "cell_type": "code",
   "execution_count": 53,
   "metadata": {},
   "outputs": [
    {
     "data": {
      "text/plain": [
       "array([[22, 28],\n",
       "       [49, 64]])"
      ]
     },
     "execution_count": 53,
     "metadata": {},
     "output_type": "execute_result"
    }
   ],
   "source": [
    "np.dot(A, B)"
   ]
  },
  {
   "cell_type": "code",
   "execution_count": 54,
   "metadata": {},
   "outputs": [
    {
     "data": {
      "text/plain": [
       "(2, 2)"
      ]
     },
     "execution_count": 54,
     "metadata": {},
     "output_type": "execute_result"
    }
   ],
   "source": [
    "C = np.array([[1,2],[3,4]])\n",
    "C.shape"
   ]
  },
  {
   "cell_type": "code",
   "execution_count": 55,
   "metadata": {},
   "outputs": [
    {
     "data": {
      "text/plain": [
       "(2, 3)"
      ]
     },
     "execution_count": 55,
     "metadata": {},
     "output_type": "execute_result"
    }
   ],
   "source": [
    "A.shape"
   ]
  },
  {
   "cell_type": "code",
   "execution_count": 57,
   "metadata": {},
   "outputs": [
    {
     "ename": "ValueError",
     "evalue": "shapes (2,3) and (2,2) not aligned: 3 (dim 1) != 2 (dim 0)",
     "output_type": "error",
     "traceback": [
      "\u001b[0;31m---------------------------------------------------------------------------\u001b[0m",
      "\u001b[0;31mValueError\u001b[0m                                Traceback (most recent call last)",
      "\u001b[0;32m<ipython-input-57-f2867cbaa5d7>\u001b[0m in \u001b[0;36m<module>\u001b[0;34m\u001b[0m\n\u001b[0;32m----> 1\u001b[0;31m \u001b[0mnp\u001b[0m\u001b[0;34m.\u001b[0m\u001b[0mdot\u001b[0m\u001b[0;34m(\u001b[0m\u001b[0mA\u001b[0m\u001b[0;34m,\u001b[0m \u001b[0mC\u001b[0m\u001b[0;34m)\u001b[0m \u001b[0;31m#A의 1번째 차원과 C의 0번째 차원이 다르면 오류가 난다.(차원의 인덱스는 0부터 시작한다.)\u001b[0m\u001b[0;34m\u001b[0m\u001b[0;34m\u001b[0m\u001b[0m\n\u001b[0m",
      "\u001b[0;31mValueError\u001b[0m: shapes (2,3) and (2,2) not aligned: 3 (dim 1) != 2 (dim 0)"
     ]
    }
   ],
   "source": [
    "np.dot(A, C) #A의 1번째 차원과 C의 0번째 차원이 다르면 오류가 난다.(차원의 인덱스는 0부터 시작한다.) "
   ]
  },
  {
   "cell_type": "markdown",
   "metadata": {},
   "source": [
    "대응하는 차원의 원소 수를 일치시켜라!!  "
   ]
  },
  {
   "cell_type": "code",
   "execution_count": 58,
   "metadata": {},
   "outputs": [
    {
     "data": {
      "text/plain": [
       "(3, 2)"
      ]
     },
     "execution_count": 58,
     "metadata": {},
     "output_type": "execute_result"
    }
   ],
   "source": [
    "A = np.array([[1,2],[3,4],[5,6]])\n",
    "A.shape"
   ]
  },
  {
   "cell_type": "code",
   "execution_count": 61,
   "metadata": {},
   "outputs": [
    {
     "data": {
      "text/plain": [
       "(2,)"
      ]
     },
     "execution_count": 61,
     "metadata": {},
     "output_type": "execute_result"
    }
   ],
   "source": [
    "B = np.array([7,8])\n",
    "B.shape"
   ]
  },
  {
   "cell_type": "code",
   "execution_count": 62,
   "metadata": {},
   "outputs": [
    {
     "data": {
      "text/plain": [
       "array([23, 53, 83])"
      ]
     },
     "execution_count": 62,
     "metadata": {},
     "output_type": "execute_result"
    }
   ],
   "source": [
    "np.dot(A, B)"
   ]
  },
  {
   "cell_type": "markdown",
   "metadata": {},
   "source": [
    "### 신경망에서의 행렬 곱\n",
    "넘파이 행렬로 신경망을 구현하자. 편향과 활성화 함수를 생략하고 가중치만 가정한다.  \n",
    "주의할 점은 X와 W의 대응하는 차원의 원소 수가 같아야 한다."
   ]
  },
  {
   "cell_type": "code",
   "execution_count": 63,
   "metadata": {},
   "outputs": [
    {
     "data": {
      "text/plain": [
       "(2,)"
      ]
     },
     "execution_count": 63,
     "metadata": {},
     "output_type": "execute_result"
    }
   ],
   "source": [
    "X = np.array([1,2])\n",
    "X.shape"
   ]
  },
  {
   "cell_type": "code",
   "execution_count": 64,
   "metadata": {},
   "outputs": [
    {
     "data": {
      "text/plain": [
       "(2, 3)"
      ]
     },
     "execution_count": 64,
     "metadata": {},
     "output_type": "execute_result"
    }
   ],
   "source": [
    "W = np.array([[1,3,5], [2,4,6]])\n",
    "W.shape"
   ]
  },
  {
   "cell_type": "code",
   "execution_count": 66,
   "metadata": {},
   "outputs": [
    {
     "name": "stdout",
     "output_type": "stream",
     "text": [
      "[ 5 11 17]\n"
     ]
    }
   ],
   "source": [
    "y = np.dot(X, W) # np.dot() 으로 아무리 Y 원소가 커도 한 번의 연산으로 계산한다!! 행렬의 곱으로 한꺼번에 계산해주는 기능이 신경망에서 매우 중요하다.\n",
    "print(y)"
   ]
  },
  {
   "cell_type": "markdown",
   "metadata": {},
   "source": [
    "## 3층 신경망 구현하기\n",
    "넘파이 배열로 신경망의 순방향 처리 완성할 수 있다.\n",
    "### 표기법 설명\n",
    "$w_{12}^{(1)}$ : 앞 층의 2번째 뉴런($x_2$)에서 다음 층의 1번째 뉴런($a_1^{(1)}$)으로 향할 때 가중치이다.  \n",
    "하단 인덱스 번호는 **다음 층 번호, 앞 층 번호 순**으로 적는다."
   ]
  },
  {
   "cell_type": "code",
   "execution_count": 67,
   "metadata": {},
   "outputs": [],
   "source": [
    "#행렬의 곱으로 구현하기\n",
    "X = np.array([1.0, 0.5]) # (2,)\n",
    "W1 = np.array([[0.1, 0.3, 0.5], [0.2, 0.4, 0.6]]) # (2,3)\n",
    "B1 = np.array([0.1, 0.2, 0.3]) # (3,)\n",
    "\n",
    "A1 = np.dot(X, W1) + B1"
   ]
  },
  {
   "cell_type": "code",
   "execution_count": 69,
   "metadata": {},
   "outputs": [
    {
     "name": "stdout",
     "output_type": "stream",
     "text": [
      "[0.3 0.7 1.1]\n",
      "[0.57444252 0.66818777 0.75026011]\n"
     ]
    }
   ],
   "source": [
    "# 은닉층에서 가중치 합을 a로 표기, 활성화 함수 h() 변환된 신호를 z로 표기\n",
    "# 시그모이드로 표현한다.\n",
    "Z1 = sigmoid(A1) # 앞에서 정의\n",
    "\n",
    "print(A1)\n",
    "print(Z1)"
   ]
  },
  {
   "cell_type": "code",
   "execution_count": 71,
   "metadata": {},
   "outputs": [
    {
     "name": "stdout",
     "output_type": "stream",
     "text": [
      "[0.60256397 0.70690291]\n"
     ]
    }
   ],
   "source": [
    "#1층에서 2층으로 가는 과정\n",
    "W2 = np.array([[0.1, 0.4], [0.2, 0.3], [0.3, 0.6]]) #(3,2)\n",
    "B2 = np.array([0.1, 0.2]) #(2,)\n",
    "\n",
    "A2 = np.dot(Z1, W2) # 1*3 * 3*2 = 1*2 (2,)\n",
    "Z2 = sigmoid(A2)\n",
    "print(Z2) #Z1이 2층의 입력이 된다."
   ]
  },
  {
   "cell_type": "code",
   "execution_count": 74,
   "metadata": {},
   "outputs": [],
   "source": [
    "def identity_function(x): #항등함수 정의하고, 이를 출력층의 활성화 함수로 이용한다.\n",
    "    return x\n",
    "\n",
    "W3 = np.array([[0.1, 0.3], [0.2, 0.4]])\n",
    "B3 = np.array([0.1, 0.2])\n",
    "\n",
    "A3 = np.dot(Z2, W3) + B3\n",
    "Y = identity_function(A3) # Y= A3 출력층의 함수로 그림에서는 시그마 함수로 표기한다."
   ]
  },
  {
   "cell_type": "code",
   "execution_count": 77,
   "metadata": {},
   "outputs": [
    {
     "name": "stdout",
     "output_type": "stream",
     "text": [
      "[0.31682708 0.69627909]\n"
     ]
    }
   ],
   "source": [
    "# 구현 정리\n",
    "def init_network():\n",
    "    network = {}\n",
    "    network['W1'] = np.array([[0.1, 0.3, 0.5], [0.2, 0.4, 0.6]]) # (2,3)\n",
    "    network['b1'] = np.array([0.1, 0.2, 0.3]) #(3,)\n",
    "    network['W2'] = np.array([[0.1, 0.4], [0.2, 0.5], [0.3, 0.6]]) #(3,2)\n",
    "    network['b2'] = np.array([0.1, 0.2]) #(2,)\n",
    "    network['W3'] = np.array([[0.1,0.3], [0.2, 0.4]]) #(2,2)\n",
    "    network['b3'] = np.array([0.1, 0.2]) #(2,)\n",
    "    \n",
    "    return network\n",
    "\n",
    "def forward(network, x):\n",
    "    W1, W2, W3 = network['W1'], network['W2'], network['W3']\n",
    "    b1, b2, b3 = network['b1'], network['b2'], network['b3']\n",
    "    \n",
    "    a1 = np.dot(x, W1) + b1\n",
    "    z1 = sigmoid(a1)\n",
    "    a2 = np.dot(z1, W2) + b2\n",
    "    z2 = sigmoid(a2)\n",
    "    a3 = np.dot(z2, W3) + b3\n",
    "    y = identity_function(a3)\n",
    "    \n",
    "    return y\n",
    "\n",
    "network = init_network() # 가중치와 편향을 초기화하고 이를 딕셔너리 변수인 network에 저장한다. 여기에 각 층에 필요한 매개변수 저장한다.\n",
    "x = np.array([1.0, 0.5])\n",
    "y = forward(network, x) #입력신호를 출력으로 변환하는 처리 과정 구현한다. 신호가 순방향으로 전달됨(순전파) 표기한 이름이다.\n",
    "print(y) #[0.31682708 0.69627909]\n",
    "# 넘파이 다차원 배열 쓰면 효율적으로 신경망 구현이 가능하다!"
   ]
  },
  {
   "cell_type": "markdown",
   "metadata": {},
   "source": [
    "## 출력층 설계하기\n",
    "신경망은 분류와 회귀 모두 이용한다. 활성화 함수가 다르다. 일반적으로 회귀는 항등함수를 쓰고 분류는 소프트맥스함수를 쓴다.\n",
    "### 항등 함수와 소프트맥스 함수 구현하기\n",
    "* 항등 함수(identity function) : 입력을 그대로 출력한다. 입력과 출력이 항상 같다.\n",
    "* 소프트맥스 함수(softmax function)\n",
    "$$y_k = {\\exp(a_k) \\over \\sum_{i=1}^n \\exp(a_i)}$$\n",
    "n은 출력 층의 뉴런 수이고, $y_k$는 k번째 출력임을 뜻한다. 분자는 입력 신호의 지수 함수이고, 분모는 모든 입력 신호의 지수 함수의 합이다.  \n",
    "소프트맥스는 분모에서 보듯이 출력층의 각 뉴런이 모든 입력 신호에서 영향을 받는다."
   ]
  },
  {
   "cell_type": "code",
   "execution_count": 78,
   "metadata": {},
   "outputs": [
    {
     "name": "stdout",
     "output_type": "stream",
     "text": [
      "[ 1.34985881 18.17414537 54.59815003]\n"
     ]
    }
   ],
   "source": [
    "a = np.array([0.3, 2.9, 4.0])\n",
    "exp_a = np.exp(a)\n",
    "print(exp_a)"
   ]
  },
  {
   "cell_type": "code",
   "execution_count": 79,
   "metadata": {},
   "outputs": [
    {
     "name": "stdout",
     "output_type": "stream",
     "text": [
      "74.1221542101633\n"
     ]
    }
   ],
   "source": [
    "sum_exp_a = np.sum(exp_a)\n",
    "print(sum_exp_a)"
   ]
  },
  {
   "cell_type": "code",
   "execution_count": 80,
   "metadata": {},
   "outputs": [
    {
     "name": "stdout",
     "output_type": "stream",
     "text": [
      "[0.01821127 0.24519181 0.73659691]\n"
     ]
    }
   ],
   "source": [
    "y = exp_a / sum_exp_a\n",
    "print(y)"
   ]
  },
  {
   "cell_type": "code",
   "execution_count": 81,
   "metadata": {},
   "outputs": [],
   "source": [
    "# 함수로 만든다.\n",
    "def softmax(a):\n",
    "    exp_a = np.exp(a)\n",
    "    sum_exp_a = np.sum(exp_a)\n",
    "    y = exp_a / sum_exp_a\n",
    "    \n",
    "    return y"
   ]
  },
  {
   "cell_type": "markdown",
   "metadata": {},
   "source": [
    "### 소프트맥스 함수 구현시 주의점\n",
    "오버플로 문제. \n",
    "지수 함수를 사용해서 쉽게 큰 값을 내므로, 큰 값끼리 나누면 결과가 **불안정**해진다. 해결하려면 다음과 같이 개선한다.  \n",
    "$$y_k = {\\exp(a_k) \\over \\sum_{i=1}^n \\exp(a_i)} =  {C\\exp(a_k) \\over C\\sum_{i=1}^n \\exp(a_i)}  \\\\ =  {\\exp(a_k + \\log C) \\over \\sum_{i=1}^n \\exp(a_i + \\log C)}\\\\ =  {\\exp(a_k + C') \\over \\sum_{i=1}^n \\exp(a_i + C')}  $$  \n",
    "$C'$ : 오버플로를 막기 위해서는 입력 신호 중 최댓값을 이용한다.\n",
    "\n"
   ]
  },
  {
   "cell_type": "code",
   "execution_count": 82,
   "metadata": {},
   "outputs": [
    {
     "name": "stderr",
     "output_type": "stream",
     "text": [
      "/usr/local/lib/python3.7/site-packages/ipykernel_launcher.py:2: RuntimeWarning: overflow encountered in exp\n",
      "  \n",
      "/usr/local/lib/python3.7/site-packages/ipykernel_launcher.py:2: RuntimeWarning: invalid value encountered in true_divide\n",
      "  \n"
     ]
    },
    {
     "data": {
      "text/plain": [
       "array([nan, nan, nan])"
      ]
     },
     "execution_count": 82,
     "metadata": {},
     "output_type": "execute_result"
    }
   ],
   "source": [
    "a = np.array([1010, 1000, 900])\n",
    "np.exp(a) / np.sum(np.exp(a)) # 오버 플로 문제가 발생한다. nan = not a number"
   ]
  },
  {
   "cell_type": "code",
   "execution_count": 83,
   "metadata": {},
   "outputs": [
    {
     "data": {
      "text/plain": [
       "array([   0,  -10, -110])"
      ]
     },
     "execution_count": 83,
     "metadata": {},
     "output_type": "execute_result"
    }
   ],
   "source": [
    "c = np.max(a)\n",
    "a - c"
   ]
  },
  {
   "cell_type": "code",
   "execution_count": 84,
   "metadata": {},
   "outputs": [
    {
     "data": {
      "text/plain": [
       "array([9.99954602e-01, 4.53978687e-05, 1.68883521e-48])"
      ]
     },
     "execution_count": 84,
     "metadata": {},
     "output_type": "execute_result"
    }
   ],
   "source": [
    "np.exp(a - c) / np.sum(np.exp(a - c))"
   ]
  },
  {
   "cell_type": "code",
   "execution_count": 85,
   "metadata": {},
   "outputs": [],
   "source": [
    "def softmax(a):\n",
    "    c = np.max(a)\n",
    "    exp_a = np.exp(a - c)\n",
    "    sum_exp_a = np.sum(np.exp(a - c))\n",
    "    y = exp_a / sum_exp_a\n",
    "    return y"
   ]
  },
  {
   "cell_type": "code",
   "execution_count": 88,
   "metadata": {},
   "outputs": [
    {
     "name": "stdout",
     "output_type": "stream",
     "text": [
      "[0.01821127 0.24519181 0.73659691]\n"
     ]
    }
   ],
   "source": [
    "# 소프트맥스 함수의 특징\n",
    "\n",
    "a = np.array([0.3, 2.9, 4.0])\n",
    "y = softmax(a)\n",
    "print(y)"
   ]
  },
  {
   "cell_type": "code",
   "execution_count": 87,
   "metadata": {},
   "outputs": [
    {
     "data": {
      "text/plain": [
       "1.0"
      ]
     },
     "execution_count": 87,
     "metadata": {},
     "output_type": "execute_result"
    }
   ],
   "source": [
    "np.sum(y)"
   ]
  },
  {
   "cell_type": "markdown",
   "metadata": {},
   "source": [
    "### 소프트맥스 함수의 특징\n",
    "1. 소프트맥스 함수의 출력은 0과 1사이이다.\n",
    "2. 소프트맥스 함수의 출력의 합은 1이다.(중요)  \n",
    "$\\therefore$ 소프트맥스 함수의 출력을 **확률**로 해석할 수 있다.  \n",
    "소프트맥스 함수를 이용해서 문제를 확률적(통계적)으로 대응한다.  \n",
    "* 주의  \n",
    "소프트맥스 함수를 적용해도 각 원소의 대소 관계는 변하지 않는다. $y = \\exp(x)$가 단조 증가 함수이기 때문이다.  \n",
    "* 신경망을 이용한 분류  \n",
    "일반적으로 가장 큰 출력을 내는 뉴런에 해당 클래스로 인식한다.  \n",
    "소프트맥스 함수를 적용해도 출력이 가장 큰 뉴런의 위치가 달라지지 않는다.  \n",
    "출력층의 소프트맥스 함수를 생략해도 된다.  현업에서도 출력층의 소프트맥스 함수는 생략한다."
   ]
  },
  {
   "cell_type": "markdown",
   "metadata": {},
   "source": [
    "### 출력층의 뉴런 수 정하기\n",
    "분류에서는 분류하고 싶은 클래스 수로 설정한다.  \n",
    "예로, 입력 이미지를 숫자 0부터 9 중 하나로 분류 : 출력층 뉴런 10개. \n",
    "* 출력층의 뉴런은 각 숫자에 대응한다.  \n",
    "회색 농도는 해당 뉴런의 출력 값의 크기를 의미한다. 가장 큰 값이 가장 짙은 뉴런이고, 신경망은 이 뉴런에 해당하는 클래스로 판단한다."
   ]
  },
  {
   "cell_type": "markdown",
   "metadata": {},
   "source": [
    "## 손글씨 숫자 인식\n",
    "신경망의 순전파(forward propagation) : 신경망에서 추론 과정\n",
    "1. 학습 단계 : 훈련 데이터(학습 데이터)를 통해 가중치 매개변수를 학습\n",
    "2. 추론 단계 : 앞에서 학습한 매개변수를 이용해서 입력 데이터를 분류\n",
    "\n",
    "### MNIST 데이터셋\n",
    "* MNIST:  손글씨 숫자 이미지 집합  \n",
    "0부터 9까지 숫자 이미지로 구성. \n",
    "훈련 이미지 60000장 + 시험 이미지 10000장 준비  \n",
    "\n",
    "![mnist1](./deep_learning_images/fig_3-24.png)"
   ]
  },
  {
   "cell_type": "code",
   "execution_count": 98,
   "metadata": {},
   "outputs": [
    {
     "name": "stdout",
     "output_type": "stream",
     "text": [
      "(60000, 784)\n"
     ]
    }
   ],
   "source": [
    "import sys, os\n",
    "sys.path.append(os.pardir) #부모 디렉터리 파일을 가져오도록 설정\n",
    "from dataset.mnist import load_mnist #dataset./mnist.py의 load_mnist 함수 임포트\n",
    "\n",
    "(x_train, t_train), (x_test, t_test) = load_mnist(flatten = True, normalize = False) # 이제 MNIST 데이터 셋을 호출하고, 인터넷 연결된 상태여야 한다.\n",
    "# 두번째부터는 로컬에 저장된 pickle 파일로 읽는다.\n",
    "# load_mnist() 함수는 (훈련 이미지, 훈련 레이블), (시험 이미지, 시험 레이블) 형식으로 반환한다.\n",
    "#각 데이터 형상 출력 \n",
    "print(x_train.shape)"
   ]
  },
  {
   "cell_type": "code",
   "execution_count": 95,
   "metadata": {},
   "outputs": [
    {
     "name": "stdout",
     "output_type": "stream",
     "text": [
      "(60000,)\n"
     ]
    }
   ],
   "source": [
    "print(t_train.shape)"
   ]
  },
  {
   "cell_type": "code",
   "execution_count": 96,
   "metadata": {},
   "outputs": [
    {
     "name": "stdout",
     "output_type": "stream",
     "text": [
      "(10000, 784)\n"
     ]
    }
   ],
   "source": [
    "print(x_test.shape)"
   ]
  },
  {
   "cell_type": "code",
   "execution_count": 97,
   "metadata": {},
   "outputs": [
    {
     "name": "stdout",
     "output_type": "stream",
     "text": [
      "(10000,)\n"
     ]
    }
   ],
   "source": [
    "print(t_test.shape)"
   ]
  },
  {
   "cell_type": "markdown",
   "metadata": {},
   "source": [
    "* load_mnist 함수  \n",
    "인수로 normalize, flatten, one_hot_label 설정 가능하다. 세 인수 모두 bool 값이다.  \n",
    "normalize : 입력 이미지 픽셀 값을 0.0 ~ 1.0 사이 정규화(False시 0 ~ 255)  \n",
    "flatten : 입력 이미지를 평탄하게 1차원 배열로 설정(False시 1*28*28)  \n",
    "one_hot_label : 레이블을 원-핫 인코딩 형태로 저장 설정(False시 7, 2 숫자 형태 레이블 저장)  "
   ]
  },
  {
   "cell_type": "code",
   "execution_count": 99,
   "metadata": {},
   "outputs": [
    {
     "name": "stdout",
     "output_type": "stream",
     "text": [
      "5\n"
     ]
    }
   ],
   "source": [
    "#화면으로 부른다. 이미지 표시는 PIL(Python Image Library) 모듈 이용한다.\n",
    "\n",
    "import sys, os\n",
    "sys.path.append(os.pardir)\n",
    "import numpy as np\n",
    "from dataset.mnist import load_mnist\n",
    "from PIL import Image\n",
    "\n",
    "def img_show(img):\n",
    "    pil_img = Image.fromarray(np.uint8(img))\n",
    "    pil_img.show()\n",
    "    \n",
    "(x_train, t_train), (x_test, t_test) = load_mnist(flatten = True, normalize = False)\n",
    "img = x_train[0]\n",
    "label = t_train[0]\n",
    "print(label)"
   ]
  },
  {
   "cell_type": "code",
   "execution_count": 100,
   "metadata": {},
   "outputs": [
    {
     "name": "stdout",
     "output_type": "stream",
     "text": [
      "(784,)\n"
     ]
    }
   ],
   "source": [
    "print(img.shape)"
   ]
  },
  {
   "cell_type": "code",
   "execution_count": 102,
   "metadata": {},
   "outputs": [
    {
     "name": "stdout",
     "output_type": "stream",
     "text": [
      "(28, 28)\n"
     ]
    }
   ],
   "source": [
    "img = img.reshape(28, 28) # 원래 이미지 모양인 1*28*28 형태\n",
    "print(img.shape)"
   ]
  },
  {
   "cell_type": "code",
   "execution_count": 103,
   "metadata": {},
   "outputs": [],
   "source": [
    "img_show(img)"
   ]
  },
  {
   "cell_type": "markdown",
   "metadata": {},
   "source": [
    "![img](./deep_learning_images/fig_3-25.png)"
   ]
  },
  {
   "cell_type": "markdown",
   "metadata": {},
   "source": [
    "* 주의 사항. \n",
    "flatten =True로 읽으면 1차원 넘파이 배열이므로, 실제 이미지 표시할 때는 원래 형상인 28* 28로 다시 변형해야 한다.  \n",
    "reshape() 메서드를 이용하라.  \n",
    "PIL용 객체로 변환할 때는 image.fromarray() 메서드를 활용한다."
   ]
  },
  {
   "cell_type": "code",
   "execution_count": 125,
   "metadata": {},
   "outputs": [],
   "source": [
    "import pickle\n",
    "#신경망의 추론 처리\n",
    "# 입력은 28 * 28 = 784개, 출력은 10개\n",
    "def get_data():\n",
    "    (x_train, t_train), (x_test, t_test) = load_mnist(normalize = True, flatten = True, one_hot_label= False)\n",
    "    return x_test, t_test\n",
    "\n",
    "def init_network(): # pickle 파일인 sample_weight.pkl에 저장된 학습된 가중치 매개벼수를 읽는다.\n",
    "    with open(\"sample_weight.pkl\", 'rb') as f: # 이 파일은 가중치와 편향 매개변수가 딕셔너리 변수로 저장된다.\n",
    "        network = pickle.load(f)\n",
    "    return network\n",
    "\n",
    "def predict(network, x): # 각 레이블의 확률 확률을 넘파이 배열로 반환한다.\n",
    "    W1, W2, W3 = network['W1'], network['W2'], network['W3']\n",
    "    b1, b2, b3 = network['b1'], network['b2'], network['b3']\n",
    "    \n",
    "    a1 = np.dot(x, W1) + b1\n",
    "    z1 = sigmoid(a1)\n",
    "    a2 = np.dot(z1, W2) + b2\n",
    "    z2 = sigmoid(a2)\n",
    "    a3 = np.dot(z2, W3) + b3\n",
    "    y = softmax(a3)\n",
    "    \n",
    "    return y"
   ]
  },
  {
   "cell_type": "code",
   "execution_count": 127,
   "metadata": {},
   "outputs": [
    {
     "name": "stdout",
     "output_type": "stream",
     "text": [
      "정확도:0.9352\n"
     ]
    }
   ],
   "source": [
    "#정확도 평가\n",
    "x, t = get_data()\n",
    "network = init_network() #이미 학습된 가중치로 세팅이 된다.\n",
    "\n",
    "accuracy_cnt = 0\n",
    "for i in range(len(x)):\n",
    "    y = predict(network, x[i])\n",
    "    p = np.argmax(y) # 확률이 가장 높은 원소의 인덱스를 얻는다.\n",
    "    if p == t[i]:\n",
    "        accuracy_cnt += 1 \n",
    "print(\"정확도:\" + str(float(accuracy_cnt) / len(x)))# 맞힌 숫자의 개수를 세고, 이를 전체 이미지 숫자로 나누어 정확도를 구한다."
   ]
  },
  {
   "cell_type": "markdown",
   "metadata": {},
   "source": [
    "* 정규화 normalization : 0 ~ 255 범위인 픽셀 값을 0.0 ~ 1.0 범위로 변환\n",
    "* 전처리 pre-processing : 신경망의 입력 데이터에 특정 변환을 가하는 것  \n",
    "$\\therefore$ 입력 이미지 데이터에 대한 전처리 작업으로 정규화를 수행  \n",
    "* 데이터 백색화 whitening : 전체 데이터를 균일하게 분포시킨다.  \n"
   ]
  },
  {
   "cell_type": "code",
   "execution_count": 130,
   "metadata": {},
   "outputs": [
    {
     "data": {
      "text/plain": [
       "(10000, 784)"
      ]
     },
     "execution_count": 130,
     "metadata": {},
     "output_type": "execute_result"
    }
   ],
   "source": [
    "# 배치 처리 : 가중치 매개변수의 형상에 주의한다.\n",
    "x, _  = get_data()\n",
    "network = init_network()\n",
    "W1, W2, W3 = network['W1'], network['W2'], network['W3']\n",
    "\n",
    "x.shape"
   ]
  },
  {
   "cell_type": "code",
   "execution_count": 131,
   "metadata": {},
   "outputs": [
    {
     "data": {
      "text/plain": [
       "(784,)"
      ]
     },
     "execution_count": 131,
     "metadata": {},
     "output_type": "execute_result"
    }
   ],
   "source": [
    "x[0].shape"
   ]
  },
  {
   "cell_type": "code",
   "execution_count": 132,
   "metadata": {},
   "outputs": [
    {
     "data": {
      "text/plain": [
       "(784, 50)"
      ]
     },
     "execution_count": 132,
     "metadata": {},
     "output_type": "execute_result"
    }
   ],
   "source": [
    "W1.shape"
   ]
  },
  {
   "cell_type": "code",
   "execution_count": 133,
   "metadata": {},
   "outputs": [
    {
     "data": {
      "text/plain": [
       "(50, 100)"
      ]
     },
     "execution_count": 133,
     "metadata": {},
     "output_type": "execute_result"
    }
   ],
   "source": [
    "W2.shape"
   ]
  },
  {
   "cell_type": "code",
   "execution_count": 134,
   "metadata": {},
   "outputs": [
    {
     "data": {
      "text/plain": [
       "(100, 10)"
      ]
     },
     "execution_count": 134,
     "metadata": {},
     "output_type": "execute_result"
    }
   ],
   "source": [
    "W3.shape"
   ]
  },
  {
   "cell_type": "markdown",
   "metadata": {},
   "source": [
    ">x, _  = get_data() ?"
   ]
  },
  {
   "cell_type": "markdown",
   "metadata": {},
   "source": [
    "이미지 한장 입력 시, 다차원 배열의 대응하는 차원의 원소 수가 일치한다.\n",
    "![img](./deep_learning_images/fig_3-26.png)"
   ]
  },
  {
   "cell_type": "markdown",
   "metadata": {},
   "source": [
    "이미지 100장 한꺼번에 입력시, 다음과 같다. 100장 분량 입력 데이터 결과가 한 번에 출력된다.\n",
    "![img](./deep_learning_images/fig_3-27.png)\n",
    "\n",
    "예를 들어, x[0]은 0번째 이미지 + y[0]은 그 추론 결과가 저장되는 형식이다.  \n",
    "* 배치(batch) : 하나로 묶은 입력 데이터, 묶음이란 의미이다.  \n",
    "\n",
    "> 배치 처리는 컴퓨터 계산시 큰 이점이 있다.  \n",
    "> 배치 처리로 큰 배열로 이루어진 계산을 한다.  \n",
    "> 컴퓨터에서는 큰 배열을 한꺼번에 계산하는 것이 분할된 작은 배열을 여러 번 계산하는 것보다 빠르다."
   ]
  },
  {
   "cell_type": "code",
   "execution_count": 140,
   "metadata": {},
   "outputs": [
    {
     "name": "stdout",
     "output_type": "stream",
     "text": [
      "정확도:0.9352\n"
     ]
    }
   ],
   "source": [
    "x, t = get_data()\n",
    "network = init_network()\n",
    "\n",
    "batch_size = 100 # 배치 크기\n",
    "accuracy_cnt = 0\n",
    "\n",
    "for i in range(0, len(x), batch_size): # 0부터 이미지 개수 -1까지 정수로 이루어진 리스트 반환하고, step 간격으로 증가한다.\n",
    "    x_batch = x[i:i+batch_size] # 100장씩 묶는다. x[0:100], x[100:200], ...\n",
    "    y_batch = predict(network, x_batch)\n",
    "    p = np.argmax(y_batch, axis = 1) # argmax() 최댓값의 인덱스를 가져온다. axis = 1 주의\n",
    "    accuracy_cnt += np.sum(p == t[i:i+batch_size]) # p로 얻은 값이 실제 레이블과 일치하는 경우의 합이다.\n",
    "    \n",
    "print(\"정확도:\" + str(float(accuracy_cnt) / len(x))) # 올바른 값 / 전체 이미지개수"
   ]
  },
  {
   "cell_type": "code",
   "execution_count": 137,
   "metadata": {},
   "outputs": [
    {
     "data": {
      "text/plain": [
       "[0, 1, 2, 3, 4, 5, 6, 7, 8, 9]"
      ]
     },
     "execution_count": 137,
     "metadata": {},
     "output_type": "execute_result"
    }
   ],
   "source": [
    "list( range(0, 10))"
   ]
  },
  {
   "cell_type": "code",
   "execution_count": 139,
   "metadata": {},
   "outputs": [
    {
     "data": {
      "text/plain": [
       "[0, 3, 6, 9]"
      ]
     },
     "execution_count": 139,
     "metadata": {},
     "output_type": "execute_result"
    }
   ],
   "source": [
    "list( range(0, 10, 3))"
   ]
  },
  {
   "cell_type": "code",
   "execution_count": 144,
   "metadata": {},
   "outputs": [
    {
     "name": "stdout",
     "output_type": "stream",
     "text": [
      "[1 2 1 0]\n"
     ]
    }
   ],
   "source": [
    "#np.argmax(,axis = 1)\n",
    "x = np.array([[0.1, 0.8, 0.1], [0.3, 0.1, 0.6], [0.2, 0.5, 0.3], [0.8, 0.1, 0.1]])\n",
    "y = np.argmax(x, axis = 1) # 1번째 차원을 축으로 최댓갑의 인덱스를 찾게 한다.\n",
    "print(y)"
   ]
  },
  {
   "cell_type": "code",
   "execution_count": 145,
   "metadata": {},
   "outputs": [
    {
     "name": "stdout",
     "output_type": "stream",
     "text": [
      "[3 0 1]\n"
     ]
    }
   ],
   "source": [
    "y1 = np.argmax(x, axis = 0) \n",
    "print(y1)"
   ]
  },
  {
   "cell_type": "markdown",
   "metadata": {},
   "source": [
    "> axis = 0 이라면, 왜 저런 답이 나오는가?\n",
    "\n",
    "    y1 = np.argmax(x, axis = 0) \n",
    "    print(y1)\n",
    "    [3 0 1]"
   ]
  },
  {
   "cell_type": "code",
   "execution_count": 148,
   "metadata": {},
   "outputs": [
    {
     "name": "stdout",
     "output_type": "stream",
     "text": [
      "[ True  True False  True]\n"
     ]
    }
   ],
   "source": [
    "# 배치 단위로 분류한 결과를 실제 답과 비교\n",
    "y = np.array([1,2,1,0])\n",
    "t = np.array([1,2,0,0])\n",
    "print(y==t) # == 연산자로 넘파이 배열끼리 비교하여 bool 배열 제작\n",
    "# True 개수를 센다."
   ]
  },
  {
   "cell_type": "code",
   "execution_count": 149,
   "metadata": {},
   "outputs": [
    {
     "data": {
      "text/plain": [
       "3"
      ]
     },
     "execution_count": 149,
     "metadata": {},
     "output_type": "execute_result"
    }
   ],
   "source": [
    "np.sum(y==t)"
   ]
  },
  {
   "cell_type": "markdown",
   "metadata": {},
   "source": [
    "$\\therefore$ 데이터를 배치 처리하여 효율적이고 빠르게 처리 가능하다."
   ]
  },
  {
   "cell_type": "markdown",
   "metadata": {},
   "source": [
    "## 정리\n",
    "신경망은 매끄러운 시그모이드 함수를 사용하고, 퍼셉트론은 갑자기 변하는 계단 함수를 활성화함수로 사용한다.  \n",
    "* 신경망에서는 활성화 함수로 시그모이드 함수와 ReLU 함수 같은 매끄럽게 변화하는 함수를 이용한다.\n",
    "* 넘파이의 다차원 배열을 잘 사용하면 신경망을 효율적으로 구현할 수 있다.\n",
    "* 기계학습 문제는 크게 회귀와 분류로 나눌 수 있다.\n",
    "* 출력층의 활성화 함수로는 회귀에서는 주로 항등 함수를, 분류에서는 주로 소프트맥스 함수를 이용한다.\n",
    "* 분류에서는 출력층의 뉴런 수를 **분류하려는 클래스 수**와 같게 설정한다.\n",
    "* 입력 데이터를 묶은 것을 배치라 하며, 추론 처리를 이 배치 단위로 진행하면 결과를 훨씬 빠르게 얻을 수 있다."
   ]
  }
 ],
 "metadata": {
  "kernelspec": {
   "display_name": "Python 3",
   "language": "python",
   "name": "python3"
  },
  "language_info": {
   "codemirror_mode": {
    "name": "ipython",
    "version": 3
   },
   "file_extension": ".py",
   "mimetype": "text/x-python",
   "name": "python",
   "nbconvert_exporter": "python",
   "pygments_lexer": "ipython3",
   "version": "3.7.3"
  }
 },
 "nbformat": 4,
 "nbformat_minor": 2
}
