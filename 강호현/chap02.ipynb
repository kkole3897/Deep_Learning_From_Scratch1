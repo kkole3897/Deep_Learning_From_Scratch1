{
 "cells": [
  {
   "cell_type": "markdown",
   "metadata": {},
   "source": [
    "# 퍼셉트론\n",
    "\n",
    "퍼셉트론 perceptron 알고리즘. \n",
    "프랑크 로젠블라트가 1957년 고안한 알고리즘이고, 신경망(딥러닝)의 기원이 되는 알고리즘이다. 퍼셉트론은 딥러닝으로 나아가는 데 중요한 아이디어를 준다."
   ]
  },
  {
   "cell_type": "markdown",
   "metadata": {},
   "source": [
    "## 퍼셉트론\n"
   ]
  },
  {
   "cell_type": "markdown",
   "metadata": {},
   "source": [
    "다수의 신호를 입력으로 하나의 신호를 출력한다.  \n",
    "* 신호 : 전류나 강물처럼 흐름  \n",
    "* 1을 신호가 흐른다. 0을 신호가 흐르지 않는다.  \n",
    "\n",
    "* 입력이 2개인 퍼셉트론  \n",
    "원 : 뉴런, 노드  \n",
    "입력 신호가 뉴런에 보내질 때는 고유한 가중치 곱해진다.  \n",
    "뉴런에서 보내온 **신호의 총합**이 정해진 한계를 넘어서면 1을 출력한다. 뉴런이 활성화한다.\n",
    "복수의 입력 신호 각각에 고유한 가중치를 부여하고, **가중치는 각 신호가 결과에 주는 영향력을 조절**하는 요소 작용한다.  \n",
    "* 가중치가 클수록 해당 신호가 그만큼 **더 중요함**을 뜻한다."
   ]
  },
  {
   "cell_type": "markdown",
   "metadata": {},
   "source": [
    "## 단순한 논리 회로\n",
    "### AND 게이트\n",
    "입력이 둘이고 출력이 하나인 논리 회로. \n",
    "* 진리표 : 입력과 출력 신호의 대응 표. \n",
    "두 입력이 모두 1일 때만 1을 출력, 나머지 0을 출력.  \n",
    "이를 퍼셉트론으로 출력해 볼 수 있다.  \n",
    "* 조건 : 진리표대로 작동하는 $w_1, w_2, \\theta$의 값을 정한다.\n",
    "\n",
    "### NAND 게이트\n",
    "Not AND : AND 게이트 뒤집은 동작  \n",
    "두 입력이 모두 1일 때만 0을 출력, 나머지 1을 출력  \n",
    "* AND 게이트 매개변수의 부호를 모두 반전하기만 하면 NAND가 된다.\n",
    "\n",
    "### OR 게이트\n",
    "입력 신호 중 하나 이상이 1이면 출력이 1이 되는 논리회로  \n",
    "> 매개 변수는 어떻게 설정할지 생각해보자?\n",
    "\n",
    "#### 퍼셉트론의 매개변수\n",
    "이 매개변수 값은 인간이 설정한다. 인간은 진리표를 보면서 매개변수의 값을 생각한다.  \n",
    "기계학습은 이 매개변수의 값을 컴퓨터가 자동으로 정하도록 한다.  \n",
    "**학습**은 적절한 매개변수 값을 정하는 작업이다."
   ]
  },
  {
   "cell_type": "markdown",
   "metadata": {},
   "source": [
    "## 퍼셉트론 구현하기\n"
   ]
  },
  {
   "cell_type": "code",
   "execution_count": 2,
   "metadata": {},
   "outputs": [],
   "source": [
    "#간단한 구현부터\n",
    "def AND(x1, x2):\n",
    "    w1, w2, theta = 0.5, 0.5, 0.7 #함수 내에서 초기화한다.\n",
    "    tmp = x1*w1 + x2*w2\n",
    "    if tmp <= theta:\n",
    "        return 0\n",
    "    elif tmp > theta:\n",
    "        return 1"
   ]
  },
  {
   "cell_type": "code",
   "execution_count": 3,
   "metadata": {},
   "outputs": [
    {
     "data": {
      "text/plain": [
       "0"
      ]
     },
     "execution_count": 3,
     "metadata": {},
     "output_type": "execute_result"
    }
   ],
   "source": [
    "AND(0,0)"
   ]
  },
  {
   "cell_type": "code",
   "execution_count": 4,
   "metadata": {},
   "outputs": [
    {
     "data": {
      "text/plain": [
       "0"
      ]
     },
     "execution_count": 4,
     "metadata": {},
     "output_type": "execute_result"
    }
   ],
   "source": [
    "AND(1,0)"
   ]
  },
  {
   "cell_type": "code",
   "execution_count": 5,
   "metadata": {},
   "outputs": [
    {
     "data": {
      "text/plain": [
       "0"
      ]
     },
     "execution_count": 5,
     "metadata": {},
     "output_type": "execute_result"
    }
   ],
   "source": [
    "AND(0,1)"
   ]
  },
  {
   "cell_type": "code",
   "execution_count": 6,
   "metadata": {},
   "outputs": [
    {
     "data": {
      "text/plain": [
       "1"
      ]
     },
     "execution_count": 6,
     "metadata": {},
     "output_type": "execute_result"
    }
   ],
   "source": [
    "AND(1,1)"
   ]
  },
  {
   "cell_type": "markdown",
   "metadata": {},
   "source": [
    "### 가중치와 편향 도입\n",
    "$\\theta 를 -b$로 치환한다.  \n",
    "b는 편향(bias)라고 하고, $w_1, w_2$는 가중치이다.  \n",
    "퍼셉트론은 입력신호에 가중치를 곱한 값과 편향을 합쳐서 0을 넘으면 1을 출력하고 아니면 0을 출력한다."
   ]
  },
  {
   "cell_type": "code",
   "execution_count": 8,
   "metadata": {},
   "outputs": [
    {
     "data": {
      "text/plain": [
       "array([0. , 0.5])"
      ]
     },
     "execution_count": 8,
     "metadata": {},
     "output_type": "execute_result"
    }
   ],
   "source": [
    "import numpy as np\n",
    "x = np.array([0, 1]) # 입력 신호를 준다.\n",
    "w = np.array([0.5, 0.5]) # weight\n",
    "b = -0.7\n",
    "w*x"
   ]
  },
  {
   "cell_type": "code",
   "execution_count": 9,
   "metadata": {},
   "outputs": [
    {
     "data": {
      "text/plain": [
       "0.5"
      ]
     },
     "execution_count": 9,
     "metadata": {},
     "output_type": "execute_result"
    }
   ],
   "source": [
    "np.sum(w*x)"
   ]
  },
  {
   "cell_type": "code",
   "execution_count": 11,
   "metadata": {},
   "outputs": [
    {
     "data": {
      "text/plain": [
       "-0.19999999999999996"
      ]
     },
     "execution_count": 11,
     "metadata": {},
     "output_type": "execute_result"
    }
   ],
   "source": [
    "np.sum(w*x) + b #약 -0.2 부동소수점 수에 의한 연산 오차"
   ]
  },
  {
   "cell_type": "code",
   "execution_count": 13,
   "metadata": {},
   "outputs": [],
   "source": [
    "#가중치와 편향 구현하기\n",
    "def AND(x1, x2):\n",
    "    x = np.array([x1, x2])\n",
    "    w = np.array([0.5, 0.5])\n",
    "    b = -0.7 # -theta는 편향 b로 치환한다.\n",
    "    tmp = np.sum(w*x) + b\n",
    "    if tmp <= 0:\n",
    "        return 0\n",
    "    else:\n",
    "        return 1"
   ]
  },
  {
   "cell_type": "markdown",
   "metadata": {},
   "source": [
    "편향은 가중치와 기능이 다르다.  \n",
    "$w_1, w_2$ 입력 신호가 결과에 주는 영향력(중요도)를 조절하는 매개변수.  \n",
    "편향 : 뉴런이 얼마나 **쉽게 활성화(1출력)**을 조정하는 매개변수.  \n",
    "편향은 균형을 깬다는 것으로 입력이 모두 0이라도 더이상 0이 나오지 않는다. 편향값이 출력되기 때문이다."
   ]
  },
  {
   "cell_type": "code",
   "execution_count": 14,
   "metadata": {},
   "outputs": [],
   "source": [
    "# NAND, OR gate\n",
    "def NAND(x1, x2):\n",
    "    x = np.array([x1, x2])\n",
    "    w = np.array([-0.5, -0.5]) # AND와 가중치가 다르다!\n",
    "    b = 0.7\n",
    "    tmp = np.sum(w*x) + b\n",
    "    if tmp <= 0:\n",
    "        return 0\n",
    "    else:\n",
    "        return 1 #합이 0보다 작으면 0을 출력하고, 크면 1을 출력한다. 이건 동일하다.\n",
    "\n",
    "def OR(x1, x2):\n",
    "    x = np.array([x1, x2])\n",
    "    w = np.array([0.5, 0.5])\n",
    "    b = -0.2\n",
    "    tmp = np.sum(w*x) + b\n",
    "    if tmp <= 0:\n",
    "        return 0\n",
    "    else:\n",
    "        return 1"
   ]
  },
  {
   "cell_type": "markdown",
   "metadata": {},
   "source": [
    "AND, NAND, OR은 모두 같은 구조의 퍼셉트론이고, 차이는 **가중치 매개변수의 값** 뿐이다.  \n",
    "코드를 봐도 동일하다."
   ]
  },
  {
   "cell_type": "markdown",
   "metadata": {},
   "source": [
    "## 퍼셉트론의 한계\n",
    "### XOR 게이트!\n",
    "배타적 논리합이라는 논리 회로이다. 한쪽이 1일 때만 1을 출력한다.  \n",
    "직선 하나로는 나눌 수 없다. 직선이라는 제약을 없애야 가능하다.  \n",
    "* 비선형 : 곡선의 영역\n",
    "* 선형 : 직선의 영역  \n",
    "\"단층 퍼셉트론 single-layer perceptron으로는 XOR 게이트를 표현할 수 없다.\"  \n",
    "\"단층 퍼셉트론으로는 비선형 영역을 분리할 수 없다.\""
   ]
  },
  {
   "cell_type": "markdown",
   "metadata": {},
   "source": [
    "## 다층 퍼셉트론이 출동한다면?\n",
    "다층 퍼셉트론(multi-layer perceptron)을 만들 수 있다. 층을 쌓아서 구성한다.\n",
    "\n",
    "### 기존 게이트 조합하기\n",
    "AND, NAND, OR 게이트를 조합한다. \n",
    "진리표에 NAND 출력을 $s_1$, OR 출력을 $s_2$라고 하자. $x_1, x_2, y$를 보면 XOR이다."
   ]
  },
  {
   "cell_type": "code",
   "execution_count": 15,
   "metadata": {},
   "outputs": [],
   "source": [
    "# XOR 게이트 구현하기\n",
    "def XOR(x1, x2):\n",
    "    s1 = NAND(x1, x2)\n",
    "    s2 = OR(x1, x2)\n",
    "    y = AND(s1, s2)\n",
    "    return y"
   ]
  },
  {
   "cell_type": "code",
   "execution_count": 16,
   "metadata": {},
   "outputs": [
    {
     "data": {
      "text/plain": [
       "0"
      ]
     },
     "execution_count": 16,
     "metadata": {},
     "output_type": "execute_result"
    }
   ],
   "source": [
    "XOR(0,0)"
   ]
  },
  {
   "cell_type": "code",
   "execution_count": 17,
   "metadata": {},
   "outputs": [
    {
     "data": {
      "text/plain": [
       "1"
      ]
     },
     "execution_count": 17,
     "metadata": {},
     "output_type": "execute_result"
    }
   ],
   "source": [
    "XOR(0,1)"
   ]
  },
  {
   "cell_type": "code",
   "execution_count": 18,
   "metadata": {},
   "outputs": [
    {
     "data": {
      "text/plain": [
       "1"
      ]
     },
     "execution_count": 18,
     "metadata": {},
     "output_type": "execute_result"
    }
   ],
   "source": [
    "XOR(1,0)"
   ]
  },
  {
   "cell_type": "code",
   "execution_count": 19,
   "metadata": {},
   "outputs": [
    {
     "data": {
      "text/plain": [
       "0"
      ]
     },
     "execution_count": 19,
     "metadata": {},
     "output_type": "execute_result"
    }
   ],
   "source": [
    "XOR(1,1)"
   ]
  },
  {
   "cell_type": "markdown",
   "metadata": {},
   "source": [
    "XOR : 다층 구조의 네트워크. \n",
    "XOR 퍼셉트론을 보자.  \n",
    "왼쪽부터 0층, 1층, 2층이라 부르고, 2층 퍼셉트론이다.  \n",
    "층이 여러 개인 퍼셉트론을 **다층 퍼셉트론**이라 한다."
   ]
  },
  {
   "cell_type": "markdown",
   "metadata": {},
   "source": [
    "가중치를 갖는 층이 2개이므로 2층 퍼셉트론이라 부른다. 문맥에 따라 3층 퍼셉트론이라고도 한다.  \n",
    "> 1. 0층의 두 뉴런이 입력 신호를 받아 1층의 뉴런으로 신호를 보낸다.\n",
    "> 2. 1층의 뉴런이 2층의 뉴런으로 신호를 보내고, 2층의 뉴런은 $y$를 출력한다.\n",
    "\n",
    "2층 퍼셉트론의 동작은 공장에서 작업자들 사이에서 부품을 전달하는 일과 같다.  \n",
    "단층 퍼셉트론으로는 표현하지 못한 것을 층을 하나 늘려 구현할 수 있다."
   ]
  },
  {
   "cell_type": "markdown",
   "metadata": {},
   "source": [
    "## NAND에서 컴퓨터까지\n",
    "이론상 2층 퍼셉트론이면 컴퓨터를 만들 수 있다.\n",
    "## 정리\n",
    "퍼셉트론은 입출력을 갖춘 알고리즘이다. 입력을 주면 정해진 규칙에 따른 값을 출력한다. \n",
    "퍼셉트론은 가중치와 편향을 매개변수로 설정한다.  \n",
    "퍼셉트론으로 AND, OR 게이트 등 논리 회로를 표현한다.  \n",
    "다만, XOR 게이트는 단층 퍼셉트론으로는 표현할 수 없고, 2층 퍼셉트론을 이용하면 가능하다.  \n",
    "단층 퍼셉트론은 직선형 영역만 표현할 수 있고, 다층 퍼셉트론은 비선형 영역도 표현 가능하다.  \n",
    "다층 퍼셉트론은 이론상 컴퓨터를 표현할 수 있다."
   ]
  },
  {
   "cell_type": "code",
   "execution_count": null,
   "metadata": {},
   "outputs": [],
   "source": []
  }
 ],
 "metadata": {
  "kernelspec": {
   "display_name": "Python 3",
   "language": "python",
   "name": "python3"
  },
  "language_info": {
   "codemirror_mode": {
    "name": "ipython",
    "version": 3
   },
   "file_extension": ".py",
   "mimetype": "text/x-python",
   "name": "python",
   "nbconvert_exporter": "python",
   "pygments_lexer": "ipython3",
   "version": "3.7.3"
  }
 },
 "nbformat": 4,
 "nbformat_minor": 2
}
